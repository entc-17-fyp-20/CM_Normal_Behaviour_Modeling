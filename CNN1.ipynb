{
  "nbformat": 4,
  "nbformat_minor": 0,
  "metadata": {
    "colab": {
      "name": "CNN1.ipynb",
      "provenance": [],
      "mount_file_id": "1hhxmLdbLiT2fNNmw1VnrVet9KvSs4tsB",
      "authorship_tag": "ABX9TyOhaJTqUhQfl9ROnILYuP1l",
      "include_colab_link": true
    },
    "kernelspec": {
      "name": "python3",
      "display_name": "Python 3"
    },
    "language_info": {
      "name": "python"
    }
  },
  "cells": [
    {
      "cell_type": "markdown",
      "metadata": {
        "id": "view-in-github",
        "colab_type": "text"
      },
      "source": [
        "<a href=\"https://colab.research.google.com/github/entc-17-fyp-20/CM_Normal_Behaviour_Modeling/blob/main/CNN1.ipynb\" target=\"_parent\"><img src=\"https://colab.research.google.com/assets/colab-badge.svg\" alt=\"Open In Colab\"/></a>"
      ]
    },
    {
      "cell_type": "markdown",
      "metadata": {
        "id": "w_sWNneMfHmN"
      },
      "source": [
        "# Loading"
      ]
    },
    {
      "cell_type": "code",
      "metadata": {
        "id": "h98Me_SNS30m"
      },
      "source": [
        "# multivariate data preparation\n",
        "from numpy import array\n",
        "from numpy import hstack\n",
        "import pandas as pd\n",
        "import numpy as np\n",
        "\n",
        "from keras.models import Sequential\n",
        "from keras.layers import Dense\n",
        "from keras.layers import Flatten\n",
        "from keras.layers.convolutional import Conv1D\n",
        "from keras.layers.convolutional import MaxPooling1D\n",
        "\n",
        "# split a multivariate sequence into samples\n",
        "def split_sequences(sequences, n_steps):\n",
        "\tX, y = list(), list()\n",
        "\tfor i in range(len(sequences)):\n",
        "\t\t# find the end of this pattern\n",
        "\t\tend_ix = i + n_steps\n",
        "\t\t# check if we are beyond the dataset\n",
        "\t\tif end_ix > len(sequences):\n",
        "\t\t\tbreak\n",
        "\t\t# gather input and output parts of the pattern\n",
        "\t\tseq_x, seq_y = sequences[i:end_ix, :-1], sequences[end_ix-1, -1]\n",
        "\t\tX.append(seq_x)\n",
        "\t\ty.append(seq_y)\n",
        "\treturn array(X), array(y)"
      ],
      "execution_count": 129,
      "outputs": []
    },
    {
      "cell_type": "code",
      "metadata": {
        "id": "-00gDgoXe3j4"
      },
      "source": [
        "#@title Select Dataset New { display-mode: \"form\" }\n",
        "turbine = 'T01' #@param [\"T01\", \"T02\",\"T03\",\"T22\",\"T34\",\"T54\"]\n",
        "path = '/content/drive/MyDrive/IIoT - Wind Turbine/FYP/Dataset/Merged/' + turbine + '.csv'\n",
        "df = pd.read_csv(path)\n",
        "df['Date_Time'] = pd.to_datetime(df['Date_Time'], format=\"%Y-%m-%d %H:%M:%S\")\n",
        "df = df.set_index(df['Date_Time'])"
      ],
      "execution_count": 116,
      "outputs": []
    },
    {
      "cell_type": "code",
      "metadata": {
        "id": "809oqIDFKuQE"
      },
      "source": [
        "#@title Window size { display-mode: \"form\" }\n",
        "n_steps = 5 #@param {type:\"slider\", min:2, max:6, step:1}"
      ],
      "execution_count": 117,
      "outputs": []
    },
    {
      "cell_type": "code",
      "metadata": {
        "id": "zf_OdQd6bclX"
      },
      "source": [
        "df1 = df[:'2017-03-19 05:10:00']\n",
        "df2 = df['2017-04-13 16:10:00':\"2017-05-31 00:00:00\"]\n",
        "df3 = df[\"2017-06-01 00:00:00\":\"2017-07-20 02:50:00\"]\n",
        "df4 = df['2017-07-21 08:10:00':'2017-08-14 05:20:00']\n",
        "df5 = df['2018-01-15 12:00:00':\"2018-02-10 23:50:00\"]\n",
        "df6 = df['2018-02-13 00:00:00':'2018-04-21 06:40:00']\n",
        "df7 = df['2018-05-01 10:10:00':\"2018-05-31 00:00:00\"]\n",
        "df8 = df['2018-06-01 00:00:00':'2018-08-14 06:50:00']\n",
        "df9 = df['2018-08-21 07:00:00':]"
      ],
      "execution_count": 118,
      "outputs": []
    },
    {
      "cell_type": "markdown",
      "metadata": {
        "id": "C2eZwL_85n27"
      },
      "source": [
        "# Training "
      ]
    },
    {
      "cell_type": "code",
      "metadata": {
        "colab": {
          "base_uri": "https://localhost:8080/"
        },
        "id": "_P3dH8Ummdbc",
        "outputId": "2955f96b-0708-4922-a827-a14cbef528b8"
      },
      "source": [
        "df1.drop(\"Date_Time\", axis='columns', inplace=True)\n",
        "df1.drop('Possible_Active_Power', axis='columns', inplace=True)\n",
        "cols = df1.columns.tolist()\n",
        "cols = cols[:5] + cols[6:] + [cols[5]]\n",
        "df1 = df1[cols]\n",
        "df1 = df1.to_numpy()\n",
        "\n",
        "# convert into input/output\n",
        "X1, y1 = split_sequences(df1, n_steps)\n",
        "print(X1.shape, y1.shape)"
      ],
      "execution_count": 119,
      "outputs": [
        {
          "output_type": "stream",
          "name": "stdout",
          "text": [
            "(11116, 5, 12) (11116,)\n"
          ]
        },
        {
          "output_type": "stream",
          "name": "stderr",
          "text": [
            "/usr/local/lib/python3.7/dist-packages/pandas/core/frame.py:4174: SettingWithCopyWarning: \n",
            "A value is trying to be set on a copy of a slice from a DataFrame\n",
            "\n",
            "See the caveats in the documentation: https://pandas.pydata.org/pandas-docs/stable/user_guide/indexing.html#returning-a-view-versus-a-copy\n",
            "  errors=errors,\n"
          ]
        }
      ]
    },
    {
      "cell_type": "code",
      "metadata": {
        "colab": {
          "base_uri": "https://localhost:8080/"
        },
        "id": "qB0WQY8v16vG",
        "outputId": "9c114acb-b833-40e3-ed18-56bd0f0ac833"
      },
      "source": [
        "df2.drop(\"Date_Time\", axis='columns', inplace=True)\n",
        "df2.drop('Possible_Active_Power', axis='columns', inplace=True)\n",
        "cols = df2.columns.tolist()\n",
        "cols = cols[:5] + cols[6:] + [cols[5]]\n",
        "df2 = df2[cols]\n",
        "df2 = df2.to_numpy()\n",
        "\n",
        "# convert into input/output\n",
        "X2, y2 = split_sequences(df2, n_steps)\n",
        "print(X2.shape, y2.shape)"
      ],
      "execution_count": 120,
      "outputs": [
        {
          "output_type": "stream",
          "name": "stdout",
          "text": [
            "(6812, 5, 12) (6812,)\n"
          ]
        },
        {
          "output_type": "stream",
          "name": "stderr",
          "text": [
            "/usr/local/lib/python3.7/dist-packages/pandas/core/frame.py:4174: SettingWithCopyWarning: \n",
            "A value is trying to be set on a copy of a slice from a DataFrame\n",
            "\n",
            "See the caveats in the documentation: https://pandas.pydata.org/pandas-docs/stable/user_guide/indexing.html#returning-a-view-versus-a-copy\n",
            "  errors=errors,\n"
          ]
        }
      ]
    },
    {
      "cell_type": "code",
      "metadata": {
        "colab": {
          "base_uri": "https://localhost:8080/"
        },
        "id": "iRZ3RVNWaDxC",
        "outputId": "119aaf6f-0b45-4664-c620-0e26e85fb354"
      },
      "source": [
        "df3.drop(\"Date_Time\", axis='columns', inplace=True)\n",
        "df3.drop('Possible_Active_Power', axis='columns', inplace=True)\n",
        "cols = df3.columns.tolist()\n",
        "cols = cols[:5] + cols[6:] + [cols[5]]\n",
        "df3 = df3[cols]\n",
        "df3 = df3.to_numpy()\n",
        "\n",
        "# convert into input/output\n",
        "X3, y3 = split_sequences(df3, n_steps)\n",
        "print(X3.shape, y3.shape)"
      ],
      "execution_count": 121,
      "outputs": [
        {
          "output_type": "stream",
          "name": "stdout",
          "text": [
            "(7047, 5, 12) (7047,)\n"
          ]
        },
        {
          "output_type": "stream",
          "name": "stderr",
          "text": [
            "/usr/local/lib/python3.7/dist-packages/pandas/core/frame.py:4174: SettingWithCopyWarning: \n",
            "A value is trying to be set on a copy of a slice from a DataFrame\n",
            "\n",
            "See the caveats in the documentation: https://pandas.pydata.org/pandas-docs/stable/user_guide/indexing.html#returning-a-view-versus-a-copy\n",
            "  errors=errors,\n"
          ]
        }
      ]
    },
    {
      "cell_type": "code",
      "metadata": {
        "colab": {
          "base_uri": "https://localhost:8080/"
        },
        "id": "uF5rhW5OQqxj",
        "outputId": "673a3e92-0cce-4f38-d831-7b4a8b4505bd"
      },
      "source": [
        "df4.drop(\"Date_Time\", axis='columns', inplace=True)\n",
        "df4.drop('Possible_Active_Power', axis='columns', inplace=True)\n",
        "cols = df4.columns.tolist()\n",
        "cols = cols[:5] + cols[6:] + [cols[5]]\n",
        "df4 = df4[cols]\n",
        "df4 = df4.to_numpy()\n",
        "\n",
        "# convert into input/output\n",
        "X4, y4 = split_sequences(df4, n_steps)\n",
        "print(X4.shape, y4.shape)"
      ],
      "execution_count": 122,
      "outputs": [
        {
          "output_type": "stream",
          "name": "stdout",
          "text": [
            "(3425, 5, 12) (3425,)\n"
          ]
        },
        {
          "output_type": "stream",
          "name": "stderr",
          "text": [
            "/usr/local/lib/python3.7/dist-packages/pandas/core/frame.py:4174: SettingWithCopyWarning: \n",
            "A value is trying to be set on a copy of a slice from a DataFrame\n",
            "\n",
            "See the caveats in the documentation: https://pandas.pydata.org/pandas-docs/stable/user_guide/indexing.html#returning-a-view-versus-a-copy\n",
            "  errors=errors,\n"
          ]
        }
      ]
    },
    {
      "cell_type": "code",
      "metadata": {
        "colab": {
          "base_uri": "https://localhost:8080/"
        },
        "id": "U9op7hb3VBG4",
        "outputId": "832c2cff-b398-4dc8-eafb-f8b6b418c5be"
      },
      "source": [
        "df5.drop(\"Date_Time\", axis='columns', inplace=True)\n",
        "df5.drop('Possible_Active_Power', axis='columns', inplace=True)\n",
        "cols = df5.columns.tolist()\n",
        "cols = cols[:5] + cols[6:] + [cols[5]]\n",
        "df5 = df5[cols]\n",
        "df5 = df5.to_numpy()\n",
        "\n",
        "# convert into input/output\n",
        "X5, y5 = split_sequences(df5, n_steps)\n",
        "print(X5.shape, y5.shape)"
      ],
      "execution_count": 123,
      "outputs": [
        {
          "output_type": "stream",
          "name": "stderr",
          "text": [
            "/usr/local/lib/python3.7/dist-packages/pandas/core/frame.py:4174: SettingWithCopyWarning: \n",
            "A value is trying to be set on a copy of a slice from a DataFrame\n",
            "\n",
            "See the caveats in the documentation: https://pandas.pydata.org/pandas-docs/stable/user_guide/indexing.html#returning-a-view-versus-a-copy\n",
            "  errors=errors,\n"
          ]
        },
        {
          "output_type": "stream",
          "name": "stdout",
          "text": [
            "(3812, 5, 12) (3812,)\n"
          ]
        }
      ]
    },
    {
      "cell_type": "code",
      "metadata": {
        "colab": {
          "base_uri": "https://localhost:8080/"
        },
        "id": "xieUQzaS8CTV",
        "outputId": "0f3e2a8c-71d8-436d-df6c-dbebf2b5e33b"
      },
      "source": [
        "df6.drop(\"Date_Time\", axis='columns', inplace=True)\n",
        "df6.drop('Possible_Active_Power', axis='columns', inplace=True)\n",
        "cols = df6.columns.tolist()\n",
        "cols = cols[:5] + cols[6:] + [cols[5]]\n",
        "df6 = df6[cols]\n",
        "df6 = df6.to_numpy()\n",
        "\n",
        "# convert into input/output\n",
        "X6, y6 = split_sequences(df6, n_steps)\n",
        "print(X6.shape, y6.shape)"
      ],
      "execution_count": 124,
      "outputs": [
        {
          "output_type": "stream",
          "name": "stderr",
          "text": [
            "/usr/local/lib/python3.7/dist-packages/pandas/core/frame.py:4174: SettingWithCopyWarning: \n",
            "A value is trying to be set on a copy of a slice from a DataFrame\n",
            "\n",
            "See the caveats in the documentation: https://pandas.pydata.org/pandas-docs/stable/user_guide/indexing.html#returning-a-view-versus-a-copy\n",
            "  errors=errors,\n"
          ]
        },
        {
          "output_type": "stream",
          "name": "stdout",
          "text": [
            "(9662, 5, 12) (9662,)\n"
          ]
        }
      ]
    },
    {
      "cell_type": "code",
      "metadata": {
        "id": "vkgHSCmMSkaK"
      },
      "source": [
        "df7.drop(\"Date_Time\", axis='columns', inplace=True)\n",
        "df7.drop('Possible_Active_Power', axis='columns', inplace=True)\n",
        "cols = df7.columns.tolist()\n",
        "cols = cols[:5] + cols[6:] + [cols[5]]\n",
        "df7 = df7[cols]\n",
        "df7 = df7.to_numpy()\n",
        "\n",
        "# convert into input/output\n",
        "X7, y7 = split_sequences(df7, n_steps)\n",
        "print(X7.shape, y7.shape)"
      ],
      "execution_count": null,
      "outputs": []
    },
    {
      "cell_type": "code",
      "metadata": {
        "id": "i2mlOppaQ-94"
      },
      "source": [
        "# Concatenating datasets\n",
        "X_train = np.concatenate((X1,X2,X3,X4,X5,X6,X7))\n",
        "y_train = np.concatenate((y1,y2,y3,y4,y5,y6,y7))"
      ],
      "execution_count": 133,
      "outputs": []
    },
    {
      "cell_type": "code",
      "metadata": {
        "colab": {
          "base_uri": "https://localhost:8080/"
        },
        "id": "MfLAtumN3wKp",
        "outputId": "d607eb77-1244-4a61-f4ca-e82583759d16"
      },
      "source": [
        "n_features = X_train.shape[2]\n",
        "\n",
        "# define model\n",
        "model = Sequential()\n",
        "model.add(Conv1D(filters=64, kernel_size=2, activation='relu', input_shape=(n_steps, n_features)))\n",
        "model.add(MaxPooling1D(pool_size=2))\n",
        "model.add(Flatten())\n",
        "model.add(Dense(50, activation='relu'))\n",
        "model.add(Dense(1))\n",
        "model.compile(optimizer='adam', loss='mse')\n",
        "\n",
        "# fit model\n",
        "model.fit(X_train, y_train, epochs=1000, verbose=0)"
      ],
      "execution_count": 134,
      "outputs": [
        {
          "output_type": "execute_result",
          "data": {
            "text/plain": [
              "<keras.callbacks.History at 0x7f043fbc8b50>"
            ]
          },
          "metadata": {},
          "execution_count": 134
        }
      ]
    },
    {
      "cell_type": "markdown",
      "metadata": {
        "id": "pwDNypNW5sVI"
      },
      "source": [
        "# Testing"
      ]
    },
    {
      "cell_type": "code",
      "metadata": {
        "colab": {
          "base_uri": "https://localhost:8080/"
        },
        "id": "5FuZeE-qTWRt",
        "outputId": "a0ccef42-7e60-4058-a701-3259e82c37f4"
      },
      "source": [
        "df8.drop(\"Date_Time\", axis='columns', inplace=True)\n",
        "df8.drop('Possible_Active_Power', axis='columns', inplace=True)\n",
        "cols = df8.columns.tolist()\n",
        "cols = cols[:5] + cols[6:] + [cols[5]]\n",
        "df8 = df8[cols]\n",
        "df8 = df8.to_numpy()\n",
        "\n",
        "# convert into input/output\n",
        "X8, y8 = split_sequences(df8, n_steps)\n",
        "print(X8.shape, y8.shape)"
      ],
      "execution_count": 135,
      "outputs": [
        {
          "output_type": "stream",
          "name": "stdout",
          "text": [
            "(10689, 5, 12) (10689,)\n"
          ]
        },
        {
          "output_type": "stream",
          "name": "stderr",
          "text": [
            "/usr/local/lib/python3.7/dist-packages/pandas/core/frame.py:4174: SettingWithCopyWarning: \n",
            "A value is trying to be set on a copy of a slice from a DataFrame\n",
            "\n",
            "See the caveats in the documentation: https://pandas.pydata.org/pandas-docs/stable/user_guide/indexing.html#returning-a-view-versus-a-copy\n",
            "  errors=errors,\n"
          ]
        }
      ]
    },
    {
      "cell_type": "code",
      "metadata": {
        "colab": {
          "base_uri": "https://localhost:8080/"
        },
        "id": "IpdaP2KtSluI",
        "outputId": "d5bb4976-a746-4789-f3ab-5122c4cb1c75"
      },
      "source": [
        "df9.drop(\"Date_Time\", axis='columns', inplace=True)\n",
        "df9.drop('Possible_Active_Power', axis='columns', inplace=True)\n",
        "cols = df9.columns.tolist()\n",
        "cols = cols[:5] + cols[6:] + [cols[5]]\n",
        "df9 = df9[cols]\n",
        "df9 = df9.to_numpy()\n",
        "\n",
        "# convert into input/output\n",
        "X9, y9 = split_sequences(df9, n_steps)\n",
        "print(X9.shape, y9.shape)"
      ],
      "execution_count": 136,
      "outputs": [
        {
          "output_type": "stream",
          "name": "stdout",
          "text": [
            "(18559, 5, 12) (18559,)\n"
          ]
        },
        {
          "output_type": "stream",
          "name": "stderr",
          "text": [
            "/usr/local/lib/python3.7/dist-packages/pandas/core/frame.py:4174: SettingWithCopyWarning: \n",
            "A value is trying to be set on a copy of a slice from a DataFrame\n",
            "\n",
            "See the caveats in the documentation: https://pandas.pydata.org/pandas-docs/stable/user_guide/indexing.html#returning-a-view-versus-a-copy\n",
            "  errors=errors,\n"
          ]
        }
      ]
    },
    {
      "cell_type": "code",
      "metadata": {
        "id": "zFPTCx6zT1XB"
      },
      "source": [
        "# Concatenating datasets\n",
        "X_train = np.concatenate((X8,X9))\n",
        "y_train = np.concatenate((y8,y9))"
      ],
      "execution_count": 137,
      "outputs": []
    },
    {
      "cell_type": "code",
      "metadata": {
        "colab": {
          "base_uri": "https://localhost:8080/"
        },
        "id": "oAtkro2u5ucu",
        "outputId": "3f68655d-2400-45ff-ec69-10fb7dc98742"
      },
      "source": [
        "# demonstrate prediction\n",
        "yhat = model.predict(X_test, verbose=0)\n",
        "print(yhat,y_test)"
      ],
      "execution_count": 138,
      "outputs": [
        {
          "output_type": "stream",
          "name": "stdout",
          "text": [
            "[[1455.9427 ]\n",
            " [1026.8528 ]\n",
            " [1077.9958 ]\n",
            " ...\n",
            " [ 981.05914]\n",
            " [1357.0085 ]\n",
            " [1411.3514 ]] [1068.4  894.7  776.6 ...  902.4 1450.4 1223.9]\n"
          ]
        }
      ]
    },
    {
      "cell_type": "code",
      "metadata": {
        "id": "YxI8-XK-ALeQ"
      },
      "source": [
        "yhat = yhat.reshape(yhat.shape[0],)"
      ],
      "execution_count": 139,
      "outputs": []
    },
    {
      "cell_type": "code",
      "metadata": {
        "id": "Zba4pisd-pKY"
      },
      "source": [
        "df_final=pd.DataFrame({'y_hat':yhat,'y_test':y_test})"
      ],
      "execution_count": 140,
      "outputs": []
    },
    {
      "cell_type": "code",
      "metadata": {
        "id": "s0BpM-Kk-2CK"
      },
      "source": [
        "df_final['difference'] = df_final['y_hat']-df_final['y_test']"
      ],
      "execution_count": 141,
      "outputs": []
    },
    {
      "cell_type": "code",
      "metadata": {
        "id": "T1swewlOIy3d"
      },
      "source": [
        "df_final[\"abs_difference\"] = abs(df_final['y_hat']-df_final['y_test'])"
      ],
      "execution_count": 144,
      "outputs": []
    },
    {
      "cell_type": "code",
      "metadata": {
        "colab": {
          "base_uri": "https://localhost:8080/"
        },
        "id": "iBSV8B7jIzxC",
        "outputId": "2ed9f3d8-ea44-4a06-fd37-d2f3f205759e"
      },
      "source": [
        "df_final[\"difference\"].mean()"
      ],
      "execution_count": 143,
      "outputs": [
        {
          "output_type": "execute_result",
          "data": {
            "text/plain": [
              "17.211344332342794"
            ]
          },
          "metadata": {},
          "execution_count": 143
        }
      ]
    },
    {
      "cell_type": "code",
      "metadata": {
        "colab": {
          "base_uri": "https://localhost:8080/"
        },
        "id": "R-lIkq6FhZyY",
        "outputId": "10df4279-50ff-4e46-f29c-3154da41323f"
      },
      "source": [
        "df_final[\"abs_difference\"].mean()"
      ],
      "execution_count": 145,
      "outputs": [
        {
          "output_type": "execute_result",
          "data": {
            "text/plain": [
              "69.46230861352761"
            ]
          },
          "metadata": {},
          "execution_count": 145
        }
      ]
    },
    {
      "cell_type": "code",
      "metadata": {
        "colab": {
          "base_uri": "https://localhost:8080/",
          "height": 402
        },
        "id": "SuCawyFThv7k",
        "outputId": "cc717c0c-de5d-4bfd-f7c7-1365316db5dc"
      },
      "source": [
        "df_final"
      ],
      "execution_count": 146,
      "outputs": [
        {
          "output_type": "execute_result",
          "data": {
            "text/html": [
              "<div>\n",
              "<style scoped>\n",
              "    .dataframe tbody tr th:only-of-type {\n",
              "        vertical-align: middle;\n",
              "    }\n",
              "\n",
              "    .dataframe tbody tr th {\n",
              "        vertical-align: top;\n",
              "    }\n",
              "\n",
              "    .dataframe thead th {\n",
              "        text-align: right;\n",
              "    }\n",
              "</style>\n",
              "<table border=\"1\" class=\"dataframe\">\n",
              "  <thead>\n",
              "    <tr style=\"text-align: right;\">\n",
              "      <th></th>\n",
              "      <th>y_hat</th>\n",
              "      <th>y_test</th>\n",
              "      <th>difference</th>\n",
              "      <th>abs_difference</th>\n",
              "    </tr>\n",
              "  </thead>\n",
              "  <tbody>\n",
              "    <tr>\n",
              "      <th>0</th>\n",
              "      <td>1455.942749</td>\n",
              "      <td>1068.4</td>\n",
              "      <td>387.542749</td>\n",
              "      <td>387.542749</td>\n",
              "    </tr>\n",
              "    <tr>\n",
              "      <th>1</th>\n",
              "      <td>1026.852783</td>\n",
              "      <td>894.7</td>\n",
              "      <td>132.152783</td>\n",
              "      <td>132.152783</td>\n",
              "    </tr>\n",
              "    <tr>\n",
              "      <th>2</th>\n",
              "      <td>1077.995850</td>\n",
              "      <td>776.6</td>\n",
              "      <td>301.395850</td>\n",
              "      <td>301.395850</td>\n",
              "    </tr>\n",
              "    <tr>\n",
              "      <th>3</th>\n",
              "      <td>990.594299</td>\n",
              "      <td>842.0</td>\n",
              "      <td>148.594299</td>\n",
              "      <td>148.594299</td>\n",
              "    </tr>\n",
              "    <tr>\n",
              "      <th>4</th>\n",
              "      <td>455.374817</td>\n",
              "      <td>529.0</td>\n",
              "      <td>-73.625183</td>\n",
              "      <td>73.625183</td>\n",
              "    </tr>\n",
              "    <tr>\n",
              "      <th>...</th>\n",
              "      <td>...</td>\n",
              "      <td>...</td>\n",
              "      <td>...</td>\n",
              "      <td>...</td>\n",
              "    </tr>\n",
              "    <tr>\n",
              "      <th>18554</th>\n",
              "      <td>990.318970</td>\n",
              "      <td>876.4</td>\n",
              "      <td>113.918970</td>\n",
              "      <td>113.918970</td>\n",
              "    </tr>\n",
              "    <tr>\n",
              "      <th>18555</th>\n",
              "      <td>769.492615</td>\n",
              "      <td>763.1</td>\n",
              "      <td>6.392615</td>\n",
              "      <td>6.392615</td>\n",
              "    </tr>\n",
              "    <tr>\n",
              "      <th>18556</th>\n",
              "      <td>981.059143</td>\n",
              "      <td>902.4</td>\n",
              "      <td>78.659143</td>\n",
              "      <td>78.659143</td>\n",
              "    </tr>\n",
              "    <tr>\n",
              "      <th>18557</th>\n",
              "      <td>1357.008545</td>\n",
              "      <td>1450.4</td>\n",
              "      <td>-93.391455</td>\n",
              "      <td>93.391455</td>\n",
              "    </tr>\n",
              "    <tr>\n",
              "      <th>18558</th>\n",
              "      <td>1411.351440</td>\n",
              "      <td>1223.9</td>\n",
              "      <td>187.451440</td>\n",
              "      <td>187.451440</td>\n",
              "    </tr>\n",
              "  </tbody>\n",
              "</table>\n",
              "<p>18559 rows × 4 columns</p>\n",
              "</div>"
            ],
            "text/plain": [
              "             y_hat  y_test  difference  abs_difference\n",
              "0      1455.942749  1068.4  387.542749      387.542749\n",
              "1      1026.852783   894.7  132.152783      132.152783\n",
              "2      1077.995850   776.6  301.395850      301.395850\n",
              "3       990.594299   842.0  148.594299      148.594299\n",
              "4       455.374817   529.0  -73.625183       73.625183\n",
              "...            ...     ...         ...             ...\n",
              "18554   990.318970   876.4  113.918970      113.918970\n",
              "18555   769.492615   763.1    6.392615        6.392615\n",
              "18556   981.059143   902.4   78.659143       78.659143\n",
              "18557  1357.008545  1450.4  -93.391455       93.391455\n",
              "18558  1411.351440  1223.9  187.451440      187.451440\n",
              "\n",
              "[18559 rows x 4 columns]"
            ]
          },
          "metadata": {},
          "execution_count": 146
        }
      ]
    },
    {
      "cell_type": "code",
      "metadata": {
        "id": "mtFRMTwahxAU"
      },
      "source": [
        "df_final.to_csv('drive/MyDrive/DatasetsWind/df_final.csv', index=False)"
      ],
      "execution_count": 148,
      "outputs": []
    },
    {
      "cell_type": "code",
      "metadata": {
        "id": "l5mrggrViXak"
      },
      "source": [
        ""
      ],
      "execution_count": null,
      "outputs": []
    }
  ]
}