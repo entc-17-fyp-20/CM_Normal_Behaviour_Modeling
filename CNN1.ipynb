{
  "nbformat": 4,
  "nbformat_minor": 0,
  "metadata": {
    "colab": {
      "name": "CNN1.ipynb",
      "provenance": [],
      "collapsed_sections": [
        "kKN8kMKvTxL4",
        "C2eZwL_85n27",
        "OrwN8ud2_-sw"
      ],
      "mount_file_id": "1hhxmLdbLiT2fNNmw1VnrVet9KvSs4tsB",
      "authorship_tag": "ABX9TyO59CshX1G9n/JQK8oLbeIN",
      "include_colab_link": true
    },
    "kernelspec": {
      "name": "python3",
      "display_name": "Python 3"
    },
    "language_info": {
      "name": "python"
    }
  },
  "cells": [
    {
      "cell_type": "markdown",
      "metadata": {
        "id": "view-in-github",
        "colab_type": "text"
      },
      "source": [
        "<a href=\"https://colab.research.google.com/github/entc-17-fyp-20/CM_Normal_Behaviour_Modeling/blob/akeshala/CNN1.ipynb\" target=\"_parent\"><img src=\"https://colab.research.google.com/assets/colab-badge.svg\" alt=\"Open In Colab\"/></a>"
      ]
    },
    {
      "cell_type": "markdown",
      "metadata": {
        "id": "VsIYRWHlESOw"
      },
      "source": [
        "**Generator bearing temperature** as target"
      ]
    },
    {
      "cell_type": "markdown",
      "metadata": {
        "id": "w_sWNneMfHmN"
      },
      "source": [
        "# Import libraries and datasets"
      ]
    },
    {
      "cell_type": "code",
      "metadata": {
        "id": "h98Me_SNS30m"
      },
      "source": [
        "# multivariate data preparation\n",
        "from numpy import array\n",
        "from numpy import hstack\n",
        "import pandas as pd\n",
        "import numpy as np\n",
        "from sklearn import preprocessing\n",
        "from datetime import datetime\n",
        "\n",
        "from keras.models import Sequential\n",
        "from keras.layers import Dense\n",
        "from keras.layers import Flatten, BatchNormalization, Dropout\n",
        "from keras.layers.convolutional import Conv1D\n",
        "from keras.callbacks import EarlyStopping, ModelCheckpoint\n",
        "\n",
        "import plotly.graph_objects as go\n",
        "import matplotlib.pyplot as plt"
      ],
      "execution_count": 48,
      "outputs": []
    },
    {
      "cell_type": "code",
      "metadata": {
        "id": "j0wOkP6TWPO2"
      },
      "source": [
        "# split a multivariate sequence into samples\n",
        "def split_sequences(sequences, n_steps):\n",
        "\tX, y = list(), list()\n",
        "\tfor i in range(len(sequences)):\n",
        "\t\t# find the end of this pattern\n",
        "\t\tend_ix = i + n_steps\n",
        "\t\t# check if we are beyond the dataset\n",
        "\t\tif end_ix > len(sequences):\n",
        "\t\t\tbreak\n",
        "\t\t# gather input and output parts of the pattern\n",
        "\t\tseq_x, seq_y = sequences[i:end_ix, :-1], sequences[end_ix-1, -1]\n",
        "\t\tX.append(seq_x)\n",
        "\t\ty.append(seq_y)\n",
        "\treturn array(X), array(y)"
      ],
      "execution_count": 36,
      "outputs": []
    },
    {
      "cell_type": "code",
      "metadata": {
        "id": "-00gDgoXe3j4"
      },
      "source": [
        "#@title Select Dataset New { display-mode: \"form\" }\n",
        "turbine = 'T01' #@param [\"T01\", \"T02\",\"T03\",\"T22\",\"T34\",\"T54\"]\n",
        "path = '/content/drive/MyDrive/IIoT - Wind Turbine/FYP/Dataset/Merged/' + turbine + '.csv'\n",
        "df = pd.read_csv(path)"
      ],
      "execution_count": 37,
      "outputs": []
    },
    {
      "cell_type": "code",
      "metadata": {
        "id": "809oqIDFKuQE"
      },
      "source": [
        "n_steps = 144 #one day"
      ],
      "execution_count": 38,
      "outputs": []
    },
    {
      "cell_type": "code",
      "metadata": {
        "id": "BbPmqln5_w8p"
      },
      "source": [
        "#@title Select scaling method { display-mode: \"form\" }\n",
        "method = 'MinMax' #@param [\"Normalize\", \"MinMax\"]\n",
        "\n",
        "df_time = df[\"Date_Time\"]\n",
        "df.drop(\"Date_Time\", axis='columns', inplace=True)\n",
        "column_names = df.columns\n",
        "\n",
        "if method == \"Normalize\":\n",
        "  d = preprocessing.normalize(df, axis=0)\n",
        "else:\n",
        "  scaler = preprocessing.MinMaxScaler()\n",
        "  d = scaler.fit_transform(df)\n",
        "\n",
        "df = pd.DataFrame(d, columns=column_names)\n",
        "df[\"Date_Time\"] = df_time\n",
        "df = df.set_index(df['Date_Time'])"
      ],
      "execution_count": 39,
      "outputs": []
    },
    {
      "cell_type": "code",
      "metadata": {
        "id": "zf_OdQd6bclX"
      },
      "source": [
        "n_features = 4\n",
        "\n",
        "format = '%Y-%m-%d %H:%M:%S'\n",
        "split_index=[];\n",
        "split_index.append(df['Date_Time'][0])\n",
        "for i in range(0,len(df['Date_Time'])-1):\n",
        "  current_time =  df['Date_Time'][i]\n",
        "  following_time=  df['Date_Time'][i+1]\n",
        "  time_gap =datetime.strptime(following_time, format)-datetime.strptime(current_time, format)\n",
        "  if (time_gap.seconds > 600*5):\n",
        "    split_index.append(current_time)\n",
        "    split_index.append(following_time)\n",
        "split_index.append(df['Date_Time'][len(df['Date_Time'])-1])\n",
        "\n",
        "df = df.set_index(df['Date_Time'])"
      ],
      "execution_count": 40,
      "outputs": []
    },
    {
      "cell_type": "code",
      "metadata": {
        "id": "T55MaZrZu_sU"
      },
      "source": [
        "X_concat_train, y_concat_train, y_concat_test, X_concat_test = [],[],[],[]\n",
        "\n",
        "for i in range(0,len(split_index),2):\n",
        "  dfx = df[split_index[i]:split_index[i+1]]\n",
        "  if len(dfx)>=144:\n",
        "    dfx = dfx[['Active_Power','Ambient_Temperature','Wind_Speed','Generator_RPM','Generator_Bearing_Tempeature']]\n",
        "    dfx = dfx.to_numpy()\n",
        "    # convert into input/output\n",
        "    X, y = split_sequences(dfx, n_steps)\n",
        "    if i<len(split_index)*0.8:\n",
        "      X_concat_train.append(X)\n",
        "      y_concat_train.append(y)\n",
        "    else:\n",
        "      X_concat_test.append(X)\n",
        "      y_concat_test.append(y)\n",
        "\n",
        "X_concat_train = tuple(X_concat_train)\n",
        "y_concat_train = tuple(y_concat_train)\n",
        "\n",
        "X_concat_test = tuple(X_concat_test)\n",
        "y_concat_test = tuple(y_concat_test)"
      ],
      "execution_count": 41,
      "outputs": []
    },
    {
      "cell_type": "code",
      "metadata": {
        "id": "DaNBi5BxhnCM"
      },
      "source": [
        "X_train = np.concatenate(X_concat_train)\n",
        "y_train = np.concatenate(y_concat_train)\n",
        "\n",
        "X_test = np.concatenate(X_concat_test)\n",
        "y_test = np.concatenate(y_concat_test)"
      ],
      "execution_count": 42,
      "outputs": []
    },
    {
      "cell_type": "code",
      "metadata": {
        "colab": {
          "base_uri": "https://localhost:8080/"
        },
        "id": "UdJmT1M4HpBM",
        "outputId": "5e4b44e0-c4ba-4524-c0ec-adf35ef42f40"
      },
      "source": [
        "print(\"Train \"+str(len(X_train)))\n",
        "print(\"Test \"+str(len(X_test)))\n",
        "print(X_train.shape)\n",
        "print(y_train.shape)"
      ],
      "execution_count": 43,
      "outputs": [
        {
          "output_type": "stream",
          "name": "stdout",
          "text": [
            "Train 63396\n",
            "Test 8326\n",
            "(63396, 144, 4)\n",
            "(63396,)\n"
          ]
        }
      ]
    },
    {
      "cell_type": "markdown",
      "metadata": {
        "id": "kKN8kMKvTxL4"
      },
      "source": [
        "# Model"
      ]
    },
    {
      "cell_type": "code",
      "metadata": {
        "id": "Ip56e10mTvkP"
      },
      "source": [
        "def create_model():\n",
        "# define model\n",
        "  model1 = Sequential()\n",
        "  model1.add(Conv1D(filters=128, kernel_size=32, activation='relu', input_shape=(n_steps, n_features)))\n",
        "  model1.add(BatchNormalization())\n",
        "  model1.add(Dropout(0.1))\n",
        "  model1.add(Conv1D(filters=128, kernel_size=18, activation='relu'))\n",
        "  model1.add(BatchNormalization())\n",
        "  model1.add(Dropout(0.1))\n",
        "  model1.add(Conv1D(filters=128, kernel_size=8, activation='relu'))\n",
        "  model1.add(BatchNormalization())\n",
        "  model1.add(Dropout(0.1))\n",
        "  model1.add(Conv1D(filters=128, kernel_size=8, activation='relu'))\n",
        "  model1.add(BatchNormalization())\n",
        "  model1.add(Dropout(0.1))\n",
        "  # model1.add(LocallyConnected2D(10, (3, 3)))\n",
        "  model1.add(Flatten())\n",
        "  model1.add(Dense(20, activation='relu'))\n",
        "  model1.add(Dense(1, activation='tanh'))\n",
        "  model1.compile(optimizer='adam', loss='mse')\n",
        "  return model1"
      ],
      "execution_count": 44,
      "outputs": []
    },
    {
      "cell_type": "markdown",
      "metadata": {
        "id": "C2eZwL_85n27"
      },
      "source": [
        "# Training "
      ]
    },
    {
      "cell_type": "code",
      "metadata": {
        "colab": {
          "base_uri": "https://localhost:8080/"
        },
        "id": "WhAThtBMQ5b6",
        "outputId": "a09616ad-9929-4c41-bb81-d91470044da0"
      },
      "source": [
        "earlystop = EarlyStopping(monitor='val_loss', mode='min', verbose=1, patience=3) \n",
        "\n",
        "best_val = ModelCheckpoint('model_{epoch:02d}.h5', save_best_only=True, mode='min', period=1)"
      ],
      "execution_count": 49,
      "outputs": [
        {
          "output_type": "stream",
          "name": "stdout",
          "text": [
            "WARNING:tensorflow:`period` argument is deprecated. Please use `save_freq` to specify the frequency in number of batches seen.\n"
          ]
        }
      ]
    },
    {
      "cell_type": "code",
      "metadata": {
        "colab": {
          "base_uri": "https://localhost:8080/"
        },
        "id": "MfLAtumN3wKp",
        "outputId": "51c87311-d245-4d7e-c85e-470bfbef2e7a"
      },
      "source": [
        "n_features = X_train.shape[2]\n",
        "\n",
        "model = create_model()\n",
        "\n",
        "# fit model\n",
        "history = model.fit(X_train, y_train, batch_size=5, validation_data=(X_test,y_test), callbacks=[earlystop, best_val], epochs=10, verbose=1)"
      ],
      "execution_count": 50,
      "outputs": [
        {
          "output_type": "stream",
          "name": "stdout",
          "text": [
            "Epoch 1/10\n",
            "12680/12680 [==============================] - 678s 53ms/step - loss: 0.3015 - val_loss: 0.2997\n",
            "Epoch 2/10\n",
            "12680/12680 [==============================] - 691s 55ms/step - loss: 0.2796 - val_loss: 0.2997\n",
            "Epoch 3/10\n",
            "12680/12680 [==============================] - 683s 54ms/step - loss: 0.2795 - val_loss: 0.2997\n",
            "Epoch 4/10\n",
            "12680/12680 [==============================] - 673s 53ms/step - loss: 0.2795 - val_loss: 0.2997\n"
          ]
        }
      ]
    },
    {
      "cell_type": "code",
      "metadata": {
        "id": "Zulom98rRGna"
      },
      "source": [
        "best_epoch = np.argmin(np.array(history.history['val_loss']))+1\n",
        "model.load_weights(\"model_{:02d}.h5\".format(best_epoch))"
      ],
      "execution_count": 51,
      "outputs": []
    },
    {
      "cell_type": "code",
      "metadata": {
        "colab": {
          "base_uri": "https://localhost:8080/"
        },
        "id": "pp1azKOeffj9",
        "outputId": "e9a776d7-6adb-45e1-8573-3861bbfeff6a"
      },
      "source": [
        "model.summary()"
      ],
      "execution_count": 52,
      "outputs": [
        {
          "output_type": "stream",
          "name": "stdout",
          "text": [
            "Model: \"sequential_5\"\n",
            "_________________________________________________________________\n",
            "Layer (type)                 Output Shape              Param #   \n",
            "=================================================================\n",
            "conv1d_17 (Conv1D)           (None, 113, 128)          16512     \n",
            "_________________________________________________________________\n",
            "batch_normalization_16 (Batc (None, 113, 128)          512       \n",
            "_________________________________________________________________\n",
            "dropout_16 (Dropout)         (None, 113, 128)          0         \n",
            "_________________________________________________________________\n",
            "conv1d_18 (Conv1D)           (None, 96, 128)           295040    \n",
            "_________________________________________________________________\n",
            "batch_normalization_17 (Batc (None, 96, 128)           512       \n",
            "_________________________________________________________________\n",
            "dropout_17 (Dropout)         (None, 96, 128)           0         \n",
            "_________________________________________________________________\n",
            "conv1d_19 (Conv1D)           (None, 89, 128)           131200    \n",
            "_________________________________________________________________\n",
            "batch_normalization_18 (Batc (None, 89, 128)           512       \n",
            "_________________________________________________________________\n",
            "dropout_18 (Dropout)         (None, 89, 128)           0         \n",
            "_________________________________________________________________\n",
            "conv1d_20 (Conv1D)           (None, 82, 128)           131200    \n",
            "_________________________________________________________________\n",
            "batch_normalization_19 (Batc (None, 82, 128)           512       \n",
            "_________________________________________________________________\n",
            "dropout_19 (Dropout)         (None, 82, 128)           0         \n",
            "_________________________________________________________________\n",
            "flatten_5 (Flatten)          (None, 10496)             0         \n",
            "_________________________________________________________________\n",
            "dense_10 (Dense)             (None, 20)                209940    \n",
            "_________________________________________________________________\n",
            "dense_11 (Dense)             (None, 1)                 21        \n",
            "=================================================================\n",
            "Total params: 785,961\n",
            "Trainable params: 784,937\n",
            "Non-trainable params: 1,024\n",
            "_________________________________________________________________\n"
          ]
        }
      ]
    },
    {
      "cell_type": "code",
      "metadata": {
        "colab": {
          "base_uri": "https://localhost:8080/",
          "height": 612
        },
        "id": "wS2Z11XlqcOs",
        "outputId": "69871cb1-9d17-465f-8d15-d17b43b2d035"
      },
      "source": [
        "plot_df = pd.DataFrame.from_dict({'train_loss':history.history['loss'], 'val_loss':history.history['val_loss']})\n",
        "plot_df.plot(logy=True, figsize=(10,10), fontsize=12)\n",
        "plt.xlabel('epoch', fontsize=12)\n",
        "plt.ylabel('loss', fontsize=12)\n",
        "plt.show()"
      ],
      "execution_count": 53,
      "outputs": [
        {
          "output_type": "display_data",
          "data": {
            "image/png": "[encoded data removed]",
            "text/plain": [
              "<Figure size 720x720 with 1 Axes>"
            ]
          },
          "metadata": {
            "needs_background": "light"
          }
        }
      ]
    },
    {
      "cell_type": "code",
      "metadata": {
        "id": "cbr6GkxuNGqY"
      },
      "source": [
        "# Save the weights\n",
        "path = '/content/drive/MyDrive/Machine Learning Models/FYP/CNN1/'\n",
        "model.save_weights(path)"
      ],
      "execution_count": null,
      "outputs": []
    },
    {
      "cell_type": "markdown",
      "metadata": {
        "id": "OrwN8ud2_-sw"
      },
      "source": [
        "# Import pre-trained weights"
      ]
    },
    {
      "cell_type": "code",
      "metadata": {
        "id": "WKAd2tzZADe6"
      },
      "source": [
        "path = '/content/drive/MyDrive/Machine Learning Models/FYP/CNN1/'\n",
        "# Create a new model instance\n",
        "model = create_model()\n",
        "# Restore the weights\n",
        "model.load_weights(path)"
      ],
      "execution_count": null,
      "outputs": []
    },
    {
      "cell_type": "markdown",
      "metadata": {
        "id": "pwDNypNW5sVI"
      },
      "source": [
        "# Testing on the same turbine"
      ]
    },
    {
      "cell_type": "code",
      "metadata": {
        "id": "oAtkro2u5ucu"
      },
      "source": [
        "# demonstrate prediction\n",
        "yhat = model.predict(X_test, verbose=0)"
      ],
      "execution_count": null,
      "outputs": []
    },
    {
      "cell_type": "code",
      "metadata": {
        "id": "YxI8-XK-ALeQ"
      },
      "source": [
        "yhat = yhat.reshape(yhat.shape[0],)\n",
        "df_final=pd.DataFrame({'y_hat':yhat,'y_test':y_test})"
      ],
      "execution_count": null,
      "outputs": []
    },
    {
      "cell_type": "code",
      "metadata": {
        "id": "s0BpM-Kk-2CK"
      },
      "source": [
        "df_final['difference'] = df_final['y_hat']-df_final['y_test']\n",
        "df_final[\"abs_difference\"] = abs(df_final['y_hat']-df_final['y_test'])\n",
        "print(df_final[\"difference\"].mean())\n",
        "print(df_final[\"abs_difference\"].mean())"
      ],
      "execution_count": null,
      "outputs": []
    },
    {
      "cell_type": "code",
      "metadata": {
        "id": "mtFRMTwahxAU"
      },
      "source": [
        "df_final.to_csv('drive/MyDrive/DatasetsWind/df_final.csv', index=False)"
      ],
      "execution_count": null,
      "outputs": []
    },
    {
      "cell_type": "markdown",
      "metadata": {
        "id": "gNqWRpExBZhn"
      },
      "source": [
        "# Results, Plots"
      ]
    },
    {
      "cell_type": "code",
      "metadata": {
        "id": "mXt2kKQNQT8R"
      },
      "source": [
        "# Adding data_time column back\n",
        "frames = []\n",
        "\n",
        "for i in range(0,len(split_index),2):\n",
        "  dfx = df[split_index[i]:split_index[i+1]]\n",
        "\n",
        "  if i>=len(split_index)*0.8:\n",
        "    frames.append(dfx.iloc[n_steps-1:,:])\n",
        "\n",
        "test = pd.concat(frames)\n",
        "test.drop(\"Date_Time\", axis='columns', inplace=True)\n",
        "test = test.reset_index()\n",
        "df_final[\"Date_Time\"] = test[\"Date_Time\"]"
      ],
      "execution_count": null,
      "outputs": []
    },
    {
      "cell_type": "code",
      "metadata": {
        "id": "l5mrggrViXak"
      },
      "source": [
        "column_name = 'y_test' \n",
        "column_name1 = 'y_hat'\n",
        "\n",
        "fig = go.Figure()\n",
        "fig.add_trace(go.Scatter(x=df_final['Date_Time'], y=df_final[column_name], mode='lines', name='Actual'))\n",
        "fig.add_trace(go.Scatter(x=df_final['Date_Time'],y=df_final[column_name1], mode='lines', name='Predicted'))\n",
        "fig.update_layout(title_text= \"Actual vs Predicted\")\n",
        "\n",
        "fig.show()"
      ],
      "execution_count": null,
      "outputs": []
    },
    {
      "cell_type": "code",
      "metadata": {
        "id": "TcqoHSV1LyFH"
      },
      "source": [
        "column_name = 'difference' \n",
        "\n",
        "fig = go.Figure()\n",
        "fig.add_trace(go.Scatter(x=df_final['Date_Time'], y=df_final[column_name], mode='lines', name='Error'))\n",
        "fig.update_layout(title_text= \"Error\")\n",
        "\n",
        "fig.show()"
      ],
      "execution_count": null,
      "outputs": []
    },
    {
      "cell_type": "code",
      "metadata": {
        "id": "O2OXhJ6gX_Ax"
      },
      "source": [
        "column_name = 'abs_difference' \n",
        "\n",
        "fig = go.Figure()\n",
        "fig.add_trace(go.Scatter(x=df_final['Date_Time'], y=df_final[column_name], mode='lines', name='Absolute Error'))\n",
        "fig.update_layout(title_text= \"Absolute Error\")\n",
        "\n",
        "fig.show()"
      ],
      "execution_count": null,
      "outputs": []
    },
    {
      "cell_type": "markdown",
      "metadata": {
        "id": "mIrVFpczbk7Z"
      },
      "source": [
        "Re-sampling data"
      ]
    },
    {
      "cell_type": "code",
      "metadata": {
        "id": "8WFGOZk1dSnm"
      },
      "source": [
        "#@title Resampling { display-mode: \"form\" }\n",
        "sample_frequency = 60 #@param {type:\"slider\", min:20, max:120, step:10}\n",
        "sample = str(sample_frequency) + \"min\""
      ],
      "execution_count": null,
      "outputs": []
    },
    {
      "cell_type": "code",
      "metadata": {
        "id": "-bVGeP26ZdDL"
      },
      "source": [
        "df_final['Date_Time'] = pd.to_datetime(df_final['Date_Time'], format=\"%Y-%m-%d %H:%M:%S\")\n",
        "df_final.set_index('Date_Time', inplace = True)\n",
        "df_resample = df_final.resample(sample).mean().reset_index()\n",
        "df_final = df_final.reset_index()"
      ],
      "execution_count": null,
      "outputs": []
    },
    {
      "cell_type": "code",
      "metadata": {
        "id": "wCYuE0pr7YI_"
      },
      "source": [
        "df_final"
      ],
      "execution_count": null,
      "outputs": []
    },
    {
      "cell_type": "code",
      "metadata": {
        "id": "F6SNA4_oadsl"
      },
      "source": [
        "column_name = 'difference' \n",
        "\n",
        "fig = go.Figure()\n",
        "fig.add_trace(go.Scatter(x=df_resample['Date_Time'], y=df_resample[column_name], mode='lines', name='Error'))\n",
        "fig.update_layout(title_text= \"Error\")\n",
        "\n",
        "fig.show()"
      ],
      "execution_count": null,
      "outputs": []
    },
    {
      "cell_type": "code",
      "metadata": {
        "id": "q95eoihxaze3"
      },
      "source": [
        "column_name = 'abs_difference' \n",
        "\n",
        "fig = go.Figure()\n",
        "fig.add_trace(go.Scatter(x=df_resample['Date_Time'], y=df_resample[column_name], mode='lines', name='Absolute Error'))\n",
        "fig.update_layout(title_text= \"Absolute Error\")\n",
        "\n",
        "fig.show()"
      ],
      "execution_count": null,
      "outputs": []
    },
    {
      "cell_type": "code",
      "metadata": {
        "id": "PMUeg_ChvsXj"
      },
      "source": [
        ""
      ],
      "execution_count": null,
      "outputs": []
    }
  ]
}