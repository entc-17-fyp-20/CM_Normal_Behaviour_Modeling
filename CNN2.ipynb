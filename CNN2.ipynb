{
  "nbformat": 4,
  "nbformat_minor": 0,
  "metadata": {
    "colab": {
      "name": "CNN2.ipynb",
      "provenance": [],
      "collapsed_sections": [
        "w_sWNneMfHmN",
        "kKN8kMKvTxL4",
        "OrwN8ud2_-sw"
      ],
      "mount_file_id": "1_kiqhHnu3oKrMIj1KbZc-C6m5QJuSZH2",
      "authorship_tag": "ABX9TyPb4FYU14E0IbKjqHkvHiZs",
      "include_colab_link": true
    },
    "kernelspec": {
      "display_name": "Python 3",
      "name": "python3"
    },
    "language_info": {
      "name": "python"
    },
    "accelerator": "GPU"
  },
  "cells": [
    {
      "cell_type": "markdown",
      "metadata": {
        "id": "view-in-github",
        "colab_type": "text"
      },
      "source": [
        "<a href=\"https://colab.research.google.com/github/entc-17-fyp-20/CM_Normal_Behaviour_Modeling/blob/akeshala/CNN2.ipynb\" target=\"_parent\"><img src=\"https://colab.research.google.com/assets/colab-badge.svg\" alt=\"Open In Colab\"/></a>"
      ]
    },
    {
      "cell_type": "markdown",
      "metadata": {
        "id": "w_sWNneMfHmN"
      },
      "source": [
        "# Import libraries and datasets"
      ]
    },
    {
      "cell_type": "code",
      "metadata": {
        "id": "h98Me_SNS30m"
      },
      "source": [
        "# multivariate data preparation\n",
        "from numpy import array\n",
        "from numpy import hstack\n",
        "import pandas as pd\n",
        "import numpy as np\n",
        "from sklearn import preprocessing\n",
        "from datetime import datetime\n",
        "\n",
        "from keras.models import Sequential\n",
        "from keras.layers import Dense\n",
        "from keras.layers import Flatten, BatchNormalization, Dropout, LocallyConnected2D, LeakyReLU\n",
        "from keras.layers.convolutional import Conv2D\n",
        "from keras.callbacks import EarlyStopping, ModelCheckpoint\n",
        "\n",
        "import plotly.graph_objects as go\n",
        "import matplotlib.pyplot as plt"
      ],
      "execution_count": 1,
      "outputs": []
    },
    {
      "cell_type": "code",
      "metadata": {
        "id": "j0wOkP6TWPO2"
      },
      "source": [
        "# split a multivariate sequence into samples\n",
        "def split_sequences(sequences, n_steps):\n",
        "\tX, y = list(), list()\n",
        "\tfor i in range(len(sequences)):\n",
        "\t\t# find the end of this pattern\n",
        "\t\tend_ix = i + n_steps\n",
        "\t\t# check if we are beyond the dataset\n",
        "\t\tif end_ix > len(sequences):\n",
        "\t\t\tbreak\n",
        "\t\t# gather input and output parts of the pattern\n",
        "\t\tseq_x, seq_y = sequences[i:end_ix, :-1], sequences[end_ix-1, -1]\n",
        "\t\tX.append(seq_x)\n",
        "\t\ty.append(seq_y)\n",
        "\treturn array(X), array(y)"
      ],
      "execution_count": 2,
      "outputs": []
    },
    {
      "cell_type": "code",
      "metadata": {
        "id": "-00gDgoXe3j4"
      },
      "source": [
        "#@title Select Dataset New { display-mode: \"form\" }\n",
        "turbine = 'T01' #@param [\"T01\", \"T02\",\"T03\",\"T22\",\"T34\",\"T54\"]\n",
        "path = '/content/drive/MyDrive/IIoT - Wind Turbine/FYP/Dataset/Merged/' + turbine + '.csv'\n",
        "df = pd.read_csv(path)"
      ],
      "execution_count": 3,
      "outputs": []
    },
    {
      "cell_type": "code",
      "metadata": {
        "id": "809oqIDFKuQE"
      },
      "source": [
        "n_steps = 144"
      ],
      "execution_count": 4,
      "outputs": []
    },
    {
      "cell_type": "code",
      "metadata": {
        "id": "BbPmqln5_w8p"
      },
      "source": [
        "#@title Select scaling method { display-mode: \"form\" }\n",
        "method = 'MinMax' #@param [\"Normalize\", \"MinMax\"]\n",
        "\n",
        "df_time = df[\"Date_Time\"]\n",
        "df.drop(\"Date_Time\", axis='columns', inplace=True)\n",
        "column_names = df.columns\n",
        "\n",
        "if method == \"Normalize\":\n",
        "  d = preprocessing.normalize(df, axis=0)\n",
        "else:\n",
        "  scaler = preprocessing.MinMaxScaler()\n",
        "  d = scaler.fit_transform(df)\n",
        "\n",
        "df = pd.DataFrame(d, columns=column_names)\n",
        "df[\"Date_Time\"] = df_time\n",
        "df = df.set_index(df['Date_Time'])"
      ],
      "execution_count": 5,
      "outputs": []
    },
    {
      "cell_type": "code",
      "metadata": {
        "id": "zf_OdQd6bclX"
      },
      "source": [
        "n_features = 4\n",
        "\n",
        "format = '%Y-%m-%d %H:%M:%S'\n",
        "split_index=[];\n",
        "split_index.append(df['Date_Time'][0])\n",
        "for i in range(0,len(df['Date_Time'])-1):\n",
        "  current_time =  df['Date_Time'][i]\n",
        "  following_time=  df['Date_Time'][i+1]\n",
        "  time_gap =datetime.strptime(following_time, format)-datetime.strptime(current_time, format)\n",
        "  if (time_gap.total_seconds() != 600):\n",
        "    split_index.append(current_time)\n",
        "    split_index.append(following_time)\n",
        "split_index.append(df['Date_Time'][len(df['Date_Time'])-1])\n",
        "\n",
        "df = df.set_index(df['Date_Time'])"
      ],
      "execution_count": 6,
      "outputs": []
    },
    {
      "cell_type": "code",
      "metadata": {
        "id": "cIrACxjc61WJ"
      },
      "source": [
        "# print(len(split_index))\n",
        "# print(len(split_index)*0.57)\n"
      ],
      "execution_count": null,
      "outputs": []
    },
    {
      "cell_type": "code",
      "metadata": {
        "id": "F7l3BAIT7ODj"
      },
      "source": [
        "# i = 128"
      ],
      "execution_count": 36,
      "outputs": []
    },
    {
      "cell_type": "code",
      "metadata": {
        "id": "uc7w74686t74"
      },
      "source": [
        "# df[split_index[i]:split_index[i+1]]"
      ],
      "execution_count": null,
      "outputs": []
    },
    {
      "cell_type": "code",
      "metadata": {
        "id": "T55MaZrZu_sU"
      },
      "source": [
        "X_concat_train, y_concat_train, y_concat_test, X_concat_test = [],[],[],[]\n",
        "\n",
        "for i in range(0,len(split_index),2):\n",
        "  dfx = df[split_index[i]:split_index[i+1]]\n",
        "  if len(dfx)>=144:\n",
        "    dfx = dfx[['Active_Power','Ambient_Temperature','Wind_Speed','Generator_RPM','Gear_Oil_Tempeature']]\n",
        "    dfx = dfx.to_numpy()\n",
        "    # convert into input/output\n",
        "    X, y = split_sequences(dfx, n_steps)\n",
        "    if i<len(split_index)*0.3:\n",
        "      X_concat_train.append(X)\n",
        "      y_concat_train.append(y)\n",
        "    elif i<len(split_index)*0.5:\n",
        "      X_concat_test.append(X)\n",
        "      y_concat_test.append(y)\n",
        "\n",
        "X_concat_train = tuple(X_concat_train)\n",
        "y_concat_train = tuple(y_concat_train)\n",
        "\n",
        "X_concat_test = tuple(X_concat_test)\n",
        "y_concat_test = tuple(y_concat_test)"
      ],
      "execution_count": 7,
      "outputs": []
    },
    {
      "cell_type": "code",
      "metadata": {
        "id": "DaNBi5BxhnCM"
      },
      "source": [
        "X_train = np.concatenate(X_concat_train)\n",
        "y_train = np.concatenate(y_concat_train)\n",
        "\n",
        "X_test = np.concatenate(X_concat_test)\n",
        "y_test = np.concatenate(y_concat_test)"
      ],
      "execution_count": 8,
      "outputs": []
    },
    {
      "cell_type": "code",
      "metadata": {
        "colab": {
          "base_uri": "https://localhost:8080/"
        },
        "id": "5n_vI1egX5pP",
        "outputId": "a5586216-3e82-4c1c-947e-9c66e04e1afc"
      },
      "source": [
        "print(\"Train \"+str(len(X_train)))\n",
        "print(\"Test \"+str(len(X_test)))\n",
        "print(X_train.shape)\n",
        "print(y_train.shape)"
      ],
      "execution_count": 9,
      "outputs": [
        {
          "output_type": "stream",
          "name": "stdout",
          "text": [
            "Train 40059\n",
            "Test 409\n",
            "(40059, 144, 4)\n",
            "(40059,)\n"
          ]
        }
      ]
    },
    {
      "cell_type": "markdown",
      "metadata": {
        "id": "kKN8kMKvTxL4"
      },
      "source": [
        "# Model"
      ]
    },
    {
      "cell_type": "code",
      "metadata": {
        "id": "Ip56e10mTvkP"
      },
      "source": [
        "def create_model():\n",
        "# define model\n",
        "  model1 = Sequential()\n",
        "  model1.add(Conv2D(filters=128, kernel_size=(32,4), padding=\"same\", activation='relu', input_shape=(n_steps, n_features,1)))\n",
        "  model1.add(BatchNormalization())\n",
        "  model1.add(Dropout(0.1))\n",
        "  model1.add(Conv2D(filters=128, kernel_size=(18,4), padding=\"same\", activation='relu'))\n",
        "  model1.add(BatchNormalization())\n",
        "  model1.add(Dropout(0.1))\n",
        "  model1.add(Conv2D(filters=128, kernel_size=(8,4), padding=\"same\", activation='relu'))\n",
        "  model1.add(BatchNormalization())\n",
        "  model1.add(Dropout(0.1))\n",
        "  model1.add(Conv2D(filters=128, kernel_size=(8,4), padding=\"same\", activation='relu'))\n",
        "  model1.add(BatchNormalization())\n",
        "  model1.add(Dropout(0.1))\n",
        "  model1.add(LocallyConnected2D(filters=10, kernel_size=(8, 4), activation=\"relu\"))\n",
        "  model1.add(Flatten())\n",
        "  model1.add(Dense(20, activation='relu'))\n",
        "  model1.add(Dense(1))\n",
        "  model1.add(LeakyReLU(alpha=0.1))\n",
        "  model1.compile(optimizer='adam', loss='mse')\n",
        "  return model1"
      ],
      "execution_count": 10,
      "outputs": []
    },
    {
      "cell_type": "markdown",
      "metadata": {
        "id": "C2eZwL_85n27"
      },
      "source": [
        "# Training "
      ]
    },
    {
      "cell_type": "code",
      "metadata": {
        "colab": {
          "base_uri": "https://localhost:8080/"
        },
        "id": "qkOGei-DYIEX",
        "outputId": "835e6d98-8ae9-4e9d-82ef-ba934ca60149"
      },
      "source": [
        "earlystop = EarlyStopping(monitor='val_loss', min_delta=0, patience=3)\n",
        "\n",
        "best_val = ModelCheckpoint('model_{epoch:02d}.h5', save_best_only=True, mode='min', period=1)"
      ],
      "execution_count": 11,
      "outputs": [
        {
          "output_type": "stream",
          "name": "stdout",
          "text": [
            "WARNING:tensorflow:`period` argument is deprecated. Please use `save_freq` to specify the frequency in number of batches seen.\n"
          ]
        }
      ]
    },
    {
      "cell_type": "code",
      "metadata": {
        "id": "Doq5i4tVDED4"
      },
      "source": [
        "X_train = np.reshape(X_train, (X_train.shape[0],X_train.shape[1],X_train.shape[2],1))\n",
        "X_test = np.reshape(X_test, (X_test.shape[0],X_test.shape[1],X_test.shape[2],1))"
      ],
      "execution_count": 12,
      "outputs": []
    },
    {
      "cell_type": "code",
      "metadata": {
        "colab": {
          "base_uri": "https://localhost:8080/"
        },
        "id": "rktALRXfYL8s",
        "outputId": "d01cf1c9-0384-418b-baf0-cc8594ccdcbb"
      },
      "source": [
        "n_features = X_train.shape[2]\n",
        "\n",
        "model = create_model()\n",
        "\n",
        "# fit model\n",
        "history = model.fit(X_train, y_train, batch_size=5, validation_data=(X_test,y_test), callbacks=[earlystop, best_val], epochs=10, verbose=1)"
      ],
      "execution_count": 13,
      "outputs": [
        {
          "output_type": "stream",
          "name": "stdout",
          "text": [
            "Epoch 1/10\n",
            "8012/8012 [==============================] - 494s 57ms/step - loss: 0.0059 - val_loss: 0.0026\n",
            "Epoch 2/10\n",
            "8012/8012 [==============================] - 459s 57ms/step - loss: 0.0037 - val_loss: 0.0025\n",
            "Epoch 3/10\n",
            "8012/8012 [==============================] - 458s 57ms/step - loss: 0.0026 - val_loss: 6.0820e-04\n",
            "Epoch 4/10\n",
            "8012/8012 [==============================] - 458s 57ms/step - loss: 0.0020 - val_loss: 0.0013\n",
            "Epoch 5/10\n",
            "8012/8012 [==============================] - 469s 59ms/step - loss: 0.0018 - val_loss: 0.0014\n",
            "Epoch 6/10\n",
            "8012/8012 [==============================] - 472s 59ms/step - loss: 0.0016 - val_loss: 6.7676e-04\n"
          ]
        }
      ]
    },
    {
      "cell_type": "code",
      "metadata": {
        "id": "lFRySm2JYUEB"
      },
      "source": [
        "best_epoch = np.argmin(np.array(history.history['val_loss']))+1\n",
        "model.load_weights(\"model_{:02d}.h5\".format(best_epoch))"
      ],
      "execution_count": 14,
      "outputs": []
    },
    {
      "cell_type": "code",
      "metadata": {
        "colab": {
          "base_uri": "https://localhost:8080/",
          "height": 0
        },
        "id": "i8RDxA_wYYgT",
        "outputId": "51a97903-e75f-490f-c160-7636aaef0dd0"
      },
      "source": [
        "plot_df = pd.DataFrame.from_dict({'train_loss':history.history['loss'], 'val_loss':history.history['val_loss']})\n",
        "plot_df.plot(logy=True, figsize=(10,10), fontsize=12)\n",
        "plt.xlabel('epoch', fontsize=12)\n",
        "plt.ylabel('loss', fontsize=12)\n",
        "plt.show()"
      ],
      "execution_count": 15,
      "outputs": [
        {
          "output_type": "display_data",
          "data": {
            "image/png": "[encoded data removed]",
            "text/plain": [
              "<Figure size 720x720 with 1 Axes>"
            ]
          },
          "metadata": {
            "needs_background": "light"
          }
        }
      ]
    },
    {
      "cell_type": "code",
      "metadata": {
        "id": "cbr6GkxuNGqY"
      },
      "source": [
        "# Save the weights\n",
        "path = '/content/drive/MyDrive/Machine Learning Models/FYP/CNN2/'\n",
        "model.save_weights(path)"
      ],
      "execution_count": 16,
      "outputs": []
    },
    {
      "cell_type": "markdown",
      "metadata": {
        "id": "OrwN8ud2_-sw"
      },
      "source": [
        "# Import pre-trained weights"
      ]
    },
    {
      "cell_type": "code",
      "metadata": {
        "colab": {
          "base_uri": "https://localhost:8080/"
        },
        "id": "WKAd2tzZADe6",
        "outputId": "bbefb967-2729-434f-8b25-f54c2172d2a3"
      },
      "source": [
        "path = '/content/drive/MyDrive/Machine Learning Models/FYP/CNN2.1/'\n",
        "# Create a new model instance\n",
        "model = create_model()\n",
        "# Restore the weights\n",
        "model.load_weights(path)"
      ],
      "execution_count": 17,
      "outputs": [
        {
          "output_type": "execute_result",
          "data": {
            "text/plain": [
              "<tensorflow.python.training.tracking.util.CheckpointLoadStatus at 0x7f0939df1a90>"
            ]
          },
          "metadata": {},
          "execution_count": 17
        }
      ]
    },
    {
      "cell_type": "markdown",
      "metadata": {
        "id": "pwDNypNW5sVI"
      },
      "source": [
        "# Testing on the same turbine"
      ]
    },
    {
      "cell_type": "code",
      "metadata": {
        "id": "oAtkro2u5ucu"
      },
      "source": [
        "# demonstrate prediction\n",
        "yhat = model.predict(X_test, verbose=0)"
      ],
      "execution_count": 18,
      "outputs": []
    },
    {
      "cell_type": "code",
      "metadata": {
        "id": "YxI8-XK-ALeQ"
      },
      "source": [
        "yhat = yhat.reshape(yhat.shape[0],)\n",
        "df_final=pd.DataFrame({'y_hat':yhat,'y_test':y_test})"
      ],
      "execution_count": 19,
      "outputs": []
    },
    {
      "cell_type": "code",
      "metadata": {
        "colab": {
          "base_uri": "https://localhost:8080/"
        },
        "id": "s0BpM-Kk-2CK",
        "outputId": "16ff3397-2b7b-4259-8a84-e5eef424ef3a"
      },
      "source": [
        "df_final['difference'] = df_final['y_hat']-df_final['y_test']\n",
        "df_final[\"abs_difference\"] = abs(df_final['y_hat']-df_final['y_test'])\n",
        "print(df_final[\"difference\"].mean())\n",
        "print(df_final[\"abs_difference\"].mean())"
      ],
      "execution_count": 20,
      "outputs": [
        {
          "output_type": "stream",
          "name": "stdout",
          "text": [
            "-0.008514402472302509\n",
            "0.01984441614967104\n"
          ]
        }
      ]
    },
    {
      "cell_type": "code",
      "metadata": {
        "id": "mtFRMTwahxAU"
      },
      "source": [
        "df_final.to_csv('drive/MyDrive/DatasetsWind/df_final.csv', index=False)"
      ],
      "execution_count": 21,
      "outputs": []
    },
    {
      "cell_type": "markdown",
      "metadata": {
        "id": "gNqWRpExBZhn"
      },
      "source": [
        "# Results, Plots"
      ]
    },
    {
      "cell_type": "code",
      "metadata": {
        "id": "mXt2kKQNQT8R"
      },
      "source": [
        "# Adding data_time column back\n",
        "frames = []\n",
        "\n",
        "for i in range(0,len(split_index),2):\n",
        "  dfx = df[split_index[i]:split_index[i+1]]\n",
        "\n",
        "  if i>=len(split_index)*0.8:\n",
        "    frames.append(dfx.iloc[n_steps-1:,:])\n",
        "\n",
        "test = pd.concat(frames)\n",
        "test.drop(\"Date_Time\", axis='columns', inplace=True)\n",
        "test = test.reset_index()\n",
        "df_final[\"Date_Time\"] = test[\"Date_Time\"]"
      ],
      "execution_count": 22,
      "outputs": []
    },
    {
      "cell_type": "code",
      "metadata": {
        "colab": {
          "base_uri": "https://localhost:8080/",
          "height": 542
        },
        "id": "l5mrggrViXak",
        "outputId": "d6a7418f-a493-49ab-a4d7-2be5cba71b0a"
      },
      "source": [
        "column_name = 'y_test' \n",
        "column_name1 = 'y_hat'\n",
        "\n",
        "fig = go.Figure()\n",
        "fig.add_trace(go.Scatter(x=df_final['Date_Time'], y=df_final[column_name], mode='lines', name='Actual'))\n",
        "fig.add_trace(go.Scatter(x=df_final['Date_Time'],y=df_final[column_name1], mode='lines', name='Predicted'))\n",
        "fig.update_layout(title_text= \"Actual vs Predicted\")\n",
        "\n",
        "fig.show()"
      ],
      "execution_count": 23,
      "outputs": [
        {
          "output_type": "display_data",
          "data": {
            "text/html": [
              "<html>\n",
              "<head><meta charset=\"utf-8\" /></head>\n",
              "<body>\n",
              "    <div>\n",
              "            <script src=\"https://cdnjs.cloudflare.com/ajax/libs/mathjax/2.7.5/MathJax.js?config=TeX-AMS-MML_SVG\"></script><script type=\"text/javascript\">if (window.MathJax) {MathJax.Hub.Config({SVG: {font: \"STIX-Web\"}});}</script>\n",
              "                <script type=\"text/javascript\">window.PlotlyConfig = {MathJaxConfig: 'local'};</script>\n",
              "        <script src=\"https://cdn.plot.ly/plotly-latest.min.js\"></script>    \n",
              "            <div id=\"f3fa735f-050e-4c04-849b-4e7effecfefa\" class=\"plotly-graph-div\" style=\"height:525px; width:100%;\"></div>\n",
              "            <script type=\"text/javascript\">\n",
              "                \n",
              "                    window.PLOTLYENV=window.PLOTLYENV || {};\n",
              "                    \n",
              "                if (document.getElementById(\"f3fa735f-050e-4c04-849b-4e7effecfefa\")) {\n",
              "                    Plotly.newPlot(\n",
              "                        'f3fa735f-050e-4c04-849b-4e7effecfefa',\n",
              "                        [{\"mode\": \"lines\", \"name\": \"Actual\", \"type\": \"scatter\", \"x\": [\"2018-12-21 10:30:00\", \"2018-12-21 10:40:00\", \"2018-12-21 10:50:00\", \"2018-12-21 11:00:00\", \"2018-12-21 11:10:00\", \"2018-12-21 11:20:00\", \"2018-12-21 11:30:00\", \"2018-12-21 11:40:00\", \"2018-12-21 11:50:00\", \"2018-12-21 12:00:00\", \"2018-12-21 12:10:00\", \"2018-12-21 12:20:00\", \"2018-12-21 12:30:00\", \"2018-12-21 12:40:00\", \"2018-12-21 12:50:00\", \"2018-12-21 13:00:00\", \"2018-12-21 13:10:00\", \"2018-12-21 13:20:00\", \"2018-12-21 13:30:00\", \"2018-12-21 13:40:00\", \"2018-12-21 13:50:00\", \"2018-12-21 14:00:00\", \"2018-12-21 14:10:00\", \"2018-12-21 14:20:00\", \"2018-12-21 14:30:00\", \"2018-12-21 14:40:00\", \"2018-12-21 14:50:00\", \"2018-12-21 15:00:00\", \"2018-12-21 15:10:00\", \"2018-12-21 15:20:00\", \"2018-12-21 15:30:00\", \"2018-12-21 15:40:00\", \"2018-12-21 15:50:00\", \"2018-12-21 16:00:00\", \"2018-12-21 16:10:00\", \"2018-12-21 16:20:00\", \"2018-12-21 16:30:00\", \"2018-12-21 16:40:00\", \"2018-12-21 16:50:00\", \"2018-12-21 17:00:00\", \"2018-12-21 17:10:00\", \"2018-12-21 17:20:00\", \"2018-12-21 17:30:00\", \"2018-12-21 17:40:00\", \"2018-12-21 17:50:00\", \"2018-12-21 18:00:00\", \"2018-12-21 18:10:00\", \"2018-12-21 18:20:00\", \"2018-12-21 18:30:00\", \"2018-12-21 18:40:00\", \"2018-12-21 18:50:00\", \"2018-12-21 19:00:00\", \"2018-12-21 19:10:00\", \"2018-12-21 19:20:00\", \"2018-12-21 19:30:00\", \"2018-12-21 19:40:00\", \"2018-12-21 19:50:00\", \"2018-12-21 20:00:00\", \"2018-12-21 20:10:00\", \"2018-12-21 20:20:00\", \"2018-12-21 20:30:00\", \"2018-12-21 20:40:00\", \"2018-12-21 20:50:00\", \"2018-12-21 21:00:00\", \"2018-12-21 21:10:00\", \"2018-12-21 21:20:00\", \"2018-12-21 21:30:00\", \"2018-12-21 21:40:00\", \"2018-12-21 21:50:00\", \"2018-12-21 22:00:00\", \"2018-12-21 22:10:00\", \"2018-12-21 22:20:00\", \"2018-12-21 22:30:00\", \"2018-12-21 22:40:00\", \"2018-12-21 22:50:00\", \"2018-12-21 23:00:00\", \"2018-12-21 23:10:00\", \"2018-12-21 23:20:00\", \"2018-12-21 23:30:00\", \"2018-12-21 23:40:00\", \"2018-12-21 23:50:00\", \"2018-12-22 0:00:00\", \"2018-12-22 0:10:00\", \"2018-12-22 0:20:00\", \"2018-12-22 0:30:00\", \"2018-12-22 0:40:00\", \"2018-12-22 0:50:00\", \"2018-12-22 1:00:00\", \"2018-12-22 1:10:00\", \"2018-12-22 1:20:00\", \"2018-12-22 1:30:00\", \"2018-12-22 1:40:00\", \"2018-12-22 1:50:00\", \"2018-12-22 2:00:00\", \"2018-12-22 2:10:00\", \"2018-12-22 2:20:00\", \"2018-12-22 2:30:00\", \"2018-12-22 2:40:00\", \"2018-12-22 2:50:00\", \"2018-12-22 3:00:00\", \"2018-12-22 3:10:00\", \"2018-12-22 3:20:00\", \"2018-12-22 3:30:00\", \"2018-12-22 3:40:00\", \"2018-12-22 3:50:00\", \"2018-12-22 4:00:00\", \"2018-12-22 4:10:00\", \"2018-12-22 4:20:00\", \"2018-12-22 4:30:00\", \"2018-12-22 4:40:00\", \"2018-12-22 4:50:00\", \"2018-12-22 5:00:00\", \"2018-12-22 5:10:00\", \"2018-12-22 5:20:00\", \"2018-12-22 5:30:00\", \"2018-12-22 5:40:00\", \"2018-12-22 5:50:00\", \"2018-12-22 6:00:00\", \"2018-12-22 6:10:00\", \"2018-12-22 6:20:00\", \"2018-12-22 6:30:00\", \"2018-12-22 6:40:00\", \"2018-12-22 6:50:00\", \"2018-12-22 7:00:00\", \"2018-12-22 7:10:00\", \"2018-12-22 7:20:00\", \"2018-12-22 7:30:00\", \"2018-12-22 7:40:00\", \"2018-12-22 7:50:00\", \"2018-12-22 8:00:00\", \"2018-12-22 8:10:00\", \"2018-12-22 8:20:00\", \"2018-12-22 8:30:00\", \"2018-12-22 8:40:00\", \"2018-12-22 8:50:00\", \"2018-12-22 9:00:00\", \"2018-12-22 9:10:00\", \"2018-12-22 9:20:00\", \"2018-12-22 9:30:00\", \"2018-12-22 9:40:00\", \"2018-12-22 9:50:00\", \"2018-12-22 10:00:00\", \"2018-12-22 10:10:00\", \"2018-12-22 10:20:00\", \"2018-12-22 10:30:00\", \"2018-12-22 10:40:00\", \"2018-12-22 10:50:00\", \"2018-12-22 11:00:00\", \"2018-12-22 11:10:00\", \"2018-12-22 11:20:00\", \"2018-12-22 11:30:00\", \"2018-12-22 11:40:00\", \"2018-12-22 11:50:00\", \"2018-12-22 12:00:00\", \"2018-12-22 12:10:00\", \"2018-12-22 12:20:00\", \"2018-12-22 12:30:00\", \"2018-12-22 12:40:00\", \"2018-12-22 12:50:00\", \"2018-12-22 13:00:00\", \"2018-12-22 13:10:00\", \"2018-12-22 13:20:00\", \"2018-12-22 13:30:00\", \"2018-12-22 13:40:00\", \"2018-12-22 13:50:00\", \"2018-12-22 14:00:00\", \"2018-12-22 14:10:00\", \"2018-12-22 14:20:00\", \"2018-12-22 14:30:00\", \"2018-12-22 14:40:00\", \"2018-12-22 14:50:00\", \"2018-12-22 15:00:00\", \"2018-12-22 15:10:00\", \"2018-12-22 15:20:00\", \"2018-12-22 15:30:00\", \"2018-12-22 15:40:00\", \"2018-12-22 15:50:00\", \"2018-12-22 16:00:00\", \"2018-12-22 16:10:00\", \"2018-12-22 16:20:00\", \"2018-12-22 16:30:00\", \"2018-12-22 16:40:00\", \"2018-12-22 16:50:00\", \"2018-12-22 17:00:00\", \"2018-12-22 17:10:00\", \"2018-12-22 17:20:00\", \"2018-12-22 17:30:00\", \"2018-12-22 17:40:00\", \"2018-12-22 17:50:00\", \"2018-12-22 18:00:00\", \"2018-12-22 18:10:00\", \"2018-12-22 18:20:00\", \"2018-12-22 18:30:00\", \"2018-12-22 18:40:00\", \"2018-12-22 18:50:00\", \"2018-12-22 19:00:00\", \"2018-12-22 19:10:00\", \"2018-12-22 19:20:00\", \"2018-12-22 19:30:00\", \"2018-12-22 19:40:00\", \"2018-12-22 19:50:00\", \"2018-12-22 20:00:00\", \"2018-12-22 20:10:00\", \"2018-12-22 20:20:00\", \"2018-12-22 20:30:00\", \"2018-12-22 20:40:00\", \"2018-12-22 20:50:00\", \"2018-12-22 21:00:00\", \"2018-12-22 21:10:00\", \"2018-12-22 21:20:00\", \"2018-12-22 21:30:00\", \"2018-12-22 21:40:00\", \"2018-12-22 21:50:00\", \"2018-12-22 22:00:00\", \"2018-12-22 22:10:00\", \"2018-12-22 22:20:00\", \"2018-12-22 22:30:00\", \"2018-12-22 22:40:00\", \"2018-12-22 22:50:00\", \"2018-12-22 23:00:00\", \"2018-12-22 23:10:00\", \"2018-12-22 23:20:00\", \"2018-12-22 23:30:00\", \"2018-12-22 23:40:00\", \"2018-12-22 23:50:00\", \"2018-12-23 0:00:00\", \"2018-12-23 0:10:00\", \"2018-12-23 0:20:00\", \"2018-12-23 0:30:00\", \"2018-12-23 0:40:00\", \"2018-12-23 0:50:00\", \"2018-12-23 1:00:00\", \"2018-12-23 1:10:00\", \"2018-12-23 1:20:00\", \"2018-12-23 1:30:00\", \"2018-12-23 1:40:00\", \"2018-12-23 1:50:00\", \"2018-12-23 2:00:00\", \"2018-12-23 2:10:00\", \"2018-12-23 2:20:00\", \"2018-12-23 2:30:00\", \"2018-12-23 2:40:00\", \"2018-12-23 2:50:00\", \"2018-12-23 3:00:00\", \"2018-12-23 3:10:00\", \"2018-12-23 3:20:00\", \"2018-12-23 3:30:00\", \"2018-12-23 3:40:00\", \"2018-12-23 3:50:00\", \"2018-12-23 4:00:00\", \"2018-12-23 4:10:00\", \"2018-12-23 4:20:00\", \"2018-12-23 4:30:00\", \"2018-12-23 4:40:00\", \"2018-12-23 4:50:00\", \"2018-12-23 5:00:00\", \"2018-12-23 5:10:00\", \"2018-12-23 5:20:00\", \"2018-12-23 5:30:00\", \"2018-12-23 5:40:00\", \"2018-12-23 5:50:00\", \"2018-12-23 6:00:00\", \"2018-12-23 6:10:00\", \"2018-12-23 6:20:00\", \"2018-12-23 6:30:00\", \"2018-12-23 6:40:00\", \"2018-12-23 6:50:00\", \"2018-12-23 7:00:00\", \"2018-12-23 7:10:00\", \"2018-12-23 7:20:00\", \"2018-12-23 7:30:00\", \"2018-12-23 7:40:00\", \"2018-12-23 7:50:00\", \"2018-12-23 8:00:00\", \"2018-12-23 8:10:00\", \"2018-12-23 8:20:00\", \"2018-12-23 8:30:00\", \"2018-12-23 8:40:00\", \"2018-12-23 8:50:00\", \"2018-12-23 9:00:00\", \"2018-12-23 9:10:00\", \"2018-12-23 9:20:00\", \"2018-12-23 9:30:00\", \"2018-12-23 9:40:00\", \"2018-12-23 9:50:00\", \"2018-12-23 10:00:00\", \"2018-12-23 10:10:00\", \"2018-12-23 10:20:00\", \"2018-12-23 10:30:00\", \"2018-12-23 10:40:00\", \"2018-12-23 10:50:00\", \"2018-12-23 11:00:00\", \"2018-12-23 11:10:00\", \"2018-12-23 11:20:00\", \"2018-12-23 11:30:00\", \"2018-12-23 11:40:00\", \"2018-12-23 11:50:00\", \"2018-12-23 12:00:00\", \"2018-12-23 12:10:00\", \"2018-12-23 12:20:00\", \"2018-12-23 12:30:00\", \"2018-12-23 12:40:00\", \"2018-12-23 12:50:00\", \"2018-12-23 13:00:00\", \"2018-12-23 13:10:00\", \"2018-12-23 13:20:00\", \"2018-12-23 13:30:00\", \"2018-12-23 13:40:00\", \"2018-12-23 13:50:00\", \"2018-12-23 14:00:00\", \"2018-12-23 14:10:00\", \"2018-12-23 14:20:00\", \"2018-12-23 14:30:00\", \"2018-12-23 14:40:00\", \"2018-12-23 14:50:00\", \"2018-12-23 15:00:00\", \"2018-12-23 15:10:00\", \"2018-12-23 15:20:00\", \"2018-12-23 15:30:00\", \"2018-12-23 15:40:00\", \"2018-12-23 15:50:00\", \"2018-12-23 16:00:00\", \"2018-12-23 16:10:00\", \"2018-12-23 16:20:00\", \"2018-12-23 16:30:00\", \"2018-12-23 16:40:00\", \"2018-12-23 16:50:00\", \"2018-12-23 17:00:00\", \"2018-12-23 17:10:00\", \"2018-12-23 17:20:00\", \"2018-12-23 17:30:00\", \"2018-12-23 17:40:00\", \"2018-12-23 17:50:00\", \"2018-12-23 18:00:00\", \"2018-12-23 18:10:00\", \"2018-12-23 18:20:00\", \"2018-12-23 18:30:00\", \"2018-12-23 18:40:00\", \"2018-12-23 18:50:00\", \"2018-12-23 19:00:00\", \"2018-12-23 19:10:00\", \"2018-12-23 19:20:00\", \"2018-12-23 19:30:00\", \"2018-12-23 19:40:00\", \"2018-12-23 19:50:00\", \"2018-12-23 20:00:00\", \"2018-12-23 20:10:00\", \"2018-12-23 20:20:00\", \"2018-12-23 20:30:00\", \"2018-12-23 20:40:00\", \"2018-12-23 20:50:00\", \"2018-12-23 21:00:00\", \"2018-12-23 21:10:00\", \"2018-12-23 21:20:00\", \"2018-12-23 21:30:00\", \"2018-12-23 21:40:00\", \"2018-12-23 21:50:00\", \"2018-12-23 22:00:00\", \"2018-12-23 22:10:00\", \"2018-12-23 22:20:00\", \"2018-12-23 22:30:00\", \"2018-12-23 22:40:00\", \"2018-12-23 22:50:00\", \"2018-12-23 23:00:00\", \"2018-12-23 23:10:00\", \"2018-12-23 23:20:00\", \"2018-12-23 23:30:00\", \"2018-12-23 23:40:00\", \"2018-12-23 23:50:00\", \"2018-12-24 0:00:00\", \"2018-12-24 0:10:00\", \"2018-12-24 0:20:00\", \"2018-12-24 0:30:00\", \"2018-12-24 0:40:00\", \"2018-12-24 0:50:00\", \"2018-12-24 1:00:00\", \"2018-12-24 1:10:00\", \"2018-12-24 1:20:00\", \"2018-12-24 1:30:00\", \"2018-12-24 1:40:00\", \"2018-12-24 1:50:00\", \"2018-12-24 2:00:00\", \"2018-12-24 2:10:00\", \"2018-12-24 2:20:00\", \"2018-12-24 2:30:00\", \"2018-12-24 2:40:00\", \"2018-12-24 2:50:00\", \"2018-12-24 3:00:00\", \"2018-12-24 3:10:00\", \"2018-12-24 3:20:00\", \"2018-12-24 3:30:00\", \"2018-12-24 3:40:00\", \"2018-12-24 3:50:00\", \"2018-12-24 4:00:00\", \"2018-12-24 4:10:00\", \"2018-12-24 4:20:00\", \"2018-12-24 4:30:00\", \"2018-12-24 4:40:00\", \"2018-12-24 4:50:00\", \"2018-12-24 5:00:00\", \"2018-12-24 5:10:00\", \"2018-12-24 5:20:00\", \"2018-12-24 5:30:00\", \"2018-12-24 5:40:00\", \"2018-12-24 5:50:00\", \"2018-12-24 6:00:00\", \"2018-12-24 6:10:00\", \"2018-12-24 6:20:00\", \"2018-12-24 6:30:00\"], \"y\": [0.6, 0.6, 0.62, 0.62, 0.64, 0.66, 0.66, 0.66, 0.68, 0.68, 0.68, 0.68, 0.7000000000000001, 0.7000000000000001, 0.7000000000000001, 0.7000000000000001, 0.7000000000000001, 0.7200000000000001, 0.7200000000000001, 0.7400000000000001, 0.7200000000000001, 0.68, 0.68, 0.66, 0.64, 0.66, 0.66, 0.66, 0.64, 0.62, 0.62, 0.62, 0.62, 0.62, 0.62, 0.62, 0.6, 0.6, 0.58, 0.58, 0.58, 0.6, 0.6, 0.6, 0.58, 0.58, 0.58, 0.58, 0.58, 0.5599999999999999, 0.5599999999999999, 0.5599999999999999, 0.58, 0.6, 0.62, 0.62, 0.64, 0.64, 0.66, 0.68, 0.7000000000000001, 0.7000000000000001, 0.7000000000000001, 0.7200000000000001, 0.7400000000000001, 0.7400000000000001, 0.7200000000000001, 0.7200000000000001, 0.7000000000000001, 0.7000000000000001, 0.7000000000000001, 0.68, 0.68, 0.66, 0.66, 0.66, 0.66, 0.66, 0.66, 0.66, 0.66, 0.66, 0.66, 0.66, 0.64, 0.64, 0.64, 0.62, 0.62, 0.6, 0.62, 0.6, 0.6, 0.6, 0.6, 0.62, 0.62, 0.62, 0.62, 0.62, 0.62, 0.62, 0.62, 0.62, 0.64, 0.64, 0.64, 0.64, 0.64, 0.64, 0.64, 0.64, 0.64, 0.64, 0.64, 0.62, 0.62, 0.6, 0.6, 0.58, 0.58, 0.58, 0.58, 0.5599999999999999, 0.5599999999999999, 0.5599999999999999, 0.5599999999999999, 0.5599999999999999, 0.5599999999999999, 0.5599999999999999, 0.54, 0.52, 0.52, 0.52, 0.52, 0.5, 0.5, 0.5, 0.48, 0.48, 0.48, 0.48, 0.45999999999999996, 0.45999999999999996, 0.43999999999999995, 0.43999999999999995, 0.43999999999999995, 0.43999999999999995, 0.42000000000000004, 0.42000000000000004, 0.42000000000000004, 0.4, 0.4, 0.4, 0.38, 0.38, 0.36, 0.36, 0.33999999999999997, 0.33999999999999997, 0.33999999999999997, 0.31999999999999995, 0.31999999999999995, 0.31999999999999995, 0.31999999999999995, 0.36, 0.36, 0.36, 0.36, 0.36, 0.38, 0.4, 0.42000000000000004, 0.42000000000000004, 0.42000000000000004, 0.43999999999999995, 0.43999999999999995, 0.43999999999999995, 0.43999999999999995, 0.43999999999999995, 0.45999999999999996, 0.45999999999999996, 0.45999999999999996, 0.45999999999999996, 0.45999999999999996, 0.48, 0.5, 0.52, 0.54, 0.5599999999999999, 0.5599999999999999, 0.58, 0.62, 0.66, 0.68, 0.68, 0.68, 0.7000000000000001, 0.7000000000000001, 0.7200000000000001, 0.7200000000000001, 0.7200000000000001, 0.7000000000000001, 0.7200000000000001, 0.7200000000000001, 0.7200000000000001, 0.7200000000000001, 0.7200000000000001, 0.7400000000000001, 0.7400000000000001, 0.7200000000000001, 0.7200000000000001, 0.7200000000000001, 0.7200000000000001, 0.7200000000000001, 0.7200000000000001, 0.7200000000000001, 0.7200000000000001, 0.7000000000000001, 0.7000000000000001, 0.68, 0.68, 0.68, 0.66, 0.64, 0.64, 0.62, 0.62, 0.62, 0.62, 0.62, 0.62, 0.62, 0.6, 0.58, 0.58, 0.5599999999999999, 0.5599999999999999, 0.5599999999999999, 0.5599999999999999, 0.58, 0.58, 0.58, 0.58, 0.58, 0.58, 0.58, 0.58, 0.58, 0.58, 0.5599999999999999, 0.58, 0.58, 0.5599999999999999, 0.5599999999999999, 0.5599999999999999, 0.5599999999999999, 0.54, 0.54, 0.54, 0.52, 0.52, 0.52, 0.52, 0.52, 0.5, 0.5, 0.5, 0.5, 0.5, 0.5, 0.5, 0.48, 0.5, 0.5, 0.5, 0.52, 0.52, 0.52, 0.52, 0.52, 0.52, 0.52, 0.52, 0.5, 0.5, 0.52, 0.52, 0.5, 0.5, 0.5, 0.48, 0.48, 0.48, 0.45999999999999996, 0.45999999999999996, 0.43999999999999995, 0.43999999999999995, 0.43999999999999995, 0.43999999999999995, 0.43999999999999995, 0.43999999999999995, 0.43999999999999995, 0.43999999999999995, 0.42000000000000004, 0.42000000000000004, 0.42000000000000004, 0.42000000000000004, 0.42000000000000004, 0.42000000000000004, 0.42000000000000004, 0.42000000000000004, 0.42000000000000004, 0.42000000000000004, 0.4, 0.4, 0.4, 0.4, 0.4, 0.4, 0.42000000000000004, 0.43999999999999995, 0.42000000000000004, 0.42000000000000004, 0.42000000000000004, 0.4, 0.4, 0.4, 0.4, 0.4, 0.42000000000000004, 0.43999999999999995, 0.43999999999999995, 0.43999999999999995, 0.43999999999999995, 0.43999999999999995, 0.43999999999999995, 0.42000000000000004, 0.4, 0.4, 0.38, 0.38, 0.38, 0.4, 0.4, 0.38, 0.38, 0.36, 0.36, 0.4, 0.43999999999999995, 0.43999999999999995, 0.43999999999999995, 0.45999999999999996, 0.45999999999999996, 0.48, 0.48, 0.48, 0.48, 0.48, 0.48, 0.48, 0.48, 0.48, 0.45999999999999996, 0.45999999999999996, 0.45999999999999996, 0.45999999999999996, 0.45999999999999996, 0.45999999999999996, 0.48, 0.48, 0.48, 0.45999999999999996, 0.45999999999999996, 0.45999999999999996, 0.45999999999999996, 0.43999999999999995, 0.45999999999999996, 0.45999999999999996, 0.45999999999999996, 0.45999999999999996, 0.45999999999999996, 0.45999999999999996, 0.45999999999999996, 0.45999999999999996, 0.43999999999999995, 0.45999999999999996, 0.45999999999999996, 0.45999999999999996, 0.45999999999999996, 0.43999999999999995, 0.43999999999999995, 0.43999999999999995, 0.43999999999999995, 0.42000000000000004, 0.43999999999999995, 0.43999999999999995, 0.5, 0.5599999999999999, 0.6, 0.62, 0.64, 0.64, 0.66, 0.68, 0.7000000000000001, 0.7000000000000001, 0.68]}, {\"mode\": \"lines\", \"name\": \"Predicted\", \"type\": \"scatter\", \"x\": [\"2018-12-21 10:30:00\", \"2018-12-21 10:40:00\", \"2018-12-21 10:50:00\", \"2018-12-21 11:00:00\", \"2018-12-21 11:10:00\", \"2018-12-21 11:20:00\", \"2018-12-21 11:30:00\", \"2018-12-21 11:40:00\", \"2018-12-21 11:50:00\", \"2018-12-21 12:00:00\", \"2018-12-21 12:10:00\", \"2018-12-21 12:20:00\", \"2018-12-21 12:30:00\", \"2018-12-21 12:40:00\", \"2018-12-21 12:50:00\", \"2018-12-21 13:00:00\", \"2018-12-21 13:10:00\", \"2018-12-21 13:20:00\", \"2018-12-21 13:30:00\", \"2018-12-21 13:40:00\", \"2018-12-21 13:50:00\", \"2018-12-21 14:00:00\", \"2018-12-21 14:10:00\", \"2018-12-21 14:20:00\", \"2018-12-21 14:30:00\", \"2018-12-21 14:40:00\", \"2018-12-21 14:50:00\", \"2018-12-21 15:00:00\", \"2018-12-21 15:10:00\", \"2018-12-21 15:20:00\", \"2018-12-21 15:30:00\", \"2018-12-21 15:40:00\", \"2018-12-21 15:50:00\", \"2018-12-21 16:00:00\", \"2018-12-21 16:10:00\", \"2018-12-21 16:20:00\", \"2018-12-21 16:30:00\", \"2018-12-21 16:40:00\", \"2018-12-21 16:50:00\", \"2018-12-21 17:00:00\", \"2018-12-21 17:10:00\", \"2018-12-21 17:20:00\", \"2018-12-21 17:30:00\", \"2018-12-21 17:40:00\", \"2018-12-21 17:50:00\", \"2018-12-21 18:00:00\", \"2018-12-21 18:10:00\", \"2018-12-21 18:20:00\", \"2018-12-21 18:30:00\", \"2018-12-21 18:40:00\", \"2018-12-21 18:50:00\", \"2018-12-21 19:00:00\", \"2018-12-21 19:10:00\", \"2018-12-21 19:20:00\", \"2018-12-21 19:30:00\", \"2018-12-21 19:40:00\", \"2018-12-21 19:50:00\", \"2018-12-21 20:00:00\", \"2018-12-21 20:10:00\", \"2018-12-21 20:20:00\", \"2018-12-21 20:30:00\", \"2018-12-21 20:40:00\", \"2018-12-21 20:50:00\", \"2018-12-21 21:00:00\", \"2018-12-21 21:10:00\", \"2018-12-21 21:20:00\", \"2018-12-21 21:30:00\", \"2018-12-21 21:40:00\", \"2018-12-21 21:50:00\", \"2018-12-21 22:00:00\", \"2018-12-21 22:10:00\", \"2018-12-21 22:20:00\", \"2018-12-21 22:30:00\", \"2018-12-21 22:40:00\", \"2018-12-21 22:50:00\", \"2018-12-21 23:00:00\", \"2018-12-21 23:10:00\", \"2018-12-21 23:20:00\", \"2018-12-21 23:30:00\", \"2018-12-21 23:40:00\", \"2018-12-21 23:50:00\", \"2018-12-22 0:00:00\", \"2018-12-22 0:10:00\", \"2018-12-22 0:20:00\", \"2018-12-22 0:30:00\", \"2018-12-22 0:40:00\", \"2018-12-22 0:50:00\", \"2018-12-22 1:00:00\", \"2018-12-22 1:10:00\", \"2018-12-22 1:20:00\", \"2018-12-22 1:30:00\", \"2018-12-22 1:40:00\", \"2018-12-22 1:50:00\", \"2018-12-22 2:00:00\", \"2018-12-22 2:10:00\", \"2018-12-22 2:20:00\", \"2018-12-22 2:30:00\", \"2018-12-22 2:40:00\", \"2018-12-22 2:50:00\", \"2018-12-22 3:00:00\", \"2018-12-22 3:10:00\", \"2018-12-22 3:20:00\", \"2018-12-22 3:30:00\", \"2018-12-22 3:40:00\", \"2018-12-22 3:50:00\", \"2018-12-22 4:00:00\", \"2018-12-22 4:10:00\", \"2018-12-22 4:20:00\", \"2018-12-22 4:30:00\", \"2018-12-22 4:40:00\", \"2018-12-22 4:50:00\", \"2018-12-22 5:00:00\", \"2018-12-22 5:10:00\", \"2018-12-22 5:20:00\", \"2018-12-22 5:30:00\", \"2018-12-22 5:40:00\", \"2018-12-22 5:50:00\", \"2018-12-22 6:00:00\", \"2018-12-22 6:10:00\", \"2018-12-22 6:20:00\", \"2018-12-22 6:30:00\", \"2018-12-22 6:40:00\", \"2018-12-22 6:50:00\", \"2018-12-22 7:00:00\", \"2018-12-22 7:10:00\", \"2018-12-22 7:20:00\", \"2018-12-22 7:30:00\", \"2018-12-22 7:40:00\", \"2018-12-22 7:50:00\", \"2018-12-22 8:00:00\", \"2018-12-22 8:10:00\", \"2018-12-22 8:20:00\", \"2018-12-22 8:30:00\", \"2018-12-22 8:40:00\", \"2018-12-22 8:50:00\", \"2018-12-22 9:00:00\", \"2018-12-22 9:10:00\", \"2018-12-22 9:20:00\", \"2018-12-22 9:30:00\", \"2018-12-22 9:40:00\", \"2018-12-22 9:50:00\", \"2018-12-22 10:00:00\", \"2018-12-22 10:10:00\", \"2018-12-22 10:20:00\", \"2018-12-22 10:30:00\", \"2018-12-22 10:40:00\", \"2018-12-22 10:50:00\", \"2018-12-22 11:00:00\", \"2018-12-22 11:10:00\", \"2018-12-22 11:20:00\", \"2018-12-22 11:30:00\", \"2018-12-22 11:40:00\", \"2018-12-22 11:50:00\", \"2018-12-22 12:00:00\", \"2018-12-22 12:10:00\", \"2018-12-22 12:20:00\", \"2018-12-22 12:30:00\", \"2018-12-22 12:40:00\", \"2018-12-22 12:50:00\", \"2018-12-22 13:00:00\", \"2018-12-22 13:10:00\", \"2018-12-22 13:20:00\", \"2018-12-22 13:30:00\", \"2018-12-22 13:40:00\", \"2018-12-22 13:50:00\", \"2018-12-22 14:00:00\", \"2018-12-22 14:10:00\", \"2018-12-22 14:20:00\", \"2018-12-22 14:30:00\", \"2018-12-22 14:40:00\", \"2018-12-22 14:50:00\", \"2018-12-22 15:00:00\", \"2018-12-22 15:10:00\", \"2018-12-22 15:20:00\", \"2018-12-22 15:30:00\", \"2018-12-22 15:40:00\", \"2018-12-22 15:50:00\", \"2018-12-22 16:00:00\", \"2018-12-22 16:10:00\", \"2018-12-22 16:20:00\", \"2018-12-22 16:30:00\", \"2018-12-22 16:40:00\", \"2018-12-22 16:50:00\", \"2018-12-22 17:00:00\", \"2018-12-22 17:10:00\", \"2018-12-22 17:20:00\", \"2018-12-22 17:30:00\", \"2018-12-22 17:40:00\", \"2018-12-22 17:50:00\", \"2018-12-22 18:00:00\", \"2018-12-22 18:10:00\", \"2018-12-22 18:20:00\", \"2018-12-22 18:30:00\", \"2018-12-22 18:40:00\", \"2018-12-22 18:50:00\", \"2018-12-22 19:00:00\", \"2018-12-22 19:10:00\", \"2018-12-22 19:20:00\", \"2018-12-22 19:30:00\", \"2018-12-22 19:40:00\", \"2018-12-22 19:50:00\", \"2018-12-22 20:00:00\", \"2018-12-22 20:10:00\", \"2018-12-22 20:20:00\", \"2018-12-22 20:30:00\", \"2018-12-22 20:40:00\", \"2018-12-22 20:50:00\", \"2018-12-22 21:00:00\", \"2018-12-22 21:10:00\", \"2018-12-22 21:20:00\", \"2018-12-22 21:30:00\", \"2018-12-22 21:40:00\", \"2018-12-22 21:50:00\", \"2018-12-22 22:00:00\", \"2018-12-22 22:10:00\", \"2018-12-22 22:20:00\", \"2018-12-22 22:30:00\", \"2018-12-22 22:40:00\", \"2018-12-22 22:50:00\", \"2018-12-22 23:00:00\", \"2018-12-22 23:10:00\", \"2018-12-22 23:20:00\", \"2018-12-22 23:30:00\", \"2018-12-22 23:40:00\", \"2018-12-22 23:50:00\", \"2018-12-23 0:00:00\", \"2018-12-23 0:10:00\", \"2018-12-23 0:20:00\", \"2018-12-23 0:30:00\", \"2018-12-23 0:40:00\", \"2018-12-23 0:50:00\", \"2018-12-23 1:00:00\", \"2018-12-23 1:10:00\", \"2018-12-23 1:20:00\", \"2018-12-23 1:30:00\", \"2018-12-23 1:40:00\", \"2018-12-23 1:50:00\", \"2018-12-23 2:00:00\", \"2018-12-23 2:10:00\", \"2018-12-23 2:20:00\", \"2018-12-23 2:30:00\", \"2018-12-23 2:40:00\", \"2018-12-23 2:50:00\", \"2018-12-23 3:00:00\", \"2018-12-23 3:10:00\", \"2018-12-23 3:20:00\", \"2018-12-23 3:30:00\", \"2018-12-23 3:40:00\", \"2018-12-23 3:50:00\", \"2018-12-23 4:00:00\", \"2018-12-23 4:10:00\", \"2018-12-23 4:20:00\", \"2018-12-23 4:30:00\", \"2018-12-23 4:40:00\", \"2018-12-23 4:50:00\", \"2018-12-23 5:00:00\", \"2018-12-23 5:10:00\", \"2018-12-23 5:20:00\", \"2018-12-23 5:30:00\", \"2018-12-23 5:40:00\", \"2018-12-23 5:50:00\", \"2018-12-23 6:00:00\", \"2018-12-23 6:10:00\", \"2018-12-23 6:20:00\", \"2018-12-23 6:30:00\", \"2018-12-23 6:40:00\", \"2018-12-23 6:50:00\", \"2018-12-23 7:00:00\", \"2018-12-23 7:10:00\", \"2018-12-23 7:20:00\", \"2018-12-23 7:30:00\", \"2018-12-23 7:40:00\", \"2018-12-23 7:50:00\", \"2018-12-23 8:00:00\", \"2018-12-23 8:10:00\", \"2018-12-23 8:20:00\", \"2018-12-23 8:30:00\", \"2018-12-23 8:40:00\", \"2018-12-23 8:50:00\", \"2018-12-23 9:00:00\", \"2018-12-23 9:10:00\", \"2018-12-23 9:20:00\", \"2018-12-23 9:30:00\", \"2018-12-23 9:40:00\", \"2018-12-23 9:50:00\", \"2018-12-23 10:00:00\", \"2018-12-23 10:10:00\", \"2018-12-23 10:20:00\", \"2018-12-23 10:30:00\", \"2018-12-23 10:40:00\", \"2018-12-23 10:50:00\", \"2018-12-23 11:00:00\", \"2018-12-23 11:10:00\", \"2018-12-23 11:20:00\", \"2018-12-23 11:30:00\", \"2018-12-23 11:40:00\", \"2018-12-23 11:50:00\", \"2018-12-23 12:00:00\", \"2018-12-23 12:10:00\", \"2018-12-23 12:20:00\", \"2018-12-23 12:30:00\", \"2018-12-23 12:40:00\", \"2018-12-23 12:50:00\", \"2018-12-23 13:00:00\", \"2018-12-23 13:10:00\", \"2018-12-23 13:20:00\", \"2018-12-23 13:30:00\", \"2018-12-23 13:40:00\", \"2018-12-23 13:50:00\", \"2018-12-23 14:00:00\", \"2018-12-23 14:10:00\", \"2018-12-23 14:20:00\", \"2018-12-23 14:30:00\", \"2018-12-23 14:40:00\", \"2018-12-23 14:50:00\", \"2018-12-23 15:00:00\", \"2018-12-23 15:10:00\", \"2018-12-23 15:20:00\", \"2018-12-23 15:30:00\", \"2018-12-23 15:40:00\", \"2018-12-23 15:50:00\", \"2018-12-23 16:00:00\", \"2018-12-23 16:10:00\", \"2018-12-23 16:20:00\", \"2018-12-23 16:30:00\", \"2018-12-23 16:40:00\", \"2018-12-23 16:50:00\", \"2018-12-23 17:00:00\", \"2018-12-23 17:10:00\", \"2018-12-23 17:20:00\", \"2018-12-23 17:30:00\", \"2018-12-23 17:40:00\", \"2018-12-23 17:50:00\", \"2018-12-23 18:00:00\", \"2018-12-23 18:10:00\", \"2018-12-23 18:20:00\", \"2018-12-23 18:30:00\", \"2018-12-23 18:40:00\", \"2018-12-23 18:50:00\", \"2018-12-23 19:00:00\", \"2018-12-23 19:10:00\", \"2018-12-23 19:20:00\", \"2018-12-23 19:30:00\", \"2018-12-23 19:40:00\", \"2018-12-23 19:50:00\", \"2018-12-23 20:00:00\", \"2018-12-23 20:10:00\", \"2018-12-23 20:20:00\", \"2018-12-23 20:30:00\", \"2018-12-23 20:40:00\", \"2018-12-23 20:50:00\", \"2018-12-23 21:00:00\", \"2018-12-23 21:10:00\", \"2018-12-23 21:20:00\", \"2018-12-23 21:30:00\", \"2018-12-23 21:40:00\", \"2018-12-23 21:50:00\", \"2018-12-23 22:00:00\", \"2018-12-23 22:10:00\", \"2018-12-23 22:20:00\", \"2018-12-23 22:30:00\", \"2018-12-23 22:40:00\", \"2018-12-23 22:50:00\", \"2018-12-23 23:00:00\", \"2018-12-23 23:10:00\", \"2018-12-23 23:20:00\", \"2018-12-23 23:30:00\", \"2018-12-23 23:40:00\", \"2018-12-23 23:50:00\", \"2018-12-24 0:00:00\", \"2018-12-24 0:10:00\", \"2018-12-24 0:20:00\", \"2018-12-24 0:30:00\", \"2018-12-24 0:40:00\", \"2018-12-24 0:50:00\", \"2018-12-24 1:00:00\", \"2018-12-24 1:10:00\", \"2018-12-24 1:20:00\", \"2018-12-24 1:30:00\", \"2018-12-24 1:40:00\", \"2018-12-24 1:50:00\", \"2018-12-24 2:00:00\", \"2018-12-24 2:10:00\", \"2018-12-24 2:20:00\", \"2018-12-24 2:30:00\", \"2018-12-24 2:40:00\", \"2018-12-24 2:50:00\", \"2018-12-24 3:00:00\", \"2018-12-24 3:10:00\", \"2018-12-24 3:20:00\", \"2018-12-24 3:30:00\", \"2018-12-24 3:40:00\", \"2018-12-24 3:50:00\", \"2018-12-24 4:00:00\", \"2018-12-24 4:10:00\", \"2018-12-24 4:20:00\", \"2018-12-24 4:30:00\", \"2018-12-24 4:40:00\", \"2018-12-24 4:50:00\", \"2018-12-24 5:00:00\", \"2018-12-24 5:10:00\", \"2018-12-24 5:20:00\", \"2018-12-24 5:30:00\", \"2018-12-24 5:40:00\", \"2018-12-24 5:50:00\", \"2018-12-24 6:00:00\", \"2018-12-24 6:10:00\", \"2018-12-24 6:20:00\", \"2018-12-24 6:30:00\"], \"y\": [0.6410284638404846, 0.6331354975700378, 0.6344070434570312, 0.6400250792503357, 0.6518669724464417, 0.6594743132591248, 0.6668211221694946, 0.6727957129478455, 0.6765316128730774, 0.6803000569343567, 0.6810284852981567, 0.6825180649757385, 0.6834891438484192, 0.6820749640464783, 0.6821555495262146, 0.682576060295105, 0.684072732925415, 0.6896362900733948, 0.6927354335784912, 0.6938284635543823, 0.697035551071167, 0.6993545889854431, 0.701596736907959, 0.6960729360580444, 0.6980272531509399, 0.7014200687408447, 0.7040922045707703, 0.7057444453239441, 0.7032313942909241, 0.6939160227775574, 0.680275559425354, 0.6669059991836548, 0.6492538452148438, 0.6434639096260071, 0.6417613625526428, 0.6332082152366638, 0.6225717663764954, 0.6150882244110107, 0.6091864109039307, 0.6076716184616089, 0.606985867023468, 0.6101136803627014, 0.6119365096092224, 0.6106569766998291, 0.6065083146095276, 0.6053330302238464, 0.6060516238212585, 0.6033312082290649, 0.5970393419265747, 0.5869691967964172, 0.5850241184234619, 0.5897335410118103, 0.6034588813781738, 0.6182756423950195, 0.6287367343902588, 0.6351378560066223, 0.6397306323051453, 0.6448745131492615, 0.654174268245697, 0.6609154939651489, 0.6656714677810669, 0.6679978966712952, 0.6716408729553223, 0.6781885027885437, 0.6847572922706604, 0.688645601272583, 0.6866301894187927, 0.6743757724761963, 0.6639029383659363, 0.6548385620117188, 0.6465907692909241, 0.6362687349319458, 0.6269427537918091, 0.616723358631134, 0.6139834523200989, 0.609112024307251, 0.6067636013031006, 0.6054585576057434, 0.6097577810287476, 0.6167524456977844, 0.6236623525619507, 0.6256878972053528, 0.6256024241447449, 0.6204264163970947, 0.6114694476127625, 0.6045137047767639, 0.5947409868240356, 0.5878475308418274, 0.5796453952789307, 0.5663871169090271, 0.5641648173332214, 0.5569464564323425, 0.553115963935852, 0.559500515460968, 0.5693032741546631, 0.5769203901290894, 0.5816600918769836, 0.5915043354034424, 0.5874873399734497, 0.582448422908783, 0.5825453996658325, 0.5843863487243652, 0.5894902348518372, 0.5873720645904541, 0.5964584946632385, 0.5940618515014648, 0.5966817736625671, 0.5908615589141846, 0.5831701159477234, 0.5935606360435486, 0.5939180254936218, 0.6017377972602844, 0.5990099906921387, 0.6044003367424011, 0.6012074947357178, 0.5938253402709961, 0.5887419581413269, 0.5774598121643066, 0.5824548602104187, 0.5628049969673157, 0.5580083727836609, 0.5597819685935974, 0.552484929561615, 0.5421456694602966, 0.5479425191879272, 0.5482338070869446, 0.5459093451499939, 0.5456932783126831, 0.5400358438491821, 0.5407209992408752, 0.5300548076629639, 0.5151569843292236, 0.5068467259407043, 0.5045801401138306, 0.5015273690223694, 0.49722105264663696, 0.4937552809715271, 0.4910184442996979, 0.48852816224098206, 0.4858616292476654, 0.4836577773094177, 0.481270432472229, 0.4787086546421051, 0.47552362084388733, 0.4653152525424957, 0.4563480317592621, 0.4474085569381714, 0.43849611282348633, 0.42993849515914917, 0.420317679643631, 0.41196534037590027, 0.40293753147125244, 0.3954707980155945, 0.38931581377983093, 0.38219258189201355, 0.3763049244880676, 0.37121638655662537, 0.366472452878952, 0.3623763620853424, 0.3585352897644043, 0.3562476634979248, 0.3542717397212982, 0.35212332010269165, 0.3500598669052124, 0.34966301918029785, 0.351728618144989, 0.35407114028930664, 0.35662737488746643, 0.3616679310798645, 0.37180185317993164, 0.3970259428024292, 0.4172300696372986, 0.43216270208358765, 0.44458967447280884, 0.45659351348876953, 0.4646485149860382, 0.47192150354385376, 0.4743667244911194, 0.47538647055625916, 0.4771045446395874, 0.4776272773742676, 0.47835972905158997, 0.4796326756477356, 0.48067033290863037, 0.48230862617492676, 0.4864782691001892, 0.5018637180328369, 0.5170994400978088, 0.5429999232292175, 0.5514070987701416, 0.5577310919761658, 0.5911520719528198, 0.6377850770950317, 0.6764382719993591, 0.6922450065612793, 0.6949496865272522, 0.6939401626586914, 0.6943113803863525, 0.6961101293563843, 0.6986072659492493, 0.6948133111000061, 0.6886823177337646, 0.6850919127464294, 0.6828519701957703, 0.6833509206771851, 0.6848653554916382, 0.6843178272247314, 0.6877323389053345, 0.6884201169013977, 0.6856719255447388, 0.6801560521125793, 0.6781498193740845, 0.6746029853820801, 0.6781755685806274, 0.6789326667785645, 0.6789885759353638, 0.678645670413971, 0.6732950210571289, 0.6660575866699219, 0.6591092944145203, 0.6555473804473877, 0.6533603668212891, 0.6460900902748108, 0.6374886631965637, 0.626416802406311, 0.6191586256027222, 0.6101880669593811, 0.6072974801063538, 0.6064599752426147, 0.6062977313995361, 0.6093593239784241, 0.6058054566383362, 0.5947352647781372, 0.5796859860420227, 0.5648806691169739, 0.5542601346969604, 0.5431423783302307, 0.5360089540481567, 0.5372167229652405, 0.541691243648529, 0.5492360591888428, 0.5548601150512695, 0.5649616122245789, 0.5663649439811707, 0.5702393054962158, 0.5725690722465515, 0.5644360780715942, 0.5652244091033936, 0.557479739189148, 0.5522622466087341, 0.5546781420707703, 0.5573692917823792, 0.5529001355171204, 0.5362374186515808, 0.5290307998657227, 0.5284960865974426, 0.5260666012763977, 0.5192338824272156, 0.5166744589805603, 0.5145814418792725, 0.5089526176452637, 0.5069977641105652, 0.5055401921272278, 0.5057910680770874, 0.49901604652404785, 0.49924004077911377, 0.49943599104881287, 0.4980464577674866, 0.49824878573417664, 0.4988385736942291, 0.49858206510543823, 0.4976751208305359, 0.49680134654045105, 0.4967089891433716, 0.49599406123161316, 0.4971926212310791, 0.5026870369911194, 0.5033766031265259, 0.502180278301239, 0.5016807317733765, 0.5014640092849731, 0.4983730614185333, 0.49703752994537354, 0.49505919218063354, 0.492511510848999, 0.4909211993217468, 0.49052882194519043, 0.4884771406650543, 0.48662814497947693, 0.4847421944141388, 0.4827117621898651, 0.4805816411972046, 0.4783441424369812, 0.47542673349380493, 0.46772336959838867, 0.46050167083740234, 0.45399951934814453, 0.4475737512111664, 0.44180041551589966, 0.4357319474220276, 0.43024295568466187, 0.42520931363105774, 0.4203360974788666, 0.41746363043785095, 0.41533270478248596, 0.4132196605205536, 0.41122370958328247, 0.4096113443374634, 0.40851518511772156, 0.40778452157974243, 0.40701231360435486, 0.4060620665550232, 0.40509650111198425, 0.4036504328250885, 0.3980698883533478, 0.3901735246181488, 0.38365915417671204, 0.37791547179222107, 0.38069817423820496, 0.38771557807922363, 0.41255420446395874, 0.42189088463783264, 0.4217962622642517, 0.4146469831466675, 0.40765702724456787, 0.3984547257423401, 0.38901203870773315, 0.3831517994403839, 0.3788398802280426, 0.37305256724357605, 0.397121787071228, 0.4117420017719269, 0.424239844083786, 0.43378862738609314, 0.44219687581062317, 0.44613179564476013, 0.4464844763278961, 0.4372214674949646, 0.42568859457969666, 0.41432511806488037, 0.40289828181266785, 0.3928203284740448, 0.3857218027114868, 0.3818926215171814, 0.37840506434440613, 0.3722112476825714, 0.3657761514186859, 0.35999801754951477, 0.3570079207420349, 0.4015227258205414, 0.4136401414871216, 0.4241487383842468, 0.4361741542816162, 0.4458330571651459, 0.45675796270370483, 0.4660104215145111, 0.4733980894088745, 0.4789128601551056, 0.4820672571659088, 0.48222166299819946, 0.4796461760997772, 0.4768545627593994, 0.47488343715667725, 0.4714694023132324, 0.4687001705169678, 0.465655118227005, 0.4625324308872223, 0.46011412143707275, 0.45966118574142456, 0.4611135423183441, 0.46629267930984497, 0.4671356678009033, 0.4676671624183655, 0.46683862805366516, 0.46642622351646423, 0.4656737148761749, 0.4642566740512848, 0.4633360207080841, 0.4636075496673584, 0.4637983739376068, 0.4638163447380066, 0.4636751115322113, 0.464334636926651, 0.46477219462394714, 0.465251624584198, 0.46483349800109863, 0.46206173300743103, 0.4619710147380829, 0.46171149611473083, 0.46236079931259155, 0.4618946611881256, 0.45874887704849243, 0.4519590437412262, 0.44916701316833496, 0.43994343280792236, 0.4314379394054413, 0.42727211117744446, 0.43511369824409485, 0.46530988812446594, 0.5320857167243958, 0.5771445631980896, 0.6021791696548462, 0.6147915124893188, 0.6382091641426086, 0.654180109500885, 0.674132764339447, 0.6878570914268494, 0.6826938390731812, 0.6757592558860779]}],\n",
              "                        {\"template\": {\"data\": {\"bar\": [{\"error_x\": {\"color\": \"#2a3f5f\"}, \"error_y\": {\"color\": \"#2a3f5f\"}, \"marker\": {\"line\": {\"color\": \"#E5ECF6\", \"width\": 0.5}}, \"type\": \"bar\"}], \"barpolar\": [{\"marker\": {\"line\": {\"color\": \"#E5ECF6\", \"width\": 0.5}}, \"type\": \"barpolar\"}], \"carpet\": [{\"aaxis\": {\"endlinecolor\": \"#2a3f5f\", \"gridcolor\": \"white\", \"linecolor\": \"white\", \"minorgridcolor\": \"white\", \"startlinecolor\": \"#2a3f5f\"}, \"baxis\": {\"endlinecolor\": \"#2a3f5f\", \"gridcolor\": \"white\", \"linecolor\": \"white\", \"minorgridcolor\": \"white\", \"startlinecolor\": \"#2a3f5f\"}, \"type\": \"carpet\"}], \"choropleth\": [{\"colorbar\": {\"outlinewidth\": 0, \"ticks\": \"\"}, \"type\": \"choropleth\"}], \"contour\": [{\"colorbar\": {\"outlinewidth\": 0, \"ticks\": \"\"}, \"colorscale\": [[0.0, \"#0d0887\"], [0.1111111111111111, \"#46039f\"], [0.2222222222222222, \"#7201a8\"], [0.3333333333333333, \"#9c179e\"], [0.4444444444444444, \"#bd3786\"], [0.5555555555555556, \"#d8576b\"], [0.6666666666666666, \"#ed7953\"], [0.7777777777777778, \"#fb9f3a\"], [0.8888888888888888, \"#fdca26\"], [1.0, \"#f0f921\"]], \"type\": \"contour\"}], \"contourcarpet\": [{\"colorbar\": {\"outlinewidth\": 0, \"ticks\": \"\"}, \"type\": \"contourcarpet\"}], \"heatmap\": [{\"colorbar\": {\"outlinewidth\": 0, \"ticks\": \"\"}, \"colorscale\": [[0.0, \"#0d0887\"], [0.1111111111111111, \"#46039f\"], [0.2222222222222222, \"#7201a8\"], [0.3333333333333333, \"#9c179e\"], [0.4444444444444444, \"#bd3786\"], [0.5555555555555556, \"#d8576b\"], [0.6666666666666666, \"#ed7953\"], [0.7777777777777778, \"#fb9f3a\"], [0.8888888888888888, \"#fdca26\"], [1.0, \"#f0f921\"]], \"type\": \"heatmap\"}], \"heatmapgl\": [{\"colorbar\": {\"outlinewidth\": 0, \"ticks\": \"\"}, \"colorscale\": [[0.0, \"#0d0887\"], [0.1111111111111111, \"#46039f\"], [0.2222222222222222, \"#7201a8\"], [0.3333333333333333, \"#9c179e\"], [0.4444444444444444, \"#bd3786\"], [0.5555555555555556, \"#d8576b\"], [0.6666666666666666, \"#ed7953\"], [0.7777777777777778, \"#fb9f3a\"], [0.8888888888888888, \"#fdca26\"], [1.0, \"#f0f921\"]], \"type\": \"heatmapgl\"}], \"histogram\": [{\"marker\": {\"colorbar\": {\"outlinewidth\": 0, \"ticks\": \"\"}}, \"type\": \"histogram\"}], \"histogram2d\": [{\"colorbar\": {\"outlinewidth\": 0, \"ticks\": \"\"}, \"colorscale\": [[0.0, \"#0d0887\"], [0.1111111111111111, \"#46039f\"], [0.2222222222222222, \"#7201a8\"], [0.3333333333333333, \"#9c179e\"], [0.4444444444444444, \"#bd3786\"], [0.5555555555555556, \"#d8576b\"], [0.6666666666666666, \"#ed7953\"], [0.7777777777777778, \"#fb9f3a\"], [0.8888888888888888, \"#fdca26\"], [1.0, \"#f0f921\"]], \"type\": \"histogram2d\"}], \"histogram2dcontour\": [{\"colorbar\": {\"outlinewidth\": 0, \"ticks\": \"\"}, \"colorscale\": [[0.0, \"#0d0887\"], [0.1111111111111111, \"#46039f\"], [0.2222222222222222, \"#7201a8\"], [0.3333333333333333, \"#9c179e\"], [0.4444444444444444, \"#bd3786\"], [0.5555555555555556, \"#d8576b\"], [0.6666666666666666, \"#ed7953\"], [0.7777777777777778, \"#fb9f3a\"], [0.8888888888888888, \"#fdca26\"], [1.0, \"#f0f921\"]], \"type\": \"histogram2dcontour\"}], \"mesh3d\": [{\"colorbar\": {\"outlinewidth\": 0, \"ticks\": \"\"}, \"type\": \"mesh3d\"}], \"parcoords\": [{\"line\": {\"colorbar\": {\"outlinewidth\": 0, \"ticks\": \"\"}}, \"type\": \"parcoords\"}], \"pie\": [{\"automargin\": true, \"type\": \"pie\"}], \"scatter\": [{\"marker\": {\"colorbar\": {\"outlinewidth\": 0, \"ticks\": \"\"}}, \"type\": \"scatter\"}], \"scatter3d\": [{\"line\": {\"colorbar\": {\"outlinewidth\": 0, \"ticks\": \"\"}}, \"marker\": {\"colorbar\": {\"outlinewidth\": 0, \"ticks\": \"\"}}, \"type\": \"scatter3d\"}], \"scattercarpet\": [{\"marker\": {\"colorbar\": {\"outlinewidth\": 0, \"ticks\": \"\"}}, \"type\": \"scattercarpet\"}], \"scattergeo\": [{\"marker\": {\"colorbar\": {\"outlinewidth\": 0, \"ticks\": \"\"}}, \"type\": \"scattergeo\"}], \"scattergl\": [{\"marker\": {\"colorbar\": {\"outlinewidth\": 0, \"ticks\": \"\"}}, \"type\": \"scattergl\"}], \"scattermapbox\": [{\"marker\": {\"colorbar\": {\"outlinewidth\": 0, \"ticks\": \"\"}}, \"type\": \"scattermapbox\"}], \"scatterpolar\": [{\"marker\": {\"colorbar\": {\"outlinewidth\": 0, \"ticks\": \"\"}}, \"type\": \"scatterpolar\"}], \"scatterpolargl\": [{\"marker\": {\"colorbar\": {\"outlinewidth\": 0, \"ticks\": \"\"}}, \"type\": \"scatterpolargl\"}], \"scatterternary\": [{\"marker\": {\"colorbar\": {\"outlinewidth\": 0, \"ticks\": \"\"}}, \"type\": \"scatterternary\"}], \"surface\": [{\"colorbar\": {\"outlinewidth\": 0, \"ticks\": \"\"}, \"colorscale\": [[0.0, \"#0d0887\"], [0.1111111111111111, \"#46039f\"], [0.2222222222222222, \"#7201a8\"], [0.3333333333333333, \"#9c179e\"], [0.4444444444444444, \"#bd3786\"], [0.5555555555555556, \"#d8576b\"], [0.6666666666666666, \"#ed7953\"], [0.7777777777777778, \"#fb9f3a\"], [0.8888888888888888, \"#fdca26\"], [1.0, \"#f0f921\"]], \"type\": \"surface\"}], \"table\": [{\"cells\": {\"fill\": {\"color\": \"#EBF0F8\"}, \"line\": {\"color\": \"white\"}}, \"header\": {\"fill\": {\"color\": \"#C8D4E3\"}, \"line\": {\"color\": \"white\"}}, \"type\": \"table\"}]}, \"layout\": {\"annotationdefaults\": {\"arrowcolor\": \"#2a3f5f\", \"arrowhead\": 0, \"arrowwidth\": 1}, \"coloraxis\": {\"colorbar\": {\"outlinewidth\": 0, \"ticks\": \"\"}}, \"colorscale\": {\"diverging\": [[0, \"#8e0152\"], [0.1, \"#c51b7d\"], [0.2, \"#de77ae\"], [0.3, \"#f1b6da\"], [0.4, \"#fde0ef\"], [0.5, \"#f7f7f7\"], [0.6, \"#e6f5d0\"], [0.7, \"#b8e186\"], [0.8, \"#7fbc41\"], [0.9, \"#4d9221\"], [1, \"#276419\"]], \"sequential\": [[0.0, \"#0d0887\"], [0.1111111111111111, \"#46039f\"], [0.2222222222222222, \"#7201a8\"], [0.3333333333333333, \"#9c179e\"], [0.4444444444444444, \"#bd3786\"], [0.5555555555555556, \"#d8576b\"], [0.6666666666666666, \"#ed7953\"], [0.7777777777777778, \"#fb9f3a\"], [0.8888888888888888, \"#fdca26\"], [1.0, \"#f0f921\"]], \"sequentialminus\": [[0.0, \"#0d0887\"], [0.1111111111111111, \"#46039f\"], [0.2222222222222222, \"#7201a8\"], [0.3333333333333333, \"#9c179e\"], [0.4444444444444444, \"#bd3786\"], [0.5555555555555556, \"#d8576b\"], [0.6666666666666666, \"#ed7953\"], [0.7777777777777778, \"#fb9f3a\"], [0.8888888888888888, \"#fdca26\"], [1.0, \"#f0f921\"]]}, \"colorway\": [\"#636efa\", \"#EF553B\", \"#00cc96\", \"#ab63fa\", \"#FFA15A\", \"#19d3f3\", \"#FF6692\", \"#B6E880\", \"#FF97FF\", \"#FECB52\"], \"font\": {\"color\": \"#2a3f5f\"}, \"geo\": {\"bgcolor\": \"white\", \"lakecolor\": \"white\", \"landcolor\": \"#E5ECF6\", \"showlakes\": true, \"showland\": true, \"subunitcolor\": \"white\"}, \"hoverlabel\": {\"align\": \"left\"}, \"hovermode\": \"closest\", \"mapbox\": {\"style\": \"light\"}, \"paper_bgcolor\": \"white\", \"plot_bgcolor\": \"#E5ECF6\", \"polar\": {\"angularaxis\": {\"gridcolor\": \"white\", \"linecolor\": \"white\", \"ticks\": \"\"}, \"bgcolor\": \"#E5ECF6\", \"radialaxis\": {\"gridcolor\": \"white\", \"linecolor\": \"white\", \"ticks\": \"\"}}, \"scene\": {\"xaxis\": {\"backgroundcolor\": \"#E5ECF6\", \"gridcolor\": \"white\", \"gridwidth\": 2, \"linecolor\": \"white\", \"showbackground\": true, \"ticks\": \"\", \"zerolinecolor\": \"white\"}, \"yaxis\": {\"backgroundcolor\": \"#E5ECF6\", \"gridcolor\": \"white\", \"gridwidth\": 2, \"linecolor\": \"white\", \"showbackground\": true, \"ticks\": \"\", \"zerolinecolor\": \"white\"}, \"zaxis\": {\"backgroundcolor\": \"#E5ECF6\", \"gridcolor\": \"white\", \"gridwidth\": 2, \"linecolor\": \"white\", \"showbackground\": true, \"ticks\": \"\", \"zerolinecolor\": \"white\"}}, \"shapedefaults\": {\"line\": {\"color\": \"#2a3f5f\"}}, \"ternary\": {\"aaxis\": {\"gridcolor\": \"white\", \"linecolor\": \"white\", \"ticks\": \"\"}, \"baxis\": {\"gridcolor\": \"white\", \"linecolor\": \"white\", \"ticks\": \"\"}, \"bgcolor\": \"#E5ECF6\", \"caxis\": {\"gridcolor\": \"white\", \"linecolor\": \"white\", \"ticks\": \"\"}}, \"title\": {\"x\": 0.05}, \"xaxis\": {\"automargin\": true, \"gridcolor\": \"white\", \"linecolor\": \"white\", \"ticks\": \"\", \"title\": {\"standoff\": 15}, \"zerolinecolor\": \"white\", \"zerolinewidth\": 2}, \"yaxis\": {\"automargin\": true, \"gridcolor\": \"white\", \"linecolor\": \"white\", \"ticks\": \"\", \"title\": {\"standoff\": 15}, \"zerolinecolor\": \"white\", \"zerolinewidth\": 2}}}, \"title\": {\"text\": \"Actual vs Predicted\"}},\n",
              "                        {\"responsive\": true}\n",
              "                    ).then(function(){\n",
              "                            \n",
              "var gd = document.getElementById('f3fa735f-050e-4c04-849b-4e7effecfefa');\n",
              "var x = new MutationObserver(function (mutations, observer) {{\n",
              "        var display = window.getComputedStyle(gd).display;\n",
              "        if (!display || display === 'none') {{\n",
              "            console.log([gd, 'removed!']);\n",
              "            Plotly.purge(gd);\n",
              "            observer.disconnect();\n",
              "        }}\n",
              "}});\n",
              "\n",
              "// Listen for the removal of the full notebook cells\n",
              "var notebookContainer = gd.closest('#notebook-container');\n",
              "if (notebookContainer) {{\n",
              "    x.observe(notebookContainer, {childList: true});\n",
              "}}\n",
              "\n",
              "// Listen for the clearing of the current output cell\n",
              "var outputEl = gd.closest('.output');\n",
              "if (outputEl) {{\n",
              "    x.observe(outputEl, {childList: true});\n",
              "}}\n",
              "\n",
              "                        })\n",
              "                };\n",
              "                \n",
              "            </script>\n",
              "        </div>\n",
              "</body>\n",
              "</html>"
            ]
          },
          "metadata": {}
        }
      ]
    },
    {
      "cell_type": "code",
      "metadata": {
        "colab": {
          "base_uri": "https://localhost:8080/",
          "height": 542
        },
        "id": "TcqoHSV1LyFH",
        "outputId": "f824e0f0-a4c9-476d-cb2d-d6044439a792"
      },
      "source": [
        "column_name = 'difference' \n",
        "\n",
        "fig = go.Figure()\n",
        "fig.add_trace(go.Scatter(x=df_final['Date_Time'], y=df_final[column_name], mode='lines', name='Error'))\n",
        "fig.update_layout(title_text= \"Error\")\n",
        "\n",
        "fig.show()"
      ],
      "execution_count": 24,
      "outputs": [
        {
          "output_type": "display_data",
          "data": {
            "text/html": [
              "<html>\n",
              "<head><meta charset=\"utf-8\" /></head>\n",
              "<body>\n",
              "    <div>\n",
              "            <script src=\"https://cdnjs.cloudflare.com/ajax/libs/mathjax/2.7.5/MathJax.js?config=TeX-AMS-MML_SVG\"></script><script type=\"text/javascript\">if (window.MathJax) {MathJax.Hub.Config({SVG: {font: \"STIX-Web\"}});}</script>\n",
              "                <script type=\"text/javascript\">window.PlotlyConfig = {MathJaxConfig: 'local'};</script>\n",
              "        <script src=\"https://cdn.plot.ly/plotly-latest.min.js\"></script>    \n",
              "            <div id=\"9fb4645e-cd58-421b-bd3d-49b3d4115b57\" class=\"plotly-graph-div\" style=\"height:525px; width:100%;\"></div>\n",
              "            <script type=\"text/javascript\">\n",
              "                \n",
              "                    window.PLOTLYENV=window.PLOTLYENV || {};\n",
              "                    \n",
              "                if (document.getElementById(\"9fb4645e-cd58-421b-bd3d-49b3d4115b57\")) {\n",
              "                    Plotly.newPlot(\n",
              "                        '9fb4645e-cd58-421b-bd3d-49b3d4115b57',\n",
              "                        [{\"mode\": \"lines\", \"name\": \"Error\", \"type\": \"scatter\", \"x\": [\"2018-12-21 10:30:00\", \"2018-12-21 10:40:00\", \"2018-12-21 10:50:00\", \"2018-12-21 11:00:00\", \"2018-12-21 11:10:00\", \"2018-12-21 11:20:00\", \"2018-12-21 11:30:00\", \"2018-12-21 11:40:00\", \"2018-12-21 11:50:00\", \"2018-12-21 12:00:00\", \"2018-12-21 12:10:00\", \"2018-12-21 12:20:00\", \"2018-12-21 12:30:00\", \"2018-12-21 12:40:00\", \"2018-12-21 12:50:00\", \"2018-12-21 13:00:00\", \"2018-12-21 13:10:00\", \"2018-12-21 13:20:00\", \"2018-12-21 13:30:00\", \"2018-12-21 13:40:00\", \"2018-12-21 13:50:00\", \"2018-12-21 14:00:00\", \"2018-12-21 14:10:00\", \"2018-12-21 14:20:00\", \"2018-12-21 14:30:00\", \"2018-12-21 14:40:00\", \"2018-12-21 14:50:00\", \"2018-12-21 15:00:00\", \"2018-12-21 15:10:00\", \"2018-12-21 15:20:00\", \"2018-12-21 15:30:00\", \"2018-12-21 15:40:00\", \"2018-12-21 15:50:00\", \"2018-12-21 16:00:00\", \"2018-12-21 16:10:00\", \"2018-12-21 16:20:00\", \"2018-12-21 16:30:00\", \"2018-12-21 16:40:00\", \"2018-12-21 16:50:00\", \"2018-12-21 17:00:00\", \"2018-12-21 17:10:00\", \"2018-12-21 17:20:00\", \"2018-12-21 17:30:00\", \"2018-12-21 17:40:00\", \"2018-12-21 17:50:00\", \"2018-12-21 18:00:00\", \"2018-12-21 18:10:00\", \"2018-12-21 18:20:00\", \"2018-12-21 18:30:00\", \"2018-12-21 18:40:00\", \"2018-12-21 18:50:00\", \"2018-12-21 19:00:00\", \"2018-12-21 19:10:00\", \"2018-12-21 19:20:00\", \"2018-12-21 19:30:00\", \"2018-12-21 19:40:00\", \"2018-12-21 19:50:00\", \"2018-12-21 20:00:00\", \"2018-12-21 20:10:00\", \"2018-12-21 20:20:00\", \"2018-12-21 20:30:00\", \"2018-12-21 20:40:00\", \"2018-12-21 20:50:00\", \"2018-12-21 21:00:00\", \"2018-12-21 21:10:00\", \"2018-12-21 21:20:00\", \"2018-12-21 21:30:00\", \"2018-12-21 21:40:00\", \"2018-12-21 21:50:00\", \"2018-12-21 22:00:00\", \"2018-12-21 22:10:00\", \"2018-12-21 22:20:00\", \"2018-12-21 22:30:00\", \"2018-12-21 22:40:00\", \"2018-12-21 22:50:00\", \"2018-12-21 23:00:00\", \"2018-12-21 23:10:00\", \"2018-12-21 23:20:00\", \"2018-12-21 23:30:00\", \"2018-12-21 23:40:00\", \"2018-12-21 23:50:00\", \"2018-12-22 0:00:00\", \"2018-12-22 0:10:00\", \"2018-12-22 0:20:00\", \"2018-12-22 0:30:00\", \"2018-12-22 0:40:00\", \"2018-12-22 0:50:00\", \"2018-12-22 1:00:00\", \"2018-12-22 1:10:00\", \"2018-12-22 1:20:00\", \"2018-12-22 1:30:00\", \"2018-12-22 1:40:00\", \"2018-12-22 1:50:00\", \"2018-12-22 2:00:00\", \"2018-12-22 2:10:00\", \"2018-12-22 2:20:00\", \"2018-12-22 2:30:00\", \"2018-12-22 2:40:00\", \"2018-12-22 2:50:00\", \"2018-12-22 3:00:00\", \"2018-12-22 3:10:00\", \"2018-12-22 3:20:00\", \"2018-12-22 3:30:00\", \"2018-12-22 3:40:00\", \"2018-12-22 3:50:00\", \"2018-12-22 4:00:00\", \"2018-12-22 4:10:00\", \"2018-12-22 4:20:00\", \"2018-12-22 4:30:00\", \"2018-12-22 4:40:00\", \"2018-12-22 4:50:00\", \"2018-12-22 5:00:00\", \"2018-12-22 5:10:00\", \"2018-12-22 5:20:00\", \"2018-12-22 5:30:00\", \"2018-12-22 5:40:00\", \"2018-12-22 5:50:00\", \"2018-12-22 6:00:00\", \"2018-12-22 6:10:00\", \"2018-12-22 6:20:00\", \"2018-12-22 6:30:00\", \"2018-12-22 6:40:00\", \"2018-12-22 6:50:00\", \"2018-12-22 7:00:00\", \"2018-12-22 7:10:00\", \"2018-12-22 7:20:00\", \"2018-12-22 7:30:00\", \"2018-12-22 7:40:00\", \"2018-12-22 7:50:00\", \"2018-12-22 8:00:00\", \"2018-12-22 8:10:00\", \"2018-12-22 8:20:00\", \"2018-12-22 8:30:00\", \"2018-12-22 8:40:00\", \"2018-12-22 8:50:00\", \"2018-12-22 9:00:00\", \"2018-12-22 9:10:00\", \"2018-12-22 9:20:00\", \"2018-12-22 9:30:00\", \"2018-12-22 9:40:00\", \"2018-12-22 9:50:00\", \"2018-12-22 10:00:00\", \"2018-12-22 10:10:00\", \"2018-12-22 10:20:00\", \"2018-12-22 10:30:00\", \"2018-12-22 10:40:00\", \"2018-12-22 10:50:00\", \"2018-12-22 11:00:00\", \"2018-12-22 11:10:00\", \"2018-12-22 11:20:00\", \"2018-12-22 11:30:00\", \"2018-12-22 11:40:00\", \"2018-12-22 11:50:00\", \"2018-12-22 12:00:00\", \"2018-12-22 12:10:00\", \"2018-12-22 12:20:00\", \"2018-12-22 12:30:00\", \"2018-12-22 12:40:00\", \"2018-12-22 12:50:00\", \"2018-12-22 13:00:00\", \"2018-12-22 13:10:00\", \"2018-12-22 13:20:00\", \"2018-12-22 13:30:00\", \"2018-12-22 13:40:00\", \"2018-12-22 13:50:00\", \"2018-12-22 14:00:00\", \"2018-12-22 14:10:00\", \"2018-12-22 14:20:00\", \"2018-12-22 14:30:00\", \"2018-12-22 14:40:00\", \"2018-12-22 14:50:00\", \"2018-12-22 15:00:00\", \"2018-12-22 15:10:00\", \"2018-12-22 15:20:00\", \"2018-12-22 15:30:00\", \"2018-12-22 15:40:00\", \"2018-12-22 15:50:00\", \"2018-12-22 16:00:00\", \"2018-12-22 16:10:00\", \"2018-12-22 16:20:00\", \"2018-12-22 16:30:00\", \"2018-12-22 16:40:00\", \"2018-12-22 16:50:00\", \"2018-12-22 17:00:00\", \"2018-12-22 17:10:00\", \"2018-12-22 17:20:00\", \"2018-12-22 17:30:00\", \"2018-12-22 17:40:00\", \"2018-12-22 17:50:00\", \"2018-12-22 18:00:00\", \"2018-12-22 18:10:00\", \"2018-12-22 18:20:00\", \"2018-12-22 18:30:00\", \"2018-12-22 18:40:00\", \"2018-12-22 18:50:00\", \"2018-12-22 19:00:00\", \"2018-12-22 19:10:00\", \"2018-12-22 19:20:00\", \"2018-12-22 19:30:00\", \"2018-12-22 19:40:00\", \"2018-12-22 19:50:00\", \"2018-12-22 20:00:00\", \"2018-12-22 20:10:00\", \"2018-12-22 20:20:00\", \"2018-12-22 20:30:00\", \"2018-12-22 20:40:00\", \"2018-12-22 20:50:00\", \"2018-12-22 21:00:00\", \"2018-12-22 21:10:00\", \"2018-12-22 21:20:00\", \"2018-12-22 21:30:00\", \"2018-12-22 21:40:00\", \"2018-12-22 21:50:00\", \"2018-12-22 22:00:00\", \"2018-12-22 22:10:00\", \"2018-12-22 22:20:00\", \"2018-12-22 22:30:00\", \"2018-12-22 22:40:00\", \"2018-12-22 22:50:00\", \"2018-12-22 23:00:00\", \"2018-12-22 23:10:00\", \"2018-12-22 23:20:00\", \"2018-12-22 23:30:00\", \"2018-12-22 23:40:00\", \"2018-12-22 23:50:00\", \"2018-12-23 0:00:00\", \"2018-12-23 0:10:00\", \"2018-12-23 0:20:00\", \"2018-12-23 0:30:00\", \"2018-12-23 0:40:00\", \"2018-12-23 0:50:00\", \"2018-12-23 1:00:00\", \"2018-12-23 1:10:00\", \"2018-12-23 1:20:00\", \"2018-12-23 1:30:00\", \"2018-12-23 1:40:00\", \"2018-12-23 1:50:00\", \"2018-12-23 2:00:00\", \"2018-12-23 2:10:00\", \"2018-12-23 2:20:00\", \"2018-12-23 2:30:00\", \"2018-12-23 2:40:00\", \"2018-12-23 2:50:00\", \"2018-12-23 3:00:00\", \"2018-12-23 3:10:00\", \"2018-12-23 3:20:00\", \"2018-12-23 3:30:00\", \"2018-12-23 3:40:00\", \"2018-12-23 3:50:00\", \"2018-12-23 4:00:00\", \"2018-12-23 4:10:00\", \"2018-12-23 4:20:00\", \"2018-12-23 4:30:00\", \"2018-12-23 4:40:00\", \"2018-12-23 4:50:00\", \"2018-12-23 5:00:00\", \"2018-12-23 5:10:00\", \"2018-12-23 5:20:00\", \"2018-12-23 5:30:00\", \"2018-12-23 5:40:00\", \"2018-12-23 5:50:00\", \"2018-12-23 6:00:00\", \"2018-12-23 6:10:00\", \"2018-12-23 6:20:00\", \"2018-12-23 6:30:00\", \"2018-12-23 6:40:00\", \"2018-12-23 6:50:00\", \"2018-12-23 7:00:00\", \"2018-12-23 7:10:00\", \"2018-12-23 7:20:00\", \"2018-12-23 7:30:00\", \"2018-12-23 7:40:00\", \"2018-12-23 7:50:00\", \"2018-12-23 8:00:00\", \"2018-12-23 8:10:00\", \"2018-12-23 8:20:00\", \"2018-12-23 8:30:00\", \"2018-12-23 8:40:00\", \"2018-12-23 8:50:00\", \"2018-12-23 9:00:00\", \"2018-12-23 9:10:00\", \"2018-12-23 9:20:00\", \"2018-12-23 9:30:00\", \"2018-12-23 9:40:00\", \"2018-12-23 9:50:00\", \"2018-12-23 10:00:00\", \"2018-12-23 10:10:00\", \"2018-12-23 10:20:00\", \"2018-12-23 10:30:00\", \"2018-12-23 10:40:00\", \"2018-12-23 10:50:00\", \"2018-12-23 11:00:00\", \"2018-12-23 11:10:00\", \"2018-12-23 11:20:00\", \"2018-12-23 11:30:00\", \"2018-12-23 11:40:00\", \"2018-12-23 11:50:00\", \"2018-12-23 12:00:00\", \"2018-12-23 12:10:00\", \"2018-12-23 12:20:00\", \"2018-12-23 12:30:00\", \"2018-12-23 12:40:00\", \"2018-12-23 12:50:00\", \"2018-12-23 13:00:00\", \"2018-12-23 13:10:00\", \"2018-12-23 13:20:00\", \"2018-12-23 13:30:00\", \"2018-12-23 13:40:00\", \"2018-12-23 13:50:00\", \"2018-12-23 14:00:00\", \"2018-12-23 14:10:00\", \"2018-12-23 14:20:00\", \"2018-12-23 14:30:00\", \"2018-12-23 14:40:00\", \"2018-12-23 14:50:00\", \"2018-12-23 15:00:00\", \"2018-12-23 15:10:00\", \"2018-12-23 15:20:00\", \"2018-12-23 15:30:00\", \"2018-12-23 15:40:00\", \"2018-12-23 15:50:00\", \"2018-12-23 16:00:00\", \"2018-12-23 16:10:00\", \"2018-12-23 16:20:00\", \"2018-12-23 16:30:00\", \"2018-12-23 16:40:00\", \"2018-12-23 16:50:00\", \"2018-12-23 17:00:00\", \"2018-12-23 17:10:00\", \"2018-12-23 17:20:00\", \"2018-12-23 17:30:00\", \"2018-12-23 17:40:00\", \"2018-12-23 17:50:00\", \"2018-12-23 18:00:00\", \"2018-12-23 18:10:00\", \"2018-12-23 18:20:00\", \"2018-12-23 18:30:00\", \"2018-12-23 18:40:00\", \"2018-12-23 18:50:00\", \"2018-12-23 19:00:00\", \"2018-12-23 19:10:00\", \"2018-12-23 19:20:00\", \"2018-12-23 19:30:00\", \"2018-12-23 19:40:00\", \"2018-12-23 19:50:00\", \"2018-12-23 20:00:00\", \"2018-12-23 20:10:00\", \"2018-12-23 20:20:00\", \"2018-12-23 20:30:00\", \"2018-12-23 20:40:00\", \"2018-12-23 20:50:00\", \"2018-12-23 21:00:00\", \"2018-12-23 21:10:00\", \"2018-12-23 21:20:00\", \"2018-12-23 21:30:00\", \"2018-12-23 21:40:00\", \"2018-12-23 21:50:00\", \"2018-12-23 22:00:00\", \"2018-12-23 22:10:00\", \"2018-12-23 22:20:00\", \"2018-12-23 22:30:00\", \"2018-12-23 22:40:00\", \"2018-12-23 22:50:00\", \"2018-12-23 23:00:00\", \"2018-12-23 23:10:00\", \"2018-12-23 23:20:00\", \"2018-12-23 23:30:00\", \"2018-12-23 23:40:00\", \"2018-12-23 23:50:00\", \"2018-12-24 0:00:00\", \"2018-12-24 0:10:00\", \"2018-12-24 0:20:00\", \"2018-12-24 0:30:00\", \"2018-12-24 0:40:00\", \"2018-12-24 0:50:00\", \"2018-12-24 1:00:00\", \"2018-12-24 1:10:00\", \"2018-12-24 1:20:00\", \"2018-12-24 1:30:00\", \"2018-12-24 1:40:00\", \"2018-12-24 1:50:00\", \"2018-12-24 2:00:00\", \"2018-12-24 2:10:00\", \"2018-12-24 2:20:00\", \"2018-12-24 2:30:00\", \"2018-12-24 2:40:00\", \"2018-12-24 2:50:00\", \"2018-12-24 3:00:00\", \"2018-12-24 3:10:00\", \"2018-12-24 3:20:00\", \"2018-12-24 3:30:00\", \"2018-12-24 3:40:00\", \"2018-12-24 3:50:00\", \"2018-12-24 4:00:00\", \"2018-12-24 4:10:00\", \"2018-12-24 4:20:00\", \"2018-12-24 4:30:00\", \"2018-12-24 4:40:00\", \"2018-12-24 4:50:00\", \"2018-12-24 5:00:00\", \"2018-12-24 5:10:00\", \"2018-12-24 5:20:00\", \"2018-12-24 5:30:00\", \"2018-12-24 5:40:00\", \"2018-12-24 5:50:00\", \"2018-12-24 6:00:00\", \"2018-12-24 6:10:00\", \"2018-12-24 6:20:00\", \"2018-12-24 6:30:00\"], \"y\": [0.04102846384048464, 0.033135497570037864, 0.014407043457031254, 0.020025079250335698, 0.011866972446441637, -0.0005256867408752752, 0.006821122169494598, 0.012795712947845428, -0.0034683871269226563, 0.0003000569343566406, 0.0010284852981566894, 0.0025180649757384765, -0.016510856151580877, -0.017925035953521795, -0.017844450473785467, -0.017423939704895086, -0.015927267074585028, -0.03036370992660531, -0.027264566421508873, -0.04617153644561778, -0.022964448928833092, 0.019354588985443066, 0.021596736907958936, 0.0360729360580444, 0.05802725315093993, 0.041420068740844695, 0.04409220457077023, 0.04574444532394406, 0.06323139429092406, 0.07391602277755738, 0.06027555942535401, 0.04690599918365479, 0.029253845214843754, 0.023463909626007085, 0.021761362552642827, 0.013208215236663823, 0.022571766376495384, 0.015088224411010764, 0.029186410903930704, 0.027671618461608927, 0.026985867023468058, 0.010113680362701438, 0.011936509609222434, 0.010656976699829124, 0.026508314609527628, 0.025333030223846476, 0.026051623821258585, 0.02333120822906498, 0.017039341926574747, 0.026969196796417294, 0.025024118423461972, 0.02973354101181036, 0.023458881378173868, 0.018275642395019553, 0.008736734390258794, 0.015137856006622319, -0.00026936769485474965, 0.004874513149261461, -0.00582573175430301, -0.019084506034851123, -0.03432853221893317, -0.0320021033287049, -0.0283591270446778, -0.04181149721145638, -0.0552427077293397, -0.051354398727417094, -0.03336981058120736, -0.045624227523803795, -0.03609706163406379, -0.04516143798828132, -0.053409230709075994, -0.04373126506805425, -0.05305724620819097, -0.043276641368866, -0.046016547679901154, -0.050887975692749055, -0.053236398696899445, -0.05454144239425662, -0.05024221897125247, -0.04324755430221561, -0.03633764743804935, -0.03431210279464725, -0.03439757585525516, -0.039573583602905305, -0.028530552387237562, -0.0354862952232361, -0.04525901317596437, -0.0321524691581726, -0.04035460472106933, -0.03361288309097288, -0.05583518266677856, -0.04305354356765745, -0.04688403606414793, -0.04049948453903196, -0.030696725845336892, -0.04307960987091064, -0.03833990812301635, -0.028495664596557613, -0.03251266002655029, -0.03755157709121704, -0.037454600334167476, -0.03561365127563476, -0.030509765148162837, -0.032627935409545894, -0.04354150533676149, -0.04593814849853517, -0.043318226337432875, -0.04913844108581544, -0.056829884052276625, -0.04643936395645143, -0.04608197450637819, -0.03826220273971559, -0.04099000930786134, -0.03559966325759889, -0.03879250526428224, -0.026174659729003902, -0.03125804185867309, -0.022540187835693337, -0.017545139789581277, -0.017195003032684286, -0.02199162721633907, -0.020218031406402548, -0.02751507043838497, -0.01785433053970331, -0.012057480812072696, -0.011766192913055362, -0.014090654850006046, -0.014306721687316837, -0.019964156150817813, -0.019279000759124698, -0.009945192337036168, -0.004843015670776385, -0.013153274059295672, -0.015419859886169451, -0.018472630977630633, -0.002778947353363037, -0.0062447190284729, -0.008981555700302124, 0.008528162240982073, 0.005861629247665423, 0.0036577773094177424, 0.0012704324722290217, 0.018708654642105138, 0.015523620843887365, 0.02531525254249578, 0.016348031759262138, 0.00740855693817144, -0.0015038871765136186, 0.00993849515914913, 0.0003176796436309415, -0.008034659624099771, 0.002937531471252419, -0.00452920198440554, -0.01068418622016909, 0.0021925818920135454, -0.0036950755119323775, 0.01121638655662538, 0.00647245287895204, 0.02237636208534244, 0.018535289764404328, 0.016247663497924836, 0.03427173972129827, 0.0321233201026917, 0.03005986690521245, 0.0296630191802979, -0.008271381855010973, -0.005928859710693346, -0.003372625112533556, 0.0016679310798645153, 0.011801853179931654, 0.017025942802429195, 0.017230069637298562, 0.012162702083587607, 0.024589674472808798, 0.03659351348876949, 0.02464851498603826, 0.03192150354385381, 0.03436672449111944, 0.03538647055625921, 0.037104544639587456, 0.017627277374267614, 0.01835972905159, 0.01963267564773563, 0.020670332908630407, 0.022308626174926793, 0.006478269100189227, 0.001863718032836914, -0.00290055990219118, 0.0029999232292174938, -0.00859290122985834, -0.002268908023834171, 0.011152071952819864, 0.017785077095031743, 0.0164382719993591, 0.012245006561279248, 0.014949686527252148, 0.013940162658691357, -0.0056886196136475276, -0.0038898706436157893, -0.021392734050750817, -0.02518668889999398, -0.031317682266235436, -0.014908087253570623, -0.03714802980422982, -0.036649079322815026, -0.0351346445083619, -0.03568217277526864, -0.03226766109466561, -0.0515798830986024, -0.05432807445526133, -0.03984394788742074, -0.04185018062591561, -0.045397014617920006, -0.04182443141937264, -0.04106733322143563, -0.041011424064636315, -0.04135432958602914, -0.04670497894287118, -0.03394241333007819, -0.0408907055854798, -0.024452619552612354, -0.026639633178710986, -0.03390990972518926, -0.02251133680343631, -0.013583197593688978, -0.020841374397277845, -0.009811933040618892, -0.012702519893646236, -0.01354002475738525, -0.013702268600463863, -0.010640676021575923, -0.014194543361663814, -0.02526473522186279, -0.020314013957977273, -0.015119330883026083, -0.02573986530303951, -0.01685762166976923, -0.023991045951843204, -0.022783277034759464, -0.01830875635147089, -0.030763940811157187, -0.02513988494873043, -0.015038387775421103, -0.013635056018829306, -0.00976069450378414, -0.007430927753448446, -0.015563921928405722, -0.014775590896606405, -0.02252026081085201, -0.02773775339126583, -0.005321857929229679, -0.02263070821762081, -0.0270998644828796, -0.02376258134841913, -0.030969200134277286, -0.031503913402557315, -0.03393339872360224, -0.02076611757278446, -0.023325541019439733, -0.025418558120727575, -0.011047382354736346, -0.013002235889434832, -0.014459807872772235, -0.014208931922912615, -0.020983953475952166, -0.0007599592208862305, -0.0005640089511871338, -0.0019535422325134277, -0.0017512142658233643, -0.001161426305770874, -0.0014179348945617676, -0.0023248791694641113, 0.016801346540451068, -0.003291010856628418, -0.004005938768386841, -0.0028073787689208984, -0.017312963008880633, -0.01662339687347414, -0.017819721698761004, -0.018319268226623553, -0.018535990715026873, -0.021626938581466693, -0.022962470054626483, -0.024940807819366473, -0.0074884891510009766, -0.009078800678253174, -0.029471178054809588, -0.031522859334945696, -0.013371855020523071, -0.015257805585861206, -0.017288237810134888, 0.0005816411972046076, -0.001655857563018781, -0.004573266506195051, 0.007723369598388707, 0.0005016708374023793, 0.013999519348144585, 0.007573751211166435, 0.0018004155158997115, -0.004268052577972359, -0.009757044315338081, -0.014790686368942207, -0.01966390252113337, -0.022536369562148995, -0.004667295217514078, -0.006780339479446451, -0.00877629041671757, -0.010388655662536661, -0.011484814882278482, -0.012215478420257608, -0.012987686395645182, -0.013937933444976847, -0.014903498888015787, -0.01634956717491154, -0.0019301116466522439, -0.009826475381851218, -0.016340845823287986, -0.022084528207778953, -0.019301825761795066, -0.01228442192077639, -0.0074457955360413, -0.018109115362167305, 0.001796262264251669, -0.0053530168533325595, -0.012342972755432169, -0.0015452742576599343, -0.010987961292266868, -0.01684820055961611, -0.02116011977195742, -0.026947432756423972, -0.022878212928772013, -0.028257998228073067, -0.015760155916213936, -0.006211372613906807, 0.0021968758106232222, 0.006131795644760185, 0.0064844763278961715, 0.01722146749496456, 0.025688594579696633, 0.014325118064880349, 0.022898281812667842, 0.012820328474044795, 0.005721802711486812, -0.018107378482818626, -0.021594935655593894, -0.007788752317428593, -0.014223848581314091, -1.9824504852161695e-06, -0.0029920792579650746, 0.0015227258205413596, -0.026359858512878365, -0.01585126161575312, -0.0038258457183837358, -0.01416694283485409, -0.0032420372962951305, -0.013989578485488874, -0.0066019105911254705, -0.0010871398448943914, 0.0020672571659088312, 0.0022216629981994807, -0.00035382390022276056, -0.003145437240600568, -0.005116562843322736, -0.00853059768676756, 0.008700170516967809, 0.00565511822700504, 0.0025324308872223256, 0.00011412143707278943, -0.0003388142585754039, 0.0011135423183441517, -0.013707320690155012, -0.012864332199096662, -0.012332837581634504, 0.006838628053665197, 0.006426223516464269, 0.005673714876174962, 0.0042566740512848256, 0.02333602070808416, 0.003607549667358434, 0.003798373937606847, 0.0038163447380066273, 0.0036751115322113392, 0.0043346369266510365, 0.004772194623947179, 0.005251624584198034, 0.004833498001098668, 0.022061733007431084, 0.0019710147380829213, 0.0017114961147308705, 0.0023607993125915883, 0.0018946611881256459, 0.018748877048492485, 0.01195904374122625, 0.009167013168335014, -5.656719207758343e-05, 0.011437939405441244, -0.012727888822555489, -0.004886301755905098, -0.03469011187553406, -0.02791428327560419, -0.022855436801910378, -0.017820830345153804, -0.025208487510681166, -0.0017908358573913707, -0.005819890499115021, -0.005867235660553027, -0.012142908573150701, -0.017306160926818914, -0.004240744113922168]}],\n",
              "                        {\"template\": {\"data\": {\"bar\": [{\"error_x\": {\"color\": \"#2a3f5f\"}, \"error_y\": {\"color\": \"#2a3f5f\"}, \"marker\": {\"line\": {\"color\": \"#E5ECF6\", \"width\": 0.5}}, \"type\": \"bar\"}], \"barpolar\": [{\"marker\": {\"line\": {\"color\": \"#E5ECF6\", \"width\": 0.5}}, \"type\": \"barpolar\"}], \"carpet\": [{\"aaxis\": {\"endlinecolor\": \"#2a3f5f\", \"gridcolor\": \"white\", \"linecolor\": \"white\", \"minorgridcolor\": \"white\", \"startlinecolor\": \"#2a3f5f\"}, \"baxis\": {\"endlinecolor\": \"#2a3f5f\", \"gridcolor\": \"white\", \"linecolor\": \"white\", \"minorgridcolor\": \"white\", \"startlinecolor\": \"#2a3f5f\"}, \"type\": \"carpet\"}], \"choropleth\": [{\"colorbar\": {\"outlinewidth\": 0, \"ticks\": \"\"}, \"type\": \"choropleth\"}], \"contour\": [{\"colorbar\": {\"outlinewidth\": 0, \"ticks\": \"\"}, \"colorscale\": [[0.0, \"#0d0887\"], [0.1111111111111111, \"#46039f\"], [0.2222222222222222, \"#7201a8\"], [0.3333333333333333, \"#9c179e\"], [0.4444444444444444, \"#bd3786\"], [0.5555555555555556, \"#d8576b\"], [0.6666666666666666, \"#ed7953\"], [0.7777777777777778, \"#fb9f3a\"], [0.8888888888888888, \"#fdca26\"], [1.0, \"#f0f921\"]], \"type\": \"contour\"}], \"contourcarpet\": [{\"colorbar\": {\"outlinewidth\": 0, \"ticks\": \"\"}, \"type\": \"contourcarpet\"}], \"heatmap\": [{\"colorbar\": {\"outlinewidth\": 0, \"ticks\": \"\"}, \"colorscale\": [[0.0, \"#0d0887\"], [0.1111111111111111, \"#46039f\"], [0.2222222222222222, \"#7201a8\"], [0.3333333333333333, \"#9c179e\"], [0.4444444444444444, \"#bd3786\"], [0.5555555555555556, \"#d8576b\"], [0.6666666666666666, \"#ed7953\"], [0.7777777777777778, \"#fb9f3a\"], [0.8888888888888888, \"#fdca26\"], [1.0, \"#f0f921\"]], \"type\": \"heatmap\"}], \"heatmapgl\": [{\"colorbar\": {\"outlinewidth\": 0, \"ticks\": \"\"}, \"colorscale\": [[0.0, \"#0d0887\"], [0.1111111111111111, \"#46039f\"], [0.2222222222222222, \"#7201a8\"], [0.3333333333333333, \"#9c179e\"], [0.4444444444444444, \"#bd3786\"], [0.5555555555555556, \"#d8576b\"], [0.6666666666666666, \"#ed7953\"], [0.7777777777777778, \"#fb9f3a\"], [0.8888888888888888, \"#fdca26\"], [1.0, \"#f0f921\"]], \"type\": \"heatmapgl\"}], \"histogram\": [{\"marker\": {\"colorbar\": {\"outlinewidth\": 0, \"ticks\": \"\"}}, \"type\": \"histogram\"}], \"histogram2d\": [{\"colorbar\": {\"outlinewidth\": 0, \"ticks\": \"\"}, \"colorscale\": [[0.0, \"#0d0887\"], [0.1111111111111111, \"#46039f\"], [0.2222222222222222, \"#7201a8\"], [0.3333333333333333, \"#9c179e\"], [0.4444444444444444, \"#bd3786\"], [0.5555555555555556, \"#d8576b\"], [0.6666666666666666, \"#ed7953\"], [0.7777777777777778, \"#fb9f3a\"], [0.8888888888888888, \"#fdca26\"], [1.0, \"#f0f921\"]], \"type\": \"histogram2d\"}], \"histogram2dcontour\": [{\"colorbar\": {\"outlinewidth\": 0, \"ticks\": \"\"}, \"colorscale\": [[0.0, \"#0d0887\"], [0.1111111111111111, \"#46039f\"], [0.2222222222222222, \"#7201a8\"], [0.3333333333333333, \"#9c179e\"], [0.4444444444444444, \"#bd3786\"], [0.5555555555555556, \"#d8576b\"], [0.6666666666666666, \"#ed7953\"], [0.7777777777777778, \"#fb9f3a\"], [0.8888888888888888, \"#fdca26\"], [1.0, \"#f0f921\"]], \"type\": \"histogram2dcontour\"}], \"mesh3d\": [{\"colorbar\": {\"outlinewidth\": 0, \"ticks\": \"\"}, \"type\": \"mesh3d\"}], \"parcoords\": [{\"line\": {\"colorbar\": {\"outlinewidth\": 0, \"ticks\": \"\"}}, \"type\": \"parcoords\"}], \"pie\": [{\"automargin\": true, \"type\": \"pie\"}], \"scatter\": [{\"marker\": {\"colorbar\": {\"outlinewidth\": 0, \"ticks\": \"\"}}, \"type\": \"scatter\"}], \"scatter3d\": [{\"line\": {\"colorbar\": {\"outlinewidth\": 0, \"ticks\": \"\"}}, \"marker\": {\"colorbar\": {\"outlinewidth\": 0, \"ticks\": \"\"}}, \"type\": \"scatter3d\"}], \"scattercarpet\": [{\"marker\": {\"colorbar\": {\"outlinewidth\": 0, \"ticks\": \"\"}}, \"type\": \"scattercarpet\"}], \"scattergeo\": [{\"marker\": {\"colorbar\": {\"outlinewidth\": 0, \"ticks\": \"\"}}, \"type\": \"scattergeo\"}], \"scattergl\": [{\"marker\": {\"colorbar\": {\"outlinewidth\": 0, \"ticks\": \"\"}}, \"type\": \"scattergl\"}], \"scattermapbox\": [{\"marker\": {\"colorbar\": {\"outlinewidth\": 0, \"ticks\": \"\"}}, \"type\": \"scattermapbox\"}], \"scatterpolar\": [{\"marker\": {\"colorbar\": {\"outlinewidth\": 0, \"ticks\": \"\"}}, \"type\": \"scatterpolar\"}], \"scatterpolargl\": [{\"marker\": {\"colorbar\": {\"outlinewidth\": 0, \"ticks\": \"\"}}, \"type\": \"scatterpolargl\"}], \"scatterternary\": [{\"marker\": {\"colorbar\": {\"outlinewidth\": 0, \"ticks\": \"\"}}, \"type\": \"scatterternary\"}], \"surface\": [{\"colorbar\": {\"outlinewidth\": 0, \"ticks\": \"\"}, \"colorscale\": [[0.0, \"#0d0887\"], [0.1111111111111111, \"#46039f\"], [0.2222222222222222, \"#7201a8\"], [0.3333333333333333, \"#9c179e\"], [0.4444444444444444, \"#bd3786\"], [0.5555555555555556, \"#d8576b\"], [0.6666666666666666, \"#ed7953\"], [0.7777777777777778, \"#fb9f3a\"], [0.8888888888888888, \"#fdca26\"], [1.0, \"#f0f921\"]], \"type\": \"surface\"}], \"table\": [{\"cells\": {\"fill\": {\"color\": \"#EBF0F8\"}, \"line\": {\"color\": \"white\"}}, \"header\": {\"fill\": {\"color\": \"#C8D4E3\"}, \"line\": {\"color\": \"white\"}}, \"type\": \"table\"}]}, \"layout\": {\"annotationdefaults\": {\"arrowcolor\": \"#2a3f5f\", \"arrowhead\": 0, \"arrowwidth\": 1}, \"coloraxis\": {\"colorbar\": {\"outlinewidth\": 0, \"ticks\": \"\"}}, \"colorscale\": {\"diverging\": [[0, \"#8e0152\"], [0.1, \"#c51b7d\"], [0.2, \"#de77ae\"], [0.3, \"#f1b6da\"], [0.4, \"#fde0ef\"], [0.5, \"#f7f7f7\"], [0.6, \"#e6f5d0\"], [0.7, \"#b8e186\"], [0.8, \"#7fbc41\"], [0.9, \"#4d9221\"], [1, \"#276419\"]], \"sequential\": [[0.0, \"#0d0887\"], [0.1111111111111111, \"#46039f\"], [0.2222222222222222, \"#7201a8\"], [0.3333333333333333, \"#9c179e\"], [0.4444444444444444, \"#bd3786\"], [0.5555555555555556, \"#d8576b\"], [0.6666666666666666, \"#ed7953\"], [0.7777777777777778, \"#fb9f3a\"], [0.8888888888888888, \"#fdca26\"], [1.0, \"#f0f921\"]], \"sequentialminus\": [[0.0, \"#0d0887\"], [0.1111111111111111, \"#46039f\"], [0.2222222222222222, \"#7201a8\"], [0.3333333333333333, \"#9c179e\"], [0.4444444444444444, \"#bd3786\"], [0.5555555555555556, \"#d8576b\"], [0.6666666666666666, \"#ed7953\"], [0.7777777777777778, \"#fb9f3a\"], [0.8888888888888888, \"#fdca26\"], [1.0, \"#f0f921\"]]}, \"colorway\": [\"#636efa\", \"#EF553B\", \"#00cc96\", \"#ab63fa\", \"#FFA15A\", \"#19d3f3\", \"#FF6692\", \"#B6E880\", \"#FF97FF\", \"#FECB52\"], \"font\": {\"color\": \"#2a3f5f\"}, \"geo\": {\"bgcolor\": \"white\", \"lakecolor\": \"white\", \"landcolor\": \"#E5ECF6\", \"showlakes\": true, \"showland\": true, \"subunitcolor\": \"white\"}, \"hoverlabel\": {\"align\": \"left\"}, \"hovermode\": \"closest\", \"mapbox\": {\"style\": \"light\"}, \"paper_bgcolor\": \"white\", \"plot_bgcolor\": \"#E5ECF6\", \"polar\": {\"angularaxis\": {\"gridcolor\": \"white\", \"linecolor\": \"white\", \"ticks\": \"\"}, \"bgcolor\": \"#E5ECF6\", \"radialaxis\": {\"gridcolor\": \"white\", \"linecolor\": \"white\", \"ticks\": \"\"}}, \"scene\": {\"xaxis\": {\"backgroundcolor\": \"#E5ECF6\", \"gridcolor\": \"white\", \"gridwidth\": 2, \"linecolor\": \"white\", \"showbackground\": true, \"ticks\": \"\", \"zerolinecolor\": \"white\"}, \"yaxis\": {\"backgroundcolor\": \"#E5ECF6\", \"gridcolor\": \"white\", \"gridwidth\": 2, \"linecolor\": \"white\", \"showbackground\": true, \"ticks\": \"\", \"zerolinecolor\": \"white\"}, \"zaxis\": {\"backgroundcolor\": \"#E5ECF6\", \"gridcolor\": \"white\", \"gridwidth\": 2, \"linecolor\": \"white\", \"showbackground\": true, \"ticks\": \"\", \"zerolinecolor\": \"white\"}}, \"shapedefaults\": {\"line\": {\"color\": \"#2a3f5f\"}}, \"ternary\": {\"aaxis\": {\"gridcolor\": \"white\", \"linecolor\": \"white\", \"ticks\": \"\"}, \"baxis\": {\"gridcolor\": \"white\", \"linecolor\": \"white\", \"ticks\": \"\"}, \"bgcolor\": \"#E5ECF6\", \"caxis\": {\"gridcolor\": \"white\", \"linecolor\": \"white\", \"ticks\": \"\"}}, \"title\": {\"x\": 0.05}, \"xaxis\": {\"automargin\": true, \"gridcolor\": \"white\", \"linecolor\": \"white\", \"ticks\": \"\", \"title\": {\"standoff\": 15}, \"zerolinecolor\": \"white\", \"zerolinewidth\": 2}, \"yaxis\": {\"automargin\": true, \"gridcolor\": \"white\", \"linecolor\": \"white\", \"ticks\": \"\", \"title\": {\"standoff\": 15}, \"zerolinecolor\": \"white\", \"zerolinewidth\": 2}}}, \"title\": {\"text\": \"Error\"}},\n",
              "                        {\"responsive\": true}\n",
              "                    ).then(function(){\n",
              "                            \n",
              "var gd = document.getElementById('9fb4645e-cd58-421b-bd3d-49b3d4115b57');\n",
              "var x = new MutationObserver(function (mutations, observer) {{\n",
              "        var display = window.getComputedStyle(gd).display;\n",
              "        if (!display || display === 'none') {{\n",
              "            console.log([gd, 'removed!']);\n",
              "            Plotly.purge(gd);\n",
              "            observer.disconnect();\n",
              "        }}\n",
              "}});\n",
              "\n",
              "// Listen for the removal of the full notebook cells\n",
              "var notebookContainer = gd.closest('#notebook-container');\n",
              "if (notebookContainer) {{\n",
              "    x.observe(notebookContainer, {childList: true});\n",
              "}}\n",
              "\n",
              "// Listen for the clearing of the current output cell\n",
              "var outputEl = gd.closest('.output');\n",
              "if (outputEl) {{\n",
              "    x.observe(outputEl, {childList: true});\n",
              "}}\n",
              "\n",
              "                        })\n",
              "                };\n",
              "                \n",
              "            </script>\n",
              "        </div>\n",
              "</body>\n",
              "</html>"
            ]
          },
          "metadata": {}
        }
      ]
    },
    {
      "cell_type": "code",
      "metadata": {
        "colab": {
          "base_uri": "https://localhost:8080/",
          "height": 542
        },
        "id": "O2OXhJ6gX_Ax",
        "outputId": "4740d7d6-a593-4c01-a57f-a592f293b7a3"
      },
      "source": [
        "column_name = 'abs_difference' \n",
        "\n",
        "fig = go.Figure()\n",
        "fig.add_trace(go.Scatter(x=df_final['Date_Time'], y=df_final[column_name], mode='lines', name='Absolute Error'))\n",
        "fig.update_layout(title_text= \"Absolute Error\")\n",
        "\n",
        "fig.show()"
      ],
      "execution_count": 25,
      "outputs": [
        {
          "output_type": "display_data",
          "data": {
            "text/html": [
              "<html>\n",
              "<head><meta charset=\"utf-8\" /></head>\n",
              "<body>\n",
              "    <div>\n",
              "            <script src=\"https://cdnjs.cloudflare.com/ajax/libs/mathjax/2.7.5/MathJax.js?config=TeX-AMS-MML_SVG\"></script><script type=\"text/javascript\">if (window.MathJax) {MathJax.Hub.Config({SVG: {font: \"STIX-Web\"}});}</script>\n",
              "                <script type=\"text/javascript\">window.PlotlyConfig = {MathJaxConfig: 'local'};</script>\n",
              "        <script src=\"https://cdn.plot.ly/plotly-latest.min.js\"></script>    \n",
              "            <div id=\"2750c03f-f138-4049-b143-5b8a63b81ac3\" class=\"plotly-graph-div\" style=\"height:525px; width:100%;\"></div>\n",
              "            <script type=\"text/javascript\">\n",
              "                \n",
              "                    window.PLOTLYENV=window.PLOTLYENV || {};\n",
              "                    \n",
              "                if (document.getElementById(\"2750c03f-f138-4049-b143-5b8a63b81ac3\")) {\n",
              "                    Plotly.newPlot(\n",
              "                        '2750c03f-f138-4049-b143-5b8a63b81ac3',\n",
              "                        [{\"mode\": \"lines\", \"name\": \"Absolute Error\", \"type\": \"scatter\", \"x\": [\"2018-12-21 10:30:00\", \"2018-12-21 10:40:00\", \"2018-12-21 10:50:00\", \"2018-12-21 11:00:00\", \"2018-12-21 11:10:00\", \"2018-12-21 11:20:00\", \"2018-12-21 11:30:00\", \"2018-12-21 11:40:00\", \"2018-12-21 11:50:00\", \"2018-12-21 12:00:00\", \"2018-12-21 12:10:00\", \"2018-12-21 12:20:00\", \"2018-12-21 12:30:00\", \"2018-12-21 12:40:00\", \"2018-12-21 12:50:00\", \"2018-12-21 13:00:00\", \"2018-12-21 13:10:00\", \"2018-12-21 13:20:00\", \"2018-12-21 13:30:00\", \"2018-12-21 13:40:00\", \"2018-12-21 13:50:00\", \"2018-12-21 14:00:00\", \"2018-12-21 14:10:00\", \"2018-12-21 14:20:00\", \"2018-12-21 14:30:00\", \"2018-12-21 14:40:00\", \"2018-12-21 14:50:00\", \"2018-12-21 15:00:00\", \"2018-12-21 15:10:00\", \"2018-12-21 15:20:00\", \"2018-12-21 15:30:00\", \"2018-12-21 15:40:00\", \"2018-12-21 15:50:00\", \"2018-12-21 16:00:00\", \"2018-12-21 16:10:00\", \"2018-12-21 16:20:00\", \"2018-12-21 16:30:00\", \"2018-12-21 16:40:00\", \"2018-12-21 16:50:00\", \"2018-12-21 17:00:00\", \"2018-12-21 17:10:00\", \"2018-12-21 17:20:00\", \"2018-12-21 17:30:00\", \"2018-12-21 17:40:00\", \"2018-12-21 17:50:00\", \"2018-12-21 18:00:00\", \"2018-12-21 18:10:00\", \"2018-12-21 18:20:00\", \"2018-12-21 18:30:00\", \"2018-12-21 18:40:00\", \"2018-12-21 18:50:00\", \"2018-12-21 19:00:00\", \"2018-12-21 19:10:00\", \"2018-12-21 19:20:00\", \"2018-12-21 19:30:00\", \"2018-12-21 19:40:00\", \"2018-12-21 19:50:00\", \"2018-12-21 20:00:00\", \"2018-12-21 20:10:00\", \"2018-12-21 20:20:00\", \"2018-12-21 20:30:00\", \"2018-12-21 20:40:00\", \"2018-12-21 20:50:00\", \"2018-12-21 21:00:00\", \"2018-12-21 21:10:00\", \"2018-12-21 21:20:00\", \"2018-12-21 21:30:00\", \"2018-12-21 21:40:00\", \"2018-12-21 21:50:00\", \"2018-12-21 22:00:00\", \"2018-12-21 22:10:00\", \"2018-12-21 22:20:00\", \"2018-12-21 22:30:00\", \"2018-12-21 22:40:00\", \"2018-12-21 22:50:00\", \"2018-12-21 23:00:00\", \"2018-12-21 23:10:00\", \"2018-12-21 23:20:00\", \"2018-12-21 23:30:00\", \"2018-12-21 23:40:00\", \"2018-12-21 23:50:00\", \"2018-12-22 0:00:00\", \"2018-12-22 0:10:00\", \"2018-12-22 0:20:00\", \"2018-12-22 0:30:00\", \"2018-12-22 0:40:00\", \"2018-12-22 0:50:00\", \"2018-12-22 1:00:00\", \"2018-12-22 1:10:00\", \"2018-12-22 1:20:00\", \"2018-12-22 1:30:00\", \"2018-12-22 1:40:00\", \"2018-12-22 1:50:00\", \"2018-12-22 2:00:00\", \"2018-12-22 2:10:00\", \"2018-12-22 2:20:00\", \"2018-12-22 2:30:00\", \"2018-12-22 2:40:00\", \"2018-12-22 2:50:00\", \"2018-12-22 3:00:00\", \"2018-12-22 3:10:00\", \"2018-12-22 3:20:00\", \"2018-12-22 3:30:00\", \"2018-12-22 3:40:00\", \"2018-12-22 3:50:00\", \"2018-12-22 4:00:00\", \"2018-12-22 4:10:00\", \"2018-12-22 4:20:00\", \"2018-12-22 4:30:00\", \"2018-12-22 4:40:00\", \"2018-12-22 4:50:00\", \"2018-12-22 5:00:00\", \"2018-12-22 5:10:00\", \"2018-12-22 5:20:00\", \"2018-12-22 5:30:00\", \"2018-12-22 5:40:00\", \"2018-12-22 5:50:00\", \"2018-12-22 6:00:00\", \"2018-12-22 6:10:00\", \"2018-12-22 6:20:00\", \"2018-12-22 6:30:00\", \"2018-12-22 6:40:00\", \"2018-12-22 6:50:00\", \"2018-12-22 7:00:00\", \"2018-12-22 7:10:00\", \"2018-12-22 7:20:00\", \"2018-12-22 7:30:00\", \"2018-12-22 7:40:00\", \"2018-12-22 7:50:00\", \"2018-12-22 8:00:00\", \"2018-12-22 8:10:00\", \"2018-12-22 8:20:00\", \"2018-12-22 8:30:00\", \"2018-12-22 8:40:00\", \"2018-12-22 8:50:00\", \"2018-12-22 9:00:00\", \"2018-12-22 9:10:00\", \"2018-12-22 9:20:00\", \"2018-12-22 9:30:00\", \"2018-12-22 9:40:00\", \"2018-12-22 9:50:00\", \"2018-12-22 10:00:00\", \"2018-12-22 10:10:00\", \"2018-12-22 10:20:00\", \"2018-12-22 10:30:00\", \"2018-12-22 10:40:00\", \"2018-12-22 10:50:00\", \"2018-12-22 11:00:00\", \"2018-12-22 11:10:00\", \"2018-12-22 11:20:00\", \"2018-12-22 11:30:00\", \"2018-12-22 11:40:00\", \"2018-12-22 11:50:00\", \"2018-12-22 12:00:00\", \"2018-12-22 12:10:00\", \"2018-12-22 12:20:00\", \"2018-12-22 12:30:00\", \"2018-12-22 12:40:00\", \"2018-12-22 12:50:00\", \"2018-12-22 13:00:00\", \"2018-12-22 13:10:00\", \"2018-12-22 13:20:00\", \"2018-12-22 13:30:00\", \"2018-12-22 13:40:00\", \"2018-12-22 13:50:00\", \"2018-12-22 14:00:00\", \"2018-12-22 14:10:00\", \"2018-12-22 14:20:00\", \"2018-12-22 14:30:00\", \"2018-12-22 14:40:00\", \"2018-12-22 14:50:00\", \"2018-12-22 15:00:00\", \"2018-12-22 15:10:00\", \"2018-12-22 15:20:00\", \"2018-12-22 15:30:00\", \"2018-12-22 15:40:00\", \"2018-12-22 15:50:00\", \"2018-12-22 16:00:00\", \"2018-12-22 16:10:00\", \"2018-12-22 16:20:00\", \"2018-12-22 16:30:00\", \"2018-12-22 16:40:00\", \"2018-12-22 16:50:00\", \"2018-12-22 17:00:00\", \"2018-12-22 17:10:00\", \"2018-12-22 17:20:00\", \"2018-12-22 17:30:00\", \"2018-12-22 17:40:00\", \"2018-12-22 17:50:00\", \"2018-12-22 18:00:00\", \"2018-12-22 18:10:00\", \"2018-12-22 18:20:00\", \"2018-12-22 18:30:00\", \"2018-12-22 18:40:00\", \"2018-12-22 18:50:00\", \"2018-12-22 19:00:00\", \"2018-12-22 19:10:00\", \"2018-12-22 19:20:00\", \"2018-12-22 19:30:00\", \"2018-12-22 19:40:00\", \"2018-12-22 19:50:00\", \"2018-12-22 20:00:00\", \"2018-12-22 20:10:00\", \"2018-12-22 20:20:00\", \"2018-12-22 20:30:00\", \"2018-12-22 20:40:00\", \"2018-12-22 20:50:00\", \"2018-12-22 21:00:00\", \"2018-12-22 21:10:00\", \"2018-12-22 21:20:00\", \"2018-12-22 21:30:00\", \"2018-12-22 21:40:00\", \"2018-12-22 21:50:00\", \"2018-12-22 22:00:00\", \"2018-12-22 22:10:00\", \"2018-12-22 22:20:00\", \"2018-12-22 22:30:00\", \"2018-12-22 22:40:00\", \"2018-12-22 22:50:00\", \"2018-12-22 23:00:00\", \"2018-12-22 23:10:00\", \"2018-12-22 23:20:00\", \"2018-12-22 23:30:00\", \"2018-12-22 23:40:00\", \"2018-12-22 23:50:00\", \"2018-12-23 0:00:00\", \"2018-12-23 0:10:00\", \"2018-12-23 0:20:00\", \"2018-12-23 0:30:00\", \"2018-12-23 0:40:00\", \"2018-12-23 0:50:00\", \"2018-12-23 1:00:00\", \"2018-12-23 1:10:00\", \"2018-12-23 1:20:00\", \"2018-12-23 1:30:00\", \"2018-12-23 1:40:00\", \"2018-12-23 1:50:00\", \"2018-12-23 2:00:00\", \"2018-12-23 2:10:00\", \"2018-12-23 2:20:00\", \"2018-12-23 2:30:00\", \"2018-12-23 2:40:00\", \"2018-12-23 2:50:00\", \"2018-12-23 3:00:00\", \"2018-12-23 3:10:00\", \"2018-12-23 3:20:00\", \"2018-12-23 3:30:00\", \"2018-12-23 3:40:00\", \"2018-12-23 3:50:00\", \"2018-12-23 4:00:00\", \"2018-12-23 4:10:00\", \"2018-12-23 4:20:00\", \"2018-12-23 4:30:00\", \"2018-12-23 4:40:00\", \"2018-12-23 4:50:00\", \"2018-12-23 5:00:00\", \"2018-12-23 5:10:00\", \"2018-12-23 5:20:00\", \"2018-12-23 5:30:00\", \"2018-12-23 5:40:00\", \"2018-12-23 5:50:00\", \"2018-12-23 6:00:00\", \"2018-12-23 6:10:00\", \"2018-12-23 6:20:00\", \"2018-12-23 6:30:00\", \"2018-12-23 6:40:00\", \"2018-12-23 6:50:00\", \"2018-12-23 7:00:00\", \"2018-12-23 7:10:00\", \"2018-12-23 7:20:00\", \"2018-12-23 7:30:00\", \"2018-12-23 7:40:00\", \"2018-12-23 7:50:00\", \"2018-12-23 8:00:00\", \"2018-12-23 8:10:00\", \"2018-12-23 8:20:00\", \"2018-12-23 8:30:00\", \"2018-12-23 8:40:00\", \"2018-12-23 8:50:00\", \"2018-12-23 9:00:00\", \"2018-12-23 9:10:00\", \"2018-12-23 9:20:00\", \"2018-12-23 9:30:00\", \"2018-12-23 9:40:00\", \"2018-12-23 9:50:00\", \"2018-12-23 10:00:00\", \"2018-12-23 10:10:00\", \"2018-12-23 10:20:00\", \"2018-12-23 10:30:00\", \"2018-12-23 10:40:00\", \"2018-12-23 10:50:00\", \"2018-12-23 11:00:00\", \"2018-12-23 11:10:00\", \"2018-12-23 11:20:00\", \"2018-12-23 11:30:00\", \"2018-12-23 11:40:00\", \"2018-12-23 11:50:00\", \"2018-12-23 12:00:00\", \"2018-12-23 12:10:00\", \"2018-12-23 12:20:00\", \"2018-12-23 12:30:00\", \"2018-12-23 12:40:00\", \"2018-12-23 12:50:00\", \"2018-12-23 13:00:00\", \"2018-12-23 13:10:00\", \"2018-12-23 13:20:00\", \"2018-12-23 13:30:00\", \"2018-12-23 13:40:00\", \"2018-12-23 13:50:00\", \"2018-12-23 14:00:00\", \"2018-12-23 14:10:00\", \"2018-12-23 14:20:00\", \"2018-12-23 14:30:00\", \"2018-12-23 14:40:00\", \"2018-12-23 14:50:00\", \"2018-12-23 15:00:00\", \"2018-12-23 15:10:00\", \"2018-12-23 15:20:00\", \"2018-12-23 15:30:00\", \"2018-12-23 15:40:00\", \"2018-12-23 15:50:00\", \"2018-12-23 16:00:00\", \"2018-12-23 16:10:00\", \"2018-12-23 16:20:00\", \"2018-12-23 16:30:00\", \"2018-12-23 16:40:00\", \"2018-12-23 16:50:00\", \"2018-12-23 17:00:00\", \"2018-12-23 17:10:00\", \"2018-12-23 17:20:00\", \"2018-12-23 17:30:00\", \"2018-12-23 17:40:00\", \"2018-12-23 17:50:00\", \"2018-12-23 18:00:00\", \"2018-12-23 18:10:00\", \"2018-12-23 18:20:00\", \"2018-12-23 18:30:00\", \"2018-12-23 18:40:00\", \"2018-12-23 18:50:00\", \"2018-12-23 19:00:00\", \"2018-12-23 19:10:00\", \"2018-12-23 19:20:00\", \"2018-12-23 19:30:00\", \"2018-12-23 19:40:00\", \"2018-12-23 19:50:00\", \"2018-12-23 20:00:00\", \"2018-12-23 20:10:00\", \"2018-12-23 20:20:00\", \"2018-12-23 20:30:00\", \"2018-12-23 20:40:00\", \"2018-12-23 20:50:00\", \"2018-12-23 21:00:00\", \"2018-12-23 21:10:00\", \"2018-12-23 21:20:00\", \"2018-12-23 21:30:00\", \"2018-12-23 21:40:00\", \"2018-12-23 21:50:00\", \"2018-12-23 22:00:00\", \"2018-12-23 22:10:00\", \"2018-12-23 22:20:00\", \"2018-12-23 22:30:00\", \"2018-12-23 22:40:00\", \"2018-12-23 22:50:00\", \"2018-12-23 23:00:00\", \"2018-12-23 23:10:00\", \"2018-12-23 23:20:00\", \"2018-12-23 23:30:00\", \"2018-12-23 23:40:00\", \"2018-12-23 23:50:00\", \"2018-12-24 0:00:00\", \"2018-12-24 0:10:00\", \"2018-12-24 0:20:00\", \"2018-12-24 0:30:00\", \"2018-12-24 0:40:00\", \"2018-12-24 0:50:00\", \"2018-12-24 1:00:00\", \"2018-12-24 1:10:00\", \"2018-12-24 1:20:00\", \"2018-12-24 1:30:00\", \"2018-12-24 1:40:00\", \"2018-12-24 1:50:00\", \"2018-12-24 2:00:00\", \"2018-12-24 2:10:00\", \"2018-12-24 2:20:00\", \"2018-12-24 2:30:00\", \"2018-12-24 2:40:00\", \"2018-12-24 2:50:00\", \"2018-12-24 3:00:00\", \"2018-12-24 3:10:00\", \"2018-12-24 3:20:00\", \"2018-12-24 3:30:00\", \"2018-12-24 3:40:00\", \"2018-12-24 3:50:00\", \"2018-12-24 4:00:00\", \"2018-12-24 4:10:00\", \"2018-12-24 4:20:00\", \"2018-12-24 4:30:00\", \"2018-12-24 4:40:00\", \"2018-12-24 4:50:00\", \"2018-12-24 5:00:00\", \"2018-12-24 5:10:00\", \"2018-12-24 5:20:00\", \"2018-12-24 5:30:00\", \"2018-12-24 5:40:00\", \"2018-12-24 5:50:00\", \"2018-12-24 6:00:00\", \"2018-12-24 6:10:00\", \"2018-12-24 6:20:00\", \"2018-12-24 6:30:00\"], \"y\": [0.04102846384048464, 0.033135497570037864, 0.014407043457031254, 0.020025079250335698, 0.011866972446441637, 0.0005256867408752752, 0.006821122169494598, 0.012795712947845428, 0.0034683871269226563, 0.0003000569343566406, 0.0010284852981566894, 0.0025180649757384765, 0.016510856151580877, 0.017925035953521795, 0.017844450473785467, 0.017423939704895086, 0.015927267074585028, 0.03036370992660531, 0.027264566421508873, 0.04617153644561778, 0.022964448928833092, 0.019354588985443066, 0.021596736907958936, 0.0360729360580444, 0.05802725315093993, 0.041420068740844695, 0.04409220457077023, 0.04574444532394406, 0.06323139429092406, 0.07391602277755738, 0.06027555942535401, 0.04690599918365479, 0.029253845214843754, 0.023463909626007085, 0.021761362552642827, 0.013208215236663823, 0.022571766376495384, 0.015088224411010764, 0.029186410903930704, 0.027671618461608927, 0.026985867023468058, 0.010113680362701438, 0.011936509609222434, 0.010656976699829124, 0.026508314609527628, 0.025333030223846476, 0.026051623821258585, 0.02333120822906498, 0.017039341926574747, 0.026969196796417294, 0.025024118423461972, 0.02973354101181036, 0.023458881378173868, 0.018275642395019553, 0.008736734390258794, 0.015137856006622319, 0.00026936769485474965, 0.004874513149261461, 0.00582573175430301, 0.019084506034851123, 0.03432853221893317, 0.0320021033287049, 0.0283591270446778, 0.04181149721145638, 0.0552427077293397, 0.051354398727417094, 0.03336981058120736, 0.045624227523803795, 0.03609706163406379, 0.04516143798828132, 0.053409230709075994, 0.04373126506805425, 0.05305724620819097, 0.043276641368866, 0.046016547679901154, 0.050887975692749055, 0.053236398696899445, 0.05454144239425662, 0.05024221897125247, 0.04324755430221561, 0.03633764743804935, 0.03431210279464725, 0.03439757585525516, 0.039573583602905305, 0.028530552387237562, 0.0354862952232361, 0.04525901317596437, 0.0321524691581726, 0.04035460472106933, 0.03361288309097288, 0.05583518266677856, 0.04305354356765745, 0.04688403606414793, 0.04049948453903196, 0.030696725845336892, 0.04307960987091064, 0.03833990812301635, 0.028495664596557613, 0.03251266002655029, 0.03755157709121704, 0.037454600334167476, 0.03561365127563476, 0.030509765148162837, 0.032627935409545894, 0.04354150533676149, 0.04593814849853517, 0.043318226337432875, 0.04913844108581544, 0.056829884052276625, 0.04643936395645143, 0.04608197450637819, 0.03826220273971559, 0.04099000930786134, 0.03559966325759889, 0.03879250526428224, 0.026174659729003902, 0.03125804185867309, 0.022540187835693337, 0.017545139789581277, 0.017195003032684286, 0.02199162721633907, 0.020218031406402548, 0.02751507043838497, 0.01785433053970331, 0.012057480812072696, 0.011766192913055362, 0.014090654850006046, 0.014306721687316837, 0.019964156150817813, 0.019279000759124698, 0.009945192337036168, 0.004843015670776385, 0.013153274059295672, 0.015419859886169451, 0.018472630977630633, 0.002778947353363037, 0.0062447190284729, 0.008981555700302124, 0.008528162240982073, 0.005861629247665423, 0.0036577773094177424, 0.0012704324722290217, 0.018708654642105138, 0.015523620843887365, 0.02531525254249578, 0.016348031759262138, 0.00740855693817144, 0.0015038871765136186, 0.00993849515914913, 0.0003176796436309415, 0.008034659624099771, 0.002937531471252419, 0.00452920198440554, 0.01068418622016909, 0.0021925818920135454, 0.0036950755119323775, 0.01121638655662538, 0.00647245287895204, 0.02237636208534244, 0.018535289764404328, 0.016247663497924836, 0.03427173972129827, 0.0321233201026917, 0.03005986690521245, 0.0296630191802979, 0.008271381855010973, 0.005928859710693346, 0.003372625112533556, 0.0016679310798645153, 0.011801853179931654, 0.017025942802429195, 0.017230069637298562, 0.012162702083587607, 0.024589674472808798, 0.03659351348876949, 0.02464851498603826, 0.03192150354385381, 0.03436672449111944, 0.03538647055625921, 0.037104544639587456, 0.017627277374267614, 0.01835972905159, 0.01963267564773563, 0.020670332908630407, 0.022308626174926793, 0.006478269100189227, 0.001863718032836914, 0.00290055990219118, 0.0029999232292174938, 0.00859290122985834, 0.002268908023834171, 0.011152071952819864, 0.017785077095031743, 0.0164382719993591, 0.012245006561279248, 0.014949686527252148, 0.013940162658691357, 0.0056886196136475276, 0.0038898706436157893, 0.021392734050750817, 0.02518668889999398, 0.031317682266235436, 0.014908087253570623, 0.03714802980422982, 0.036649079322815026, 0.0351346445083619, 0.03568217277526864, 0.03226766109466561, 0.0515798830986024, 0.05432807445526133, 0.03984394788742074, 0.04185018062591561, 0.045397014617920006, 0.04182443141937264, 0.04106733322143563, 0.041011424064636315, 0.04135432958602914, 0.04670497894287118, 0.03394241333007819, 0.0408907055854798, 0.024452619552612354, 0.026639633178710986, 0.03390990972518926, 0.02251133680343631, 0.013583197593688978, 0.020841374397277845, 0.009811933040618892, 0.012702519893646236, 0.01354002475738525, 0.013702268600463863, 0.010640676021575923, 0.014194543361663814, 0.02526473522186279, 0.020314013957977273, 0.015119330883026083, 0.02573986530303951, 0.01685762166976923, 0.023991045951843204, 0.022783277034759464, 0.01830875635147089, 0.030763940811157187, 0.02513988494873043, 0.015038387775421103, 0.013635056018829306, 0.00976069450378414, 0.007430927753448446, 0.015563921928405722, 0.014775590896606405, 0.02252026081085201, 0.02773775339126583, 0.005321857929229679, 0.02263070821762081, 0.0270998644828796, 0.02376258134841913, 0.030969200134277286, 0.031503913402557315, 0.03393339872360224, 0.02076611757278446, 0.023325541019439733, 0.025418558120727575, 0.011047382354736346, 0.013002235889434832, 0.014459807872772235, 0.014208931922912615, 0.020983953475952166, 0.0007599592208862305, 0.0005640089511871338, 0.0019535422325134277, 0.0017512142658233643, 0.001161426305770874, 0.0014179348945617676, 0.0023248791694641113, 0.016801346540451068, 0.003291010856628418, 0.004005938768386841, 0.0028073787689208984, 0.017312963008880633, 0.01662339687347414, 0.017819721698761004, 0.018319268226623553, 0.018535990715026873, 0.021626938581466693, 0.022962470054626483, 0.024940807819366473, 0.0074884891510009766, 0.009078800678253174, 0.029471178054809588, 0.031522859334945696, 0.013371855020523071, 0.015257805585861206, 0.017288237810134888, 0.0005816411972046076, 0.001655857563018781, 0.004573266506195051, 0.007723369598388707, 0.0005016708374023793, 0.013999519348144585, 0.007573751211166435, 0.0018004155158997115, 0.004268052577972359, 0.009757044315338081, 0.014790686368942207, 0.01966390252113337, 0.022536369562148995, 0.004667295217514078, 0.006780339479446451, 0.00877629041671757, 0.010388655662536661, 0.011484814882278482, 0.012215478420257608, 0.012987686395645182, 0.013937933444976847, 0.014903498888015787, 0.01634956717491154, 0.0019301116466522439, 0.009826475381851218, 0.016340845823287986, 0.022084528207778953, 0.019301825761795066, 0.01228442192077639, 0.0074457955360413, 0.018109115362167305, 0.001796262264251669, 0.0053530168533325595, 0.012342972755432169, 0.0015452742576599343, 0.010987961292266868, 0.01684820055961611, 0.02116011977195742, 0.026947432756423972, 0.022878212928772013, 0.028257998228073067, 0.015760155916213936, 0.006211372613906807, 0.0021968758106232222, 0.006131795644760185, 0.0064844763278961715, 0.01722146749496456, 0.025688594579696633, 0.014325118064880349, 0.022898281812667842, 0.012820328474044795, 0.005721802711486812, 0.018107378482818626, 0.021594935655593894, 0.007788752317428593, 0.014223848581314091, 1.9824504852161695e-06, 0.0029920792579650746, 0.0015227258205413596, 0.026359858512878365, 0.01585126161575312, 0.0038258457183837358, 0.01416694283485409, 0.0032420372962951305, 0.013989578485488874, 0.0066019105911254705, 0.0010871398448943914, 0.0020672571659088312, 0.0022216629981994807, 0.00035382390022276056, 0.003145437240600568, 0.005116562843322736, 0.00853059768676756, 0.008700170516967809, 0.00565511822700504, 0.0025324308872223256, 0.00011412143707278943, 0.0003388142585754039, 0.0011135423183441517, 0.013707320690155012, 0.012864332199096662, 0.012332837581634504, 0.006838628053665197, 0.006426223516464269, 0.005673714876174962, 0.0042566740512848256, 0.02333602070808416, 0.003607549667358434, 0.003798373937606847, 0.0038163447380066273, 0.0036751115322113392, 0.0043346369266510365, 0.004772194623947179, 0.005251624584198034, 0.004833498001098668, 0.022061733007431084, 0.0019710147380829213, 0.0017114961147308705, 0.0023607993125915883, 0.0018946611881256459, 0.018748877048492485, 0.01195904374122625, 0.009167013168335014, 5.656719207758343e-05, 0.011437939405441244, 0.012727888822555489, 0.004886301755905098, 0.03469011187553406, 0.02791428327560419, 0.022855436801910378, 0.017820830345153804, 0.025208487510681166, 0.0017908358573913707, 0.005819890499115021, 0.005867235660553027, 0.012142908573150701, 0.017306160926818914, 0.004240744113922168]}],\n",
              "                        {\"template\": {\"data\": {\"bar\": [{\"error_x\": {\"color\": \"#2a3f5f\"}, \"error_y\": {\"color\": \"#2a3f5f\"}, \"marker\": {\"line\": {\"color\": \"#E5ECF6\", \"width\": 0.5}}, \"type\": \"bar\"}], \"barpolar\": [{\"marker\": {\"line\": {\"color\": \"#E5ECF6\", \"width\": 0.5}}, \"type\": \"barpolar\"}], \"carpet\": [{\"aaxis\": {\"endlinecolor\": \"#2a3f5f\", \"gridcolor\": \"white\", \"linecolor\": \"white\", \"minorgridcolor\": \"white\", \"startlinecolor\": \"#2a3f5f\"}, \"baxis\": {\"endlinecolor\": \"#2a3f5f\", \"gridcolor\": \"white\", \"linecolor\": \"white\", \"minorgridcolor\": \"white\", \"startlinecolor\": \"#2a3f5f\"}, \"type\": \"carpet\"}], \"choropleth\": [{\"colorbar\": {\"outlinewidth\": 0, \"ticks\": \"\"}, \"type\": \"choropleth\"}], \"contour\": [{\"colorbar\": {\"outlinewidth\": 0, \"ticks\": \"\"}, \"colorscale\": [[0.0, \"#0d0887\"], [0.1111111111111111, \"#46039f\"], [0.2222222222222222, \"#7201a8\"], [0.3333333333333333, \"#9c179e\"], [0.4444444444444444, \"#bd3786\"], [0.5555555555555556, \"#d8576b\"], [0.6666666666666666, \"#ed7953\"], [0.7777777777777778, \"#fb9f3a\"], [0.8888888888888888, \"#fdca26\"], [1.0, \"#f0f921\"]], \"type\": \"contour\"}], \"contourcarpet\": [{\"colorbar\": {\"outlinewidth\": 0, \"ticks\": \"\"}, \"type\": \"contourcarpet\"}], \"heatmap\": [{\"colorbar\": {\"outlinewidth\": 0, \"ticks\": \"\"}, \"colorscale\": [[0.0, \"#0d0887\"], [0.1111111111111111, \"#46039f\"], [0.2222222222222222, \"#7201a8\"], [0.3333333333333333, \"#9c179e\"], [0.4444444444444444, \"#bd3786\"], [0.5555555555555556, \"#d8576b\"], [0.6666666666666666, \"#ed7953\"], [0.7777777777777778, \"#fb9f3a\"], [0.8888888888888888, \"#fdca26\"], [1.0, \"#f0f921\"]], \"type\": \"heatmap\"}], \"heatmapgl\": [{\"colorbar\": {\"outlinewidth\": 0, \"ticks\": \"\"}, \"colorscale\": [[0.0, \"#0d0887\"], [0.1111111111111111, \"#46039f\"], [0.2222222222222222, \"#7201a8\"], [0.3333333333333333, \"#9c179e\"], [0.4444444444444444, \"#bd3786\"], [0.5555555555555556, \"#d8576b\"], [0.6666666666666666, \"#ed7953\"], [0.7777777777777778, \"#fb9f3a\"], [0.8888888888888888, \"#fdca26\"], [1.0, \"#f0f921\"]], \"type\": \"heatmapgl\"}], \"histogram\": [{\"marker\": {\"colorbar\": {\"outlinewidth\": 0, \"ticks\": \"\"}}, \"type\": \"histogram\"}], \"histogram2d\": [{\"colorbar\": {\"outlinewidth\": 0, \"ticks\": \"\"}, \"colorscale\": [[0.0, \"#0d0887\"], [0.1111111111111111, \"#46039f\"], [0.2222222222222222, \"#7201a8\"], [0.3333333333333333, \"#9c179e\"], [0.4444444444444444, \"#bd3786\"], [0.5555555555555556, \"#d8576b\"], [0.6666666666666666, \"#ed7953\"], [0.7777777777777778, \"#fb9f3a\"], [0.8888888888888888, \"#fdca26\"], [1.0, \"#f0f921\"]], \"type\": \"histogram2d\"}], \"histogram2dcontour\": [{\"colorbar\": {\"outlinewidth\": 0, \"ticks\": \"\"}, \"colorscale\": [[0.0, \"#0d0887\"], [0.1111111111111111, \"#46039f\"], [0.2222222222222222, \"#7201a8\"], [0.3333333333333333, \"#9c179e\"], [0.4444444444444444, \"#bd3786\"], [0.5555555555555556, \"#d8576b\"], [0.6666666666666666, \"#ed7953\"], [0.7777777777777778, \"#fb9f3a\"], [0.8888888888888888, \"#fdca26\"], [1.0, \"#f0f921\"]], \"type\": \"histogram2dcontour\"}], \"mesh3d\": [{\"colorbar\": {\"outlinewidth\": 0, \"ticks\": \"\"}, \"type\": \"mesh3d\"}], \"parcoords\": [{\"line\": {\"colorbar\": {\"outlinewidth\": 0, \"ticks\": \"\"}}, \"type\": \"parcoords\"}], \"pie\": [{\"automargin\": true, \"type\": \"pie\"}], \"scatter\": [{\"marker\": {\"colorbar\": {\"outlinewidth\": 0, \"ticks\": \"\"}}, \"type\": \"scatter\"}], \"scatter3d\": [{\"line\": {\"colorbar\": {\"outlinewidth\": 0, \"ticks\": \"\"}}, \"marker\": {\"colorbar\": {\"outlinewidth\": 0, \"ticks\": \"\"}}, \"type\": \"scatter3d\"}], \"scattercarpet\": [{\"marker\": {\"colorbar\": {\"outlinewidth\": 0, \"ticks\": \"\"}}, \"type\": \"scattercarpet\"}], \"scattergeo\": [{\"marker\": {\"colorbar\": {\"outlinewidth\": 0, \"ticks\": \"\"}}, \"type\": \"scattergeo\"}], \"scattergl\": [{\"marker\": {\"colorbar\": {\"outlinewidth\": 0, \"ticks\": \"\"}}, \"type\": \"scattergl\"}], \"scattermapbox\": [{\"marker\": {\"colorbar\": {\"outlinewidth\": 0, \"ticks\": \"\"}}, \"type\": \"scattermapbox\"}], \"scatterpolar\": [{\"marker\": {\"colorbar\": {\"outlinewidth\": 0, \"ticks\": \"\"}}, \"type\": \"scatterpolar\"}], \"scatterpolargl\": [{\"marker\": {\"colorbar\": {\"outlinewidth\": 0, \"ticks\": \"\"}}, \"type\": \"scatterpolargl\"}], \"scatterternary\": [{\"marker\": {\"colorbar\": {\"outlinewidth\": 0, \"ticks\": \"\"}}, \"type\": \"scatterternary\"}], \"surface\": [{\"colorbar\": {\"outlinewidth\": 0, \"ticks\": \"\"}, \"colorscale\": [[0.0, \"#0d0887\"], [0.1111111111111111, \"#46039f\"], [0.2222222222222222, \"#7201a8\"], [0.3333333333333333, \"#9c179e\"], [0.4444444444444444, \"#bd3786\"], [0.5555555555555556, \"#d8576b\"], [0.6666666666666666, \"#ed7953\"], [0.7777777777777778, \"#fb9f3a\"], [0.8888888888888888, \"#fdca26\"], [1.0, \"#f0f921\"]], \"type\": \"surface\"}], \"table\": [{\"cells\": {\"fill\": {\"color\": \"#EBF0F8\"}, \"line\": {\"color\": \"white\"}}, \"header\": {\"fill\": {\"color\": \"#C8D4E3\"}, \"line\": {\"color\": \"white\"}}, \"type\": \"table\"}]}, \"layout\": {\"annotationdefaults\": {\"arrowcolor\": \"#2a3f5f\", \"arrowhead\": 0, \"arrowwidth\": 1}, \"coloraxis\": {\"colorbar\": {\"outlinewidth\": 0, \"ticks\": \"\"}}, \"colorscale\": {\"diverging\": [[0, \"#8e0152\"], [0.1, \"#c51b7d\"], [0.2, \"#de77ae\"], [0.3, \"#f1b6da\"], [0.4, \"#fde0ef\"], [0.5, \"#f7f7f7\"], [0.6, \"#e6f5d0\"], [0.7, \"#b8e186\"], [0.8, \"#7fbc41\"], [0.9, \"#4d9221\"], [1, \"#276419\"]], \"sequential\": [[0.0, \"#0d0887\"], [0.1111111111111111, \"#46039f\"], [0.2222222222222222, \"#7201a8\"], [0.3333333333333333, \"#9c179e\"], [0.4444444444444444, \"#bd3786\"], [0.5555555555555556, \"#d8576b\"], [0.6666666666666666, \"#ed7953\"], [0.7777777777777778, \"#fb9f3a\"], [0.8888888888888888, \"#fdca26\"], [1.0, \"#f0f921\"]], \"sequentialminus\": [[0.0, \"#0d0887\"], [0.1111111111111111, \"#46039f\"], [0.2222222222222222, \"#7201a8\"], [0.3333333333333333, \"#9c179e\"], [0.4444444444444444, \"#bd3786\"], [0.5555555555555556, \"#d8576b\"], [0.6666666666666666, \"#ed7953\"], [0.7777777777777778, \"#fb9f3a\"], [0.8888888888888888, \"#fdca26\"], [1.0, \"#f0f921\"]]}, \"colorway\": [\"#636efa\", \"#EF553B\", \"#00cc96\", \"#ab63fa\", \"#FFA15A\", \"#19d3f3\", \"#FF6692\", \"#B6E880\", \"#FF97FF\", \"#FECB52\"], \"font\": {\"color\": \"#2a3f5f\"}, \"geo\": {\"bgcolor\": \"white\", \"lakecolor\": \"white\", \"landcolor\": \"#E5ECF6\", \"showlakes\": true, \"showland\": true, \"subunitcolor\": \"white\"}, \"hoverlabel\": {\"align\": \"left\"}, \"hovermode\": \"closest\", \"mapbox\": {\"style\": \"light\"}, \"paper_bgcolor\": \"white\", \"plot_bgcolor\": \"#E5ECF6\", \"polar\": {\"angularaxis\": {\"gridcolor\": \"white\", \"linecolor\": \"white\", \"ticks\": \"\"}, \"bgcolor\": \"#E5ECF6\", \"radialaxis\": {\"gridcolor\": \"white\", \"linecolor\": \"white\", \"ticks\": \"\"}}, \"scene\": {\"xaxis\": {\"backgroundcolor\": \"#E5ECF6\", \"gridcolor\": \"white\", \"gridwidth\": 2, \"linecolor\": \"white\", \"showbackground\": true, \"ticks\": \"\", \"zerolinecolor\": \"white\"}, \"yaxis\": {\"backgroundcolor\": \"#E5ECF6\", \"gridcolor\": \"white\", \"gridwidth\": 2, \"linecolor\": \"white\", \"showbackground\": true, \"ticks\": \"\", \"zerolinecolor\": \"white\"}, \"zaxis\": {\"backgroundcolor\": \"#E5ECF6\", \"gridcolor\": \"white\", \"gridwidth\": 2, \"linecolor\": \"white\", \"showbackground\": true, \"ticks\": \"\", \"zerolinecolor\": \"white\"}}, \"shapedefaults\": {\"line\": {\"color\": \"#2a3f5f\"}}, \"ternary\": {\"aaxis\": {\"gridcolor\": \"white\", \"linecolor\": \"white\", \"ticks\": \"\"}, \"baxis\": {\"gridcolor\": \"white\", \"linecolor\": \"white\", \"ticks\": \"\"}, \"bgcolor\": \"#E5ECF6\", \"caxis\": {\"gridcolor\": \"white\", \"linecolor\": \"white\", \"ticks\": \"\"}}, \"title\": {\"x\": 0.05}, \"xaxis\": {\"automargin\": true, \"gridcolor\": \"white\", \"linecolor\": \"white\", \"ticks\": \"\", \"title\": {\"standoff\": 15}, \"zerolinecolor\": \"white\", \"zerolinewidth\": 2}, \"yaxis\": {\"automargin\": true, \"gridcolor\": \"white\", \"linecolor\": \"white\", \"ticks\": \"\", \"title\": {\"standoff\": 15}, \"zerolinecolor\": \"white\", \"zerolinewidth\": 2}}}, \"title\": {\"text\": \"Absolute Error\"}},\n",
              "                        {\"responsive\": true}\n",
              "                    ).then(function(){\n",
              "                            \n",
              "var gd = document.getElementById('2750c03f-f138-4049-b143-5b8a63b81ac3');\n",
              "var x = new MutationObserver(function (mutations, observer) {{\n",
              "        var display = window.getComputedStyle(gd).display;\n",
              "        if (!display || display === 'none') {{\n",
              "            console.log([gd, 'removed!']);\n",
              "            Plotly.purge(gd);\n",
              "            observer.disconnect();\n",
              "        }}\n",
              "}});\n",
              "\n",
              "// Listen for the removal of the full notebook cells\n",
              "var notebookContainer = gd.closest('#notebook-container');\n",
              "if (notebookContainer) {{\n",
              "    x.observe(notebookContainer, {childList: true});\n",
              "}}\n",
              "\n",
              "// Listen for the clearing of the current output cell\n",
              "var outputEl = gd.closest('.output');\n",
              "if (outputEl) {{\n",
              "    x.observe(outputEl, {childList: true});\n",
              "}}\n",
              "\n",
              "                        })\n",
              "                };\n",
              "                \n",
              "            </script>\n",
              "        </div>\n",
              "</body>\n",
              "</html>"
            ]
          },
          "metadata": {}
        }
      ]
    },
    {
      "cell_type": "markdown",
      "metadata": {
        "id": "mIrVFpczbk7Z"
      },
      "source": [
        "Re-sampling data"
      ]
    },
    {
      "cell_type": "code",
      "metadata": {
        "id": "8WFGOZk1dSnm"
      },
      "source": [
        "#@title Resampling { display-mode: \"form\" }\n",
        "sample_frequency = 60 #@param {type:\"slider\", min:20, max:120, step:10}\n",
        "sample = str(sample_frequency) + \"min\""
      ],
      "execution_count": 26,
      "outputs": []
    },
    {
      "cell_type": "code",
      "metadata": {
        "id": "-bVGeP26ZdDL"
      },
      "source": [
        "df_final['Date_Time'] = pd.to_datetime(df_final['Date_Time'], format=\"%Y-%m-%d %H:%M:%S\")\n",
        "df_final.set_index('Date_Time', inplace = True)\n",
        "df_resample = df_final.resample(sample).mean().reset_index()\n",
        "df_final = df_final.reset_index()"
      ],
      "execution_count": 27,
      "outputs": []
    },
    {
      "cell_type": "code",
      "metadata": {
        "colab": {
          "base_uri": "https://localhost:8080/",
          "height": 402
        },
        "id": "wCYuE0pr7YI_",
        "outputId": "044418b1-3502-4d45-9483-73dda304bbcb"
      },
      "source": [
        "df_final"
      ],
      "execution_count": 28,
      "outputs": [
        {
          "output_type": "execute_result",
          "data": {
            "text/html": [
              "<div>\n",
              "<style scoped>\n",
              "    .dataframe tbody tr th:only-of-type {\n",
              "        vertical-align: middle;\n",
              "    }\n",
              "\n",
              "    .dataframe tbody tr th {\n",
              "        vertical-align: top;\n",
              "    }\n",
              "\n",
              "    .dataframe thead th {\n",
              "        text-align: right;\n",
              "    }\n",
              "</style>\n",
              "<table border=\"1\" class=\"dataframe\">\n",
              "  <thead>\n",
              "    <tr style=\"text-align: right;\">\n",
              "      <th></th>\n",
              "      <th>Date_Time</th>\n",
              "      <th>y_hat</th>\n",
              "      <th>y_test</th>\n",
              "      <th>difference</th>\n",
              "      <th>abs_difference</th>\n",
              "    </tr>\n",
              "  </thead>\n",
              "  <tbody>\n",
              "    <tr>\n",
              "      <th>0</th>\n",
              "      <td>2018-12-21 10:30:00</td>\n",
              "      <td>0.641028</td>\n",
              "      <td>0.60</td>\n",
              "      <td>0.041028</td>\n",
              "      <td>0.041028</td>\n",
              "    </tr>\n",
              "    <tr>\n",
              "      <th>1</th>\n",
              "      <td>2018-12-21 10:40:00</td>\n",
              "      <td>0.633135</td>\n",
              "      <td>0.60</td>\n",
              "      <td>0.033135</td>\n",
              "      <td>0.033135</td>\n",
              "    </tr>\n",
              "    <tr>\n",
              "      <th>2</th>\n",
              "      <td>2018-12-21 10:50:00</td>\n",
              "      <td>0.634407</td>\n",
              "      <td>0.62</td>\n",
              "      <td>0.014407</td>\n",
              "      <td>0.014407</td>\n",
              "    </tr>\n",
              "    <tr>\n",
              "      <th>3</th>\n",
              "      <td>2018-12-21 11:00:00</td>\n",
              "      <td>0.640025</td>\n",
              "      <td>0.62</td>\n",
              "      <td>0.020025</td>\n",
              "      <td>0.020025</td>\n",
              "    </tr>\n",
              "    <tr>\n",
              "      <th>4</th>\n",
              "      <td>2018-12-21 11:10:00</td>\n",
              "      <td>0.651867</td>\n",
              "      <td>0.64</td>\n",
              "      <td>0.011867</td>\n",
              "      <td>0.011867</td>\n",
              "    </tr>\n",
              "    <tr>\n",
              "      <th>...</th>\n",
              "      <td>...</td>\n",
              "      <td>...</td>\n",
              "      <td>...</td>\n",
              "      <td>...</td>\n",
              "      <td>...</td>\n",
              "    </tr>\n",
              "    <tr>\n",
              "      <th>404</th>\n",
              "      <td>2018-12-24 05:50:00</td>\n",
              "      <td>0.654180</td>\n",
              "      <td>0.66</td>\n",
              "      <td>-0.005820</td>\n",
              "      <td>0.005820</td>\n",
              "    </tr>\n",
              "    <tr>\n",
              "      <th>405</th>\n",
              "      <td>2018-12-24 06:00:00</td>\n",
              "      <td>0.674133</td>\n",
              "      <td>0.68</td>\n",
              "      <td>-0.005867</td>\n",
              "      <td>0.005867</td>\n",
              "    </tr>\n",
              "    <tr>\n",
              "      <th>406</th>\n",
              "      <td>2018-12-24 06:10:00</td>\n",
              "      <td>0.687857</td>\n",
              "      <td>0.70</td>\n",
              "      <td>-0.012143</td>\n",
              "      <td>0.012143</td>\n",
              "    </tr>\n",
              "    <tr>\n",
              "      <th>407</th>\n",
              "      <td>2018-12-24 06:20:00</td>\n",
              "      <td>0.682694</td>\n",
              "      <td>0.70</td>\n",
              "      <td>-0.017306</td>\n",
              "      <td>0.017306</td>\n",
              "    </tr>\n",
              "    <tr>\n",
              "      <th>408</th>\n",
              "      <td>2018-12-24 06:30:00</td>\n",
              "      <td>0.675759</td>\n",
              "      <td>0.68</td>\n",
              "      <td>-0.004241</td>\n",
              "      <td>0.004241</td>\n",
              "    </tr>\n",
              "  </tbody>\n",
              "</table>\n",
              "<p>409 rows × 5 columns</p>\n",
              "</div>"
            ],
            "text/plain": [
              "              Date_Time     y_hat  y_test  difference  abs_difference\n",
              "0   2018-12-21 10:30:00  0.641028    0.60    0.041028        0.041028\n",
              "1   2018-12-21 10:40:00  0.633135    0.60    0.033135        0.033135\n",
              "2   2018-12-21 10:50:00  0.634407    0.62    0.014407        0.014407\n",
              "3   2018-12-21 11:00:00  0.640025    0.62    0.020025        0.020025\n",
              "4   2018-12-21 11:10:00  0.651867    0.64    0.011867        0.011867\n",
              "..                  ...       ...     ...         ...             ...\n",
              "404 2018-12-24 05:50:00  0.654180    0.66   -0.005820        0.005820\n",
              "405 2018-12-24 06:00:00  0.674133    0.68   -0.005867        0.005867\n",
              "406 2018-12-24 06:10:00  0.687857    0.70   -0.012143        0.012143\n",
              "407 2018-12-24 06:20:00  0.682694    0.70   -0.017306        0.017306\n",
              "408 2018-12-24 06:30:00  0.675759    0.68   -0.004241        0.004241\n",
              "\n",
              "[409 rows x 5 columns]"
            ]
          },
          "metadata": {},
          "execution_count": 28
        }
      ]
    },
    {
      "cell_type": "code",
      "metadata": {
        "colab": {
          "base_uri": "https://localhost:8080/",
          "height": 542
        },
        "id": "F6SNA4_oadsl",
        "outputId": "64b17d3d-b5ac-4632-d35f-85d562d7cf7e"
      },
      "source": [
        "column_name = 'difference' \n",
        "\n",
        "fig = go.Figure()\n",
        "fig.add_trace(go.Scatter(x=df_resample['Date_Time'], y=df_resample[column_name], mode='lines', name='Error'))\n",
        "fig.update_layout(title_text= \"Error\")\n",
        "\n",
        "fig.show()"
      ],
      "execution_count": 29,
      "outputs": [
        {
          "output_type": "display_data",
          "data": {
            "text/html": [
              "<html>\n",
              "<head><meta charset=\"utf-8\" /></head>\n",
              "<body>\n",
              "    <div>\n",
              "            <script src=\"https://cdnjs.cloudflare.com/ajax/libs/mathjax/2.7.5/MathJax.js?config=TeX-AMS-MML_SVG\"></script><script type=\"text/javascript\">if (window.MathJax) {MathJax.Hub.Config({SVG: {font: \"STIX-Web\"}});}</script>\n",
              "                <script type=\"text/javascript\">window.PlotlyConfig = {MathJaxConfig: 'local'};</script>\n",
              "        <script src=\"https://cdn.plot.ly/plotly-latest.min.js\"></script>    \n",
              "            <div id=\"26dc741e-3aa8-4580-ad86-bdaab764dd8c\" class=\"plotly-graph-div\" style=\"height:525px; width:100%;\"></div>\n",
              "            <script type=\"text/javascript\">\n",
              "                \n",
              "                    window.PLOTLYENV=window.PLOTLYENV || {};\n",
              "                    \n",
              "                if (document.getElementById(\"26dc741e-3aa8-4580-ad86-bdaab764dd8c\")) {\n",
              "                    Plotly.newPlot(\n",
              "                        '26dc741e-3aa8-4580-ad86-bdaab764dd8c',\n",
              "                        [{\"mode\": \"lines\", \"name\": \"Error\", \"type\": \"scatter\", \"x\": [\"2018-12-21T10:00:00\", \"2018-12-21T11:00:00\", \"2018-12-21T12:00:00\", \"2018-12-21T13:00:00\", \"2018-12-21T14:00:00\", \"2018-12-21T15:00:00\", \"2018-12-21T16:00:00\", \"2018-12-21T17:00:00\", \"2018-12-21T18:00:00\", \"2018-12-21T19:00:00\", \"2018-12-21T20:00:00\", \"2018-12-21T21:00:00\", \"2018-12-21T22:00:00\", \"2018-12-21T23:00:00\", \"2018-12-22T00:00:00\", \"2018-12-22T01:00:00\", \"2018-12-22T02:00:00\", \"2018-12-22T03:00:00\", \"2018-12-22T04:00:00\", \"2018-12-22T05:00:00\", \"2018-12-22T06:00:00\", \"2018-12-22T07:00:00\", \"2018-12-22T08:00:00\", \"2018-12-22T09:00:00\", \"2018-12-22T10:00:00\", \"2018-12-22T11:00:00\", \"2018-12-22T12:00:00\", \"2018-12-22T13:00:00\", \"2018-12-22T14:00:00\", \"2018-12-22T15:00:00\", \"2018-12-22T16:00:00\", \"2018-12-22T17:00:00\", \"2018-12-22T18:00:00\", \"2018-12-22T19:00:00\", \"2018-12-22T20:00:00\", \"2018-12-22T21:00:00\", \"2018-12-22T22:00:00\", \"2018-12-22T23:00:00\", \"2018-12-23T00:00:00\", \"2018-12-23T01:00:00\", \"2018-12-23T02:00:00\", \"2018-12-23T03:00:00\", \"2018-12-23T04:00:00\", \"2018-12-23T05:00:00\", \"2018-12-23T06:00:00\", \"2018-12-23T07:00:00\", \"2018-12-23T08:00:00\", \"2018-12-23T09:00:00\", \"2018-12-23T10:00:00\", \"2018-12-23T11:00:00\", \"2018-12-23T12:00:00\", \"2018-12-23T13:00:00\", \"2018-12-23T14:00:00\", \"2018-12-23T15:00:00\", \"2018-12-23T16:00:00\", \"2018-12-23T17:00:00\", \"2018-12-23T18:00:00\", \"2018-12-23T19:00:00\", \"2018-12-23T20:00:00\", \"2018-12-23T21:00:00\", \"2018-12-23T22:00:00\", \"2018-12-23T23:00:00\", \"2018-12-24T00:00:00\", \"2018-12-24T01:00:00\", \"2018-12-24T02:00:00\", \"2018-12-24T03:00:00\", \"2018-12-24T04:00:00\", \"2018-12-24T05:00:00\", \"2018-12-24T06:00:00\"], \"y\": [0.029523668289184585, 0.007919135491053239, -0.008072289228439389, -0.02668591141700753, 0.03676063140233354, 0.053221211036046344, 0.020879981517791763, 0.018978827794392934, 0.02395808657010401, 0.015845547914505025, -0.019120914538701423, -0.04391661723454802, -0.04744206150372828, -0.04808220624923709, -0.03625985383987429, -0.04198211987813313, -0.03560400883356729, -0.03621650576591492, -0.047957673072814955, -0.035179513692855845, -0.021167509953180914, -0.015006589492162012, -0.013518828948338835, 7.057785987862886e-06, 0.014095758199691813, -0.0001456737518310732, 0.004646420280138656, 0.026816816528638248, 0.002153810063997915, 0.024524329702059422, 0.027079570293426558, 0.00857005159060161, 0.007793103059132907, -0.004544677337010768, -0.03180661598841358, -0.04421112696329762, -0.040984151760737185, -0.026997900406519615, -0.013539799451828002, -0.019581685066223115, -0.022670882145563714, -0.013947741985321005, -0.022920327583948723, -0.024332485198974612, -0.010663149555524202, 0.0013653916120529204, -0.010310068329175323, -0.018978994091351842, -0.019331789414087936, 0.002762846151987741, -0.006517586509386645, -0.010772294203440372, -0.012054045995076534, -0.014547315438588485, -0.007757013042767861, -0.021975353360176086, 0.008585306207338994, 0.0026772028207778797, -0.00830729921658833, -0.00961292942365007, -0.0009023406108220241, 0.0013554048538208334, -0.004087682763735427, 0.007414779663085976, 0.007488133112589557, 0.00644098202387496, -0.0052926528453826616, -0.016901627381642654, -0.009889262318611203]}],\n",
              "                        {\"template\": {\"data\": {\"bar\": [{\"error_x\": {\"color\": \"#2a3f5f\"}, \"error_y\": {\"color\": \"#2a3f5f\"}, \"marker\": {\"line\": {\"color\": \"#E5ECF6\", \"width\": 0.5}}, \"type\": \"bar\"}], \"barpolar\": [{\"marker\": {\"line\": {\"color\": \"#E5ECF6\", \"width\": 0.5}}, \"type\": \"barpolar\"}], \"carpet\": [{\"aaxis\": {\"endlinecolor\": \"#2a3f5f\", \"gridcolor\": \"white\", \"linecolor\": \"white\", \"minorgridcolor\": \"white\", \"startlinecolor\": \"#2a3f5f\"}, \"baxis\": {\"endlinecolor\": \"#2a3f5f\", \"gridcolor\": \"white\", \"linecolor\": \"white\", \"minorgridcolor\": \"white\", \"startlinecolor\": \"#2a3f5f\"}, \"type\": \"carpet\"}], \"choropleth\": [{\"colorbar\": {\"outlinewidth\": 0, \"ticks\": \"\"}, \"type\": \"choropleth\"}], \"contour\": [{\"colorbar\": {\"outlinewidth\": 0, \"ticks\": \"\"}, \"colorscale\": [[0.0, \"#0d0887\"], [0.1111111111111111, \"#46039f\"], [0.2222222222222222, \"#7201a8\"], [0.3333333333333333, \"#9c179e\"], [0.4444444444444444, \"#bd3786\"], [0.5555555555555556, \"#d8576b\"], [0.6666666666666666, \"#ed7953\"], [0.7777777777777778, \"#fb9f3a\"], [0.8888888888888888, \"#fdca26\"], [1.0, \"#f0f921\"]], \"type\": \"contour\"}], \"contourcarpet\": [{\"colorbar\": {\"outlinewidth\": 0, \"ticks\": \"\"}, \"type\": \"contourcarpet\"}], \"heatmap\": [{\"colorbar\": {\"outlinewidth\": 0, \"ticks\": \"\"}, \"colorscale\": [[0.0, \"#0d0887\"], [0.1111111111111111, \"#46039f\"], [0.2222222222222222, \"#7201a8\"], [0.3333333333333333, \"#9c179e\"], [0.4444444444444444, \"#bd3786\"], [0.5555555555555556, \"#d8576b\"], [0.6666666666666666, \"#ed7953\"], [0.7777777777777778, \"#fb9f3a\"], [0.8888888888888888, \"#fdca26\"], [1.0, \"#f0f921\"]], \"type\": \"heatmap\"}], \"heatmapgl\": [{\"colorbar\": {\"outlinewidth\": 0, \"ticks\": \"\"}, \"colorscale\": [[0.0, \"#0d0887\"], [0.1111111111111111, \"#46039f\"], [0.2222222222222222, \"#7201a8\"], [0.3333333333333333, \"#9c179e\"], [0.4444444444444444, \"#bd3786\"], [0.5555555555555556, \"#d8576b\"], [0.6666666666666666, \"#ed7953\"], [0.7777777777777778, \"#fb9f3a\"], [0.8888888888888888, \"#fdca26\"], [1.0, \"#f0f921\"]], \"type\": \"heatmapgl\"}], \"histogram\": [{\"marker\": {\"colorbar\": {\"outlinewidth\": 0, \"ticks\": \"\"}}, \"type\": \"histogram\"}], \"histogram2d\": [{\"colorbar\": {\"outlinewidth\": 0, \"ticks\": \"\"}, \"colorscale\": [[0.0, \"#0d0887\"], [0.1111111111111111, \"#46039f\"], [0.2222222222222222, \"#7201a8\"], [0.3333333333333333, \"#9c179e\"], [0.4444444444444444, \"#bd3786\"], [0.5555555555555556, \"#d8576b\"], [0.6666666666666666, \"#ed7953\"], [0.7777777777777778, \"#fb9f3a\"], [0.8888888888888888, \"#fdca26\"], [1.0, \"#f0f921\"]], \"type\": \"histogram2d\"}], \"histogram2dcontour\": [{\"colorbar\": {\"outlinewidth\": 0, \"ticks\": \"\"}, \"colorscale\": [[0.0, \"#0d0887\"], [0.1111111111111111, \"#46039f\"], [0.2222222222222222, \"#7201a8\"], [0.3333333333333333, \"#9c179e\"], [0.4444444444444444, \"#bd3786\"], [0.5555555555555556, \"#d8576b\"], [0.6666666666666666, \"#ed7953\"], [0.7777777777777778, \"#fb9f3a\"], [0.8888888888888888, \"#fdca26\"], [1.0, \"#f0f921\"]], \"type\": \"histogram2dcontour\"}], \"mesh3d\": [{\"colorbar\": {\"outlinewidth\": 0, \"ticks\": \"\"}, \"type\": \"mesh3d\"}], \"parcoords\": [{\"line\": {\"colorbar\": {\"outlinewidth\": 0, \"ticks\": \"\"}}, \"type\": \"parcoords\"}], \"pie\": [{\"automargin\": true, \"type\": \"pie\"}], \"scatter\": [{\"marker\": {\"colorbar\": {\"outlinewidth\": 0, \"ticks\": \"\"}}, \"type\": \"scatter\"}], \"scatter3d\": [{\"line\": {\"colorbar\": {\"outlinewidth\": 0, \"ticks\": \"\"}}, \"marker\": {\"colorbar\": {\"outlinewidth\": 0, \"ticks\": \"\"}}, \"type\": \"scatter3d\"}], \"scattercarpet\": [{\"marker\": {\"colorbar\": {\"outlinewidth\": 0, \"ticks\": \"\"}}, \"type\": \"scattercarpet\"}], \"scattergeo\": [{\"marker\": {\"colorbar\": {\"outlinewidth\": 0, \"ticks\": \"\"}}, \"type\": \"scattergeo\"}], \"scattergl\": [{\"marker\": {\"colorbar\": {\"outlinewidth\": 0, \"ticks\": \"\"}}, \"type\": \"scattergl\"}], \"scattermapbox\": [{\"marker\": {\"colorbar\": {\"outlinewidth\": 0, \"ticks\": \"\"}}, \"type\": \"scattermapbox\"}], \"scatterpolar\": [{\"marker\": {\"colorbar\": {\"outlinewidth\": 0, \"ticks\": \"\"}}, \"type\": \"scatterpolar\"}], \"scatterpolargl\": [{\"marker\": {\"colorbar\": {\"outlinewidth\": 0, \"ticks\": \"\"}}, \"type\": \"scatterpolargl\"}], \"scatterternary\": [{\"marker\": {\"colorbar\": {\"outlinewidth\": 0, \"ticks\": \"\"}}, \"type\": \"scatterternary\"}], \"surface\": [{\"colorbar\": {\"outlinewidth\": 0, \"ticks\": \"\"}, \"colorscale\": [[0.0, \"#0d0887\"], [0.1111111111111111, \"#46039f\"], [0.2222222222222222, \"#7201a8\"], [0.3333333333333333, \"#9c179e\"], [0.4444444444444444, \"#bd3786\"], [0.5555555555555556, \"#d8576b\"], [0.6666666666666666, \"#ed7953\"], [0.7777777777777778, \"#fb9f3a\"], [0.8888888888888888, \"#fdca26\"], [1.0, \"#f0f921\"]], \"type\": \"surface\"}], \"table\": [{\"cells\": {\"fill\": {\"color\": \"#EBF0F8\"}, \"line\": {\"color\": \"white\"}}, \"header\": {\"fill\": {\"color\": \"#C8D4E3\"}, \"line\": {\"color\": \"white\"}}, \"type\": \"table\"}]}, \"layout\": {\"annotationdefaults\": {\"arrowcolor\": \"#2a3f5f\", \"arrowhead\": 0, \"arrowwidth\": 1}, \"coloraxis\": {\"colorbar\": {\"outlinewidth\": 0, \"ticks\": \"\"}}, \"colorscale\": {\"diverging\": [[0, \"#8e0152\"], [0.1, \"#c51b7d\"], [0.2, \"#de77ae\"], [0.3, \"#f1b6da\"], [0.4, \"#fde0ef\"], [0.5, \"#f7f7f7\"], [0.6, \"#e6f5d0\"], [0.7, \"#b8e186\"], [0.8, \"#7fbc41\"], [0.9, \"#4d9221\"], [1, \"#276419\"]], \"sequential\": [[0.0, \"#0d0887\"], [0.1111111111111111, \"#46039f\"], [0.2222222222222222, \"#7201a8\"], [0.3333333333333333, \"#9c179e\"], [0.4444444444444444, \"#bd3786\"], [0.5555555555555556, \"#d8576b\"], [0.6666666666666666, \"#ed7953\"], [0.7777777777777778, \"#fb9f3a\"], [0.8888888888888888, \"#fdca26\"], [1.0, \"#f0f921\"]], \"sequentialminus\": [[0.0, \"#0d0887\"], [0.1111111111111111, \"#46039f\"], [0.2222222222222222, \"#7201a8\"], [0.3333333333333333, \"#9c179e\"], [0.4444444444444444, \"#bd3786\"], [0.5555555555555556, \"#d8576b\"], [0.6666666666666666, \"#ed7953\"], [0.7777777777777778, \"#fb9f3a\"], [0.8888888888888888, \"#fdca26\"], [1.0, \"#f0f921\"]]}, \"colorway\": [\"#636efa\", \"#EF553B\", \"#00cc96\", \"#ab63fa\", \"#FFA15A\", \"#19d3f3\", \"#FF6692\", \"#B6E880\", \"#FF97FF\", \"#FECB52\"], \"font\": {\"color\": \"#2a3f5f\"}, \"geo\": {\"bgcolor\": \"white\", \"lakecolor\": \"white\", \"landcolor\": \"#E5ECF6\", \"showlakes\": true, \"showland\": true, \"subunitcolor\": \"white\"}, \"hoverlabel\": {\"align\": \"left\"}, \"hovermode\": \"closest\", \"mapbox\": {\"style\": \"light\"}, \"paper_bgcolor\": \"white\", \"plot_bgcolor\": \"#E5ECF6\", \"polar\": {\"angularaxis\": {\"gridcolor\": \"white\", \"linecolor\": \"white\", \"ticks\": \"\"}, \"bgcolor\": \"#E5ECF6\", \"radialaxis\": {\"gridcolor\": \"white\", \"linecolor\": \"white\", \"ticks\": \"\"}}, \"scene\": {\"xaxis\": {\"backgroundcolor\": \"#E5ECF6\", \"gridcolor\": \"white\", \"gridwidth\": 2, \"linecolor\": \"white\", \"showbackground\": true, \"ticks\": \"\", \"zerolinecolor\": \"white\"}, \"yaxis\": {\"backgroundcolor\": \"#E5ECF6\", \"gridcolor\": \"white\", \"gridwidth\": 2, \"linecolor\": \"white\", \"showbackground\": true, \"ticks\": \"\", \"zerolinecolor\": \"white\"}, \"zaxis\": {\"backgroundcolor\": \"#E5ECF6\", \"gridcolor\": \"white\", \"gridwidth\": 2, \"linecolor\": \"white\", \"showbackground\": true, \"ticks\": \"\", \"zerolinecolor\": \"white\"}}, \"shapedefaults\": {\"line\": {\"color\": \"#2a3f5f\"}}, \"ternary\": {\"aaxis\": {\"gridcolor\": \"white\", \"linecolor\": \"white\", \"ticks\": \"\"}, \"baxis\": {\"gridcolor\": \"white\", \"linecolor\": \"white\", \"ticks\": \"\"}, \"bgcolor\": \"#E5ECF6\", \"caxis\": {\"gridcolor\": \"white\", \"linecolor\": \"white\", \"ticks\": \"\"}}, \"title\": {\"x\": 0.05}, \"xaxis\": {\"automargin\": true, \"gridcolor\": \"white\", \"linecolor\": \"white\", \"ticks\": \"\", \"title\": {\"standoff\": 15}, \"zerolinecolor\": \"white\", \"zerolinewidth\": 2}, \"yaxis\": {\"automargin\": true, \"gridcolor\": \"white\", \"linecolor\": \"white\", \"ticks\": \"\", \"title\": {\"standoff\": 15}, \"zerolinecolor\": \"white\", \"zerolinewidth\": 2}}}, \"title\": {\"text\": \"Error\"}},\n",
              "                        {\"responsive\": true}\n",
              "                    ).then(function(){\n",
              "                            \n",
              "var gd = document.getElementById('26dc741e-3aa8-4580-ad86-bdaab764dd8c');\n",
              "var x = new MutationObserver(function (mutations, observer) {{\n",
              "        var display = window.getComputedStyle(gd).display;\n",
              "        if (!display || display === 'none') {{\n",
              "            console.log([gd, 'removed!']);\n",
              "            Plotly.purge(gd);\n",
              "            observer.disconnect();\n",
              "        }}\n",
              "}});\n",
              "\n",
              "// Listen for the removal of the full notebook cells\n",
              "var notebookContainer = gd.closest('#notebook-container');\n",
              "if (notebookContainer) {{\n",
              "    x.observe(notebookContainer, {childList: true});\n",
              "}}\n",
              "\n",
              "// Listen for the clearing of the current output cell\n",
              "var outputEl = gd.closest('.output');\n",
              "if (outputEl) {{\n",
              "    x.observe(outputEl, {childList: true});\n",
              "}}\n",
              "\n",
              "                        })\n",
              "                };\n",
              "                \n",
              "            </script>\n",
              "        </div>\n",
              "</body>\n",
              "</html>"
            ]
          },
          "metadata": {}
        }
      ]
    },
    {
      "cell_type": "code",
      "metadata": {
        "colab": {
          "base_uri": "https://localhost:8080/",
          "height": 542
        },
        "id": "q95eoihxaze3",
        "outputId": "e9b41c16-d1ec-4b49-95f0-dcf3c3a3962e"
      },
      "source": [
        "column_name = 'abs_difference' \n",
        "\n",
        "fig = go.Figure()\n",
        "fig.add_trace(go.Scatter(x=df_resample['Date_Time'], y=df_resample[column_name], mode='lines', name='Absolute Error'))\n",
        "fig.update_layout(title_text= \"Absolute Error\")\n",
        "\n",
        "fig.show()"
      ],
      "execution_count": 30,
      "outputs": [
        {
          "output_type": "display_data",
          "data": {
            "text/html": [
              "<html>\n",
              "<head><meta charset=\"utf-8\" /></head>\n",
              "<body>\n",
              "    <div>\n",
              "            <script src=\"https://cdnjs.cloudflare.com/ajax/libs/mathjax/2.7.5/MathJax.js?config=TeX-AMS-MML_SVG\"></script><script type=\"text/javascript\">if (window.MathJax) {MathJax.Hub.Config({SVG: {font: \"STIX-Web\"}});}</script>\n",
              "                <script type=\"text/javascript\">window.PlotlyConfig = {MathJaxConfig: 'local'};</script>\n",
              "        <script src=\"https://cdn.plot.ly/plotly-latest.min.js\"></script>    \n",
              "            <div id=\"cdba2080-09de-4706-a8ca-802716900b73\" class=\"plotly-graph-div\" style=\"height:525px; width:100%;\"></div>\n",
              "            <script type=\"text/javascript\">\n",
              "                \n",
              "                    window.PLOTLYENV=window.PLOTLYENV || {};\n",
              "                    \n",
              "                if (document.getElementById(\"cdba2080-09de-4706-a8ca-802716900b73\")) {\n",
              "                    Plotly.newPlot(\n",
              "                        'cdba2080-09de-4706-a8ca-802716900b73',\n",
              "                        [{\"mode\": \"lines\", \"name\": \"Absolute Error\", \"type\": \"scatter\", \"x\": [\"2018-12-21T10:00:00\", \"2018-12-21T11:00:00\", \"2018-12-21T12:00:00\", \"2018-12-21T13:00:00\", \"2018-12-21T14:00:00\", \"2018-12-21T15:00:00\", \"2018-12-21T16:00:00\", \"2018-12-21T17:00:00\", \"2018-12-21T18:00:00\", \"2018-12-21T19:00:00\", \"2018-12-21T20:00:00\", \"2018-12-21T21:00:00\", \"2018-12-21T22:00:00\", \"2018-12-21T23:00:00\", \"2018-12-22T00:00:00\", \"2018-12-22T01:00:00\", \"2018-12-22T02:00:00\", \"2018-12-22T03:00:00\", \"2018-12-22T04:00:00\", \"2018-12-22T05:00:00\", \"2018-12-22T06:00:00\", \"2018-12-22T07:00:00\", \"2018-12-22T08:00:00\", \"2018-12-22T09:00:00\", \"2018-12-22T10:00:00\", \"2018-12-22T11:00:00\", \"2018-12-22T12:00:00\", \"2018-12-22T13:00:00\", \"2018-12-22T14:00:00\", \"2018-12-22T15:00:00\", \"2018-12-22T16:00:00\", \"2018-12-22T17:00:00\", \"2018-12-22T18:00:00\", \"2018-12-22T19:00:00\", \"2018-12-22T20:00:00\", \"2018-12-22T21:00:00\", \"2018-12-22T22:00:00\", \"2018-12-22T23:00:00\", \"2018-12-23T00:00:00\", \"2018-12-23T01:00:00\", \"2018-12-23T02:00:00\", \"2018-12-23T03:00:00\", \"2018-12-23T04:00:00\", \"2018-12-23T05:00:00\", \"2018-12-23T06:00:00\", \"2018-12-23T07:00:00\", \"2018-12-23T08:00:00\", \"2018-12-23T09:00:00\", \"2018-12-23T10:00:00\", \"2018-12-23T11:00:00\", \"2018-12-23T12:00:00\", \"2018-12-23T13:00:00\", \"2018-12-23T14:00:00\", \"2018-12-23T15:00:00\", \"2018-12-23T16:00:00\", \"2018-12-23T17:00:00\", \"2018-12-23T18:00:00\", \"2018-12-23T19:00:00\", \"2018-12-23T20:00:00\", \"2018-12-23T21:00:00\", \"2018-12-23T22:00:00\", \"2018-12-23T23:00:00\", \"2018-12-24T00:00:00\", \"2018-12-24T01:00:00\", \"2018-12-24T02:00:00\", \"2018-12-24T03:00:00\", \"2018-12-24T04:00:00\", \"2018-12-24T05:00:00\", \"2018-12-24T06:00:00\"], \"y\": [0.029523668289184585, 0.009250493446985883, 0.00935449163118999, 0.02668591141700753, 0.03676063140233354, 0.053221211036046344, 0.020879981517791763, 0.018978827794392934, 0.02395808657010401, 0.015935337146123274, 0.020745752255121912, 0.04391661723454802, 0.04744206150372828, 0.04808220624923709, 0.03625985383987429, 0.04198211987813313, 0.03560400883356729, 0.03621650576591492, 0.047957673072814955, 0.035179513692855845, 0.021167509953180914, 0.015006589492162012, 0.013518828948338835, 0.006008798480033883, 0.014095758199691813, 0.0045435758431752364, 0.009439507524172478, 0.026816816528638248, 0.008011432290077206, 0.024524329702059422, 0.027079570293426558, 0.009536904891332002, 0.011413706143697078, 0.014174627065658604, 0.03180661598841358, 0.04421112696329762, 0.040984151760737185, 0.026997900406519615, 0.013539799451828002, 0.019581685066223115, 0.022670882145563714, 0.013947741985321005, 0.022920327583948723, 0.024332485198974612, 0.010663149555524202, 0.004235057234764102, 0.010310068329175323, 0.018978994091351842, 0.019331789414087936, 0.004839220841725685, 0.009642308751742027, 0.010772294203440372, 0.012054045995076534, 0.014547315438588485, 0.008355767130851751, 0.021975353360176086, 0.01065576374530793, 0.015911307533582053, 0.008814874490102117, 0.00961292942365007, 0.0023319806655247946, 0.004311875502268488, 0.008880480726559966, 0.007414779663085976, 0.007488133112589557, 0.00644098202387496, 0.012160970369974747, 0.016901627381642654, 0.009889262318611203]}],\n",
              "                        {\"template\": {\"data\": {\"bar\": [{\"error_x\": {\"color\": \"#2a3f5f\"}, \"error_y\": {\"color\": \"#2a3f5f\"}, \"marker\": {\"line\": {\"color\": \"#E5ECF6\", \"width\": 0.5}}, \"type\": \"bar\"}], \"barpolar\": [{\"marker\": {\"line\": {\"color\": \"#E5ECF6\", \"width\": 0.5}}, \"type\": \"barpolar\"}], \"carpet\": [{\"aaxis\": {\"endlinecolor\": \"#2a3f5f\", \"gridcolor\": \"white\", \"linecolor\": \"white\", \"minorgridcolor\": \"white\", \"startlinecolor\": \"#2a3f5f\"}, \"baxis\": {\"endlinecolor\": \"#2a3f5f\", \"gridcolor\": \"white\", \"linecolor\": \"white\", \"minorgridcolor\": \"white\", \"startlinecolor\": \"#2a3f5f\"}, \"type\": \"carpet\"}], \"choropleth\": [{\"colorbar\": {\"outlinewidth\": 0, \"ticks\": \"\"}, \"type\": \"choropleth\"}], \"contour\": [{\"colorbar\": {\"outlinewidth\": 0, \"ticks\": \"\"}, \"colorscale\": [[0.0, \"#0d0887\"], [0.1111111111111111, \"#46039f\"], [0.2222222222222222, \"#7201a8\"], [0.3333333333333333, \"#9c179e\"], [0.4444444444444444, \"#bd3786\"], [0.5555555555555556, \"#d8576b\"], [0.6666666666666666, \"#ed7953\"], [0.7777777777777778, \"#fb9f3a\"], [0.8888888888888888, \"#fdca26\"], [1.0, \"#f0f921\"]], \"type\": \"contour\"}], \"contourcarpet\": [{\"colorbar\": {\"outlinewidth\": 0, \"ticks\": \"\"}, \"type\": \"contourcarpet\"}], \"heatmap\": [{\"colorbar\": {\"outlinewidth\": 0, \"ticks\": \"\"}, \"colorscale\": [[0.0, \"#0d0887\"], [0.1111111111111111, \"#46039f\"], [0.2222222222222222, \"#7201a8\"], [0.3333333333333333, \"#9c179e\"], [0.4444444444444444, \"#bd3786\"], [0.5555555555555556, \"#d8576b\"], [0.6666666666666666, \"#ed7953\"], [0.7777777777777778, \"#fb9f3a\"], [0.8888888888888888, \"#fdca26\"], [1.0, \"#f0f921\"]], \"type\": \"heatmap\"}], \"heatmapgl\": [{\"colorbar\": {\"outlinewidth\": 0, \"ticks\": \"\"}, \"colorscale\": [[0.0, \"#0d0887\"], [0.1111111111111111, \"#46039f\"], [0.2222222222222222, \"#7201a8\"], [0.3333333333333333, \"#9c179e\"], [0.4444444444444444, \"#bd3786\"], [0.5555555555555556, \"#d8576b\"], [0.6666666666666666, \"#ed7953\"], [0.7777777777777778, \"#fb9f3a\"], [0.8888888888888888, \"#fdca26\"], [1.0, \"#f0f921\"]], \"type\": \"heatmapgl\"}], \"histogram\": [{\"marker\": {\"colorbar\": {\"outlinewidth\": 0, \"ticks\": \"\"}}, \"type\": \"histogram\"}], \"histogram2d\": [{\"colorbar\": {\"outlinewidth\": 0, \"ticks\": \"\"}, \"colorscale\": [[0.0, \"#0d0887\"], [0.1111111111111111, \"#46039f\"], [0.2222222222222222, \"#7201a8\"], [0.3333333333333333, \"#9c179e\"], [0.4444444444444444, \"#bd3786\"], [0.5555555555555556, \"#d8576b\"], [0.6666666666666666, \"#ed7953\"], [0.7777777777777778, \"#fb9f3a\"], [0.8888888888888888, \"#fdca26\"], [1.0, \"#f0f921\"]], \"type\": \"histogram2d\"}], \"histogram2dcontour\": [{\"colorbar\": {\"outlinewidth\": 0, \"ticks\": \"\"}, \"colorscale\": [[0.0, \"#0d0887\"], [0.1111111111111111, \"#46039f\"], [0.2222222222222222, \"#7201a8\"], [0.3333333333333333, \"#9c179e\"], [0.4444444444444444, \"#bd3786\"], [0.5555555555555556, \"#d8576b\"], [0.6666666666666666, \"#ed7953\"], [0.7777777777777778, \"#fb9f3a\"], [0.8888888888888888, \"#fdca26\"], [1.0, \"#f0f921\"]], \"type\": \"histogram2dcontour\"}], \"mesh3d\": [{\"colorbar\": {\"outlinewidth\": 0, \"ticks\": \"\"}, \"type\": \"mesh3d\"}], \"parcoords\": [{\"line\": {\"colorbar\": {\"outlinewidth\": 0, \"ticks\": \"\"}}, \"type\": \"parcoords\"}], \"pie\": [{\"automargin\": true, \"type\": \"pie\"}], \"scatter\": [{\"marker\": {\"colorbar\": {\"outlinewidth\": 0, \"ticks\": \"\"}}, \"type\": \"scatter\"}], \"scatter3d\": [{\"line\": {\"colorbar\": {\"outlinewidth\": 0, \"ticks\": \"\"}}, \"marker\": {\"colorbar\": {\"outlinewidth\": 0, \"ticks\": \"\"}}, \"type\": \"scatter3d\"}], \"scattercarpet\": [{\"marker\": {\"colorbar\": {\"outlinewidth\": 0, \"ticks\": \"\"}}, \"type\": \"scattercarpet\"}], \"scattergeo\": [{\"marker\": {\"colorbar\": {\"outlinewidth\": 0, \"ticks\": \"\"}}, \"type\": \"scattergeo\"}], \"scattergl\": [{\"marker\": {\"colorbar\": {\"outlinewidth\": 0, \"ticks\": \"\"}}, \"type\": \"scattergl\"}], \"scattermapbox\": [{\"marker\": {\"colorbar\": {\"outlinewidth\": 0, \"ticks\": \"\"}}, \"type\": \"scattermapbox\"}], \"scatterpolar\": [{\"marker\": {\"colorbar\": {\"outlinewidth\": 0, \"ticks\": \"\"}}, \"type\": \"scatterpolar\"}], \"scatterpolargl\": [{\"marker\": {\"colorbar\": {\"outlinewidth\": 0, \"ticks\": \"\"}}, \"type\": \"scatterpolargl\"}], \"scatterternary\": [{\"marker\": {\"colorbar\": {\"outlinewidth\": 0, \"ticks\": \"\"}}, \"type\": \"scatterternary\"}], \"surface\": [{\"colorbar\": {\"outlinewidth\": 0, \"ticks\": \"\"}, \"colorscale\": [[0.0, \"#0d0887\"], [0.1111111111111111, \"#46039f\"], [0.2222222222222222, \"#7201a8\"], [0.3333333333333333, \"#9c179e\"], [0.4444444444444444, \"#bd3786\"], [0.5555555555555556, \"#d8576b\"], [0.6666666666666666, \"#ed7953\"], [0.7777777777777778, \"#fb9f3a\"], [0.8888888888888888, \"#fdca26\"], [1.0, \"#f0f921\"]], \"type\": \"surface\"}], \"table\": [{\"cells\": {\"fill\": {\"color\": \"#EBF0F8\"}, \"line\": {\"color\": \"white\"}}, \"header\": {\"fill\": {\"color\": \"#C8D4E3\"}, \"line\": {\"color\": \"white\"}}, \"type\": \"table\"}]}, \"layout\": {\"annotationdefaults\": {\"arrowcolor\": \"#2a3f5f\", \"arrowhead\": 0, \"arrowwidth\": 1}, \"coloraxis\": {\"colorbar\": {\"outlinewidth\": 0, \"ticks\": \"\"}}, \"colorscale\": {\"diverging\": [[0, \"#8e0152\"], [0.1, \"#c51b7d\"], [0.2, \"#de77ae\"], [0.3, \"#f1b6da\"], [0.4, \"#fde0ef\"], [0.5, \"#f7f7f7\"], [0.6, \"#e6f5d0\"], [0.7, \"#b8e186\"], [0.8, \"#7fbc41\"], [0.9, \"#4d9221\"], [1, \"#276419\"]], \"sequential\": [[0.0, \"#0d0887\"], [0.1111111111111111, \"#46039f\"], [0.2222222222222222, \"#7201a8\"], [0.3333333333333333, \"#9c179e\"], [0.4444444444444444, \"#bd3786\"], [0.5555555555555556, \"#d8576b\"], [0.6666666666666666, \"#ed7953\"], [0.7777777777777778, \"#fb9f3a\"], [0.8888888888888888, \"#fdca26\"], [1.0, \"#f0f921\"]], \"sequentialminus\": [[0.0, \"#0d0887\"], [0.1111111111111111, \"#46039f\"], [0.2222222222222222, \"#7201a8\"], [0.3333333333333333, \"#9c179e\"], [0.4444444444444444, \"#bd3786\"], [0.5555555555555556, \"#d8576b\"], [0.6666666666666666, \"#ed7953\"], [0.7777777777777778, \"#fb9f3a\"], [0.8888888888888888, \"#fdca26\"], [1.0, \"#f0f921\"]]}, \"colorway\": [\"#636efa\", \"#EF553B\", \"#00cc96\", \"#ab63fa\", \"#FFA15A\", \"#19d3f3\", \"#FF6692\", \"#B6E880\", \"#FF97FF\", \"#FECB52\"], \"font\": {\"color\": \"#2a3f5f\"}, \"geo\": {\"bgcolor\": \"white\", \"lakecolor\": \"white\", \"landcolor\": \"#E5ECF6\", \"showlakes\": true, \"showland\": true, \"subunitcolor\": \"white\"}, \"hoverlabel\": {\"align\": \"left\"}, \"hovermode\": \"closest\", \"mapbox\": {\"style\": \"light\"}, \"paper_bgcolor\": \"white\", \"plot_bgcolor\": \"#E5ECF6\", \"polar\": {\"angularaxis\": {\"gridcolor\": \"white\", \"linecolor\": \"white\", \"ticks\": \"\"}, \"bgcolor\": \"#E5ECF6\", \"radialaxis\": {\"gridcolor\": \"white\", \"linecolor\": \"white\", \"ticks\": \"\"}}, \"scene\": {\"xaxis\": {\"backgroundcolor\": \"#E5ECF6\", \"gridcolor\": \"white\", \"gridwidth\": 2, \"linecolor\": \"white\", \"showbackground\": true, \"ticks\": \"\", \"zerolinecolor\": \"white\"}, \"yaxis\": {\"backgroundcolor\": \"#E5ECF6\", \"gridcolor\": \"white\", \"gridwidth\": 2, \"linecolor\": \"white\", \"showbackground\": true, \"ticks\": \"\", \"zerolinecolor\": \"white\"}, \"zaxis\": {\"backgroundcolor\": \"#E5ECF6\", \"gridcolor\": \"white\", \"gridwidth\": 2, \"linecolor\": \"white\", \"showbackground\": true, \"ticks\": \"\", \"zerolinecolor\": \"white\"}}, \"shapedefaults\": {\"line\": {\"color\": \"#2a3f5f\"}}, \"ternary\": {\"aaxis\": {\"gridcolor\": \"white\", \"linecolor\": \"white\", \"ticks\": \"\"}, \"baxis\": {\"gridcolor\": \"white\", \"linecolor\": \"white\", \"ticks\": \"\"}, \"bgcolor\": \"#E5ECF6\", \"caxis\": {\"gridcolor\": \"white\", \"linecolor\": \"white\", \"ticks\": \"\"}}, \"title\": {\"x\": 0.05}, \"xaxis\": {\"automargin\": true, \"gridcolor\": \"white\", \"linecolor\": \"white\", \"ticks\": \"\", \"title\": {\"standoff\": 15}, \"zerolinecolor\": \"white\", \"zerolinewidth\": 2}, \"yaxis\": {\"automargin\": true, \"gridcolor\": \"white\", \"linecolor\": \"white\", \"ticks\": \"\", \"title\": {\"standoff\": 15}, \"zerolinecolor\": \"white\", \"zerolinewidth\": 2}}}, \"title\": {\"text\": \"Absolute Error\"}},\n",
              "                        {\"responsive\": true}\n",
              "                    ).then(function(){\n",
              "                            \n",
              "var gd = document.getElementById('cdba2080-09de-4706-a8ca-802716900b73');\n",
              "var x = new MutationObserver(function (mutations, observer) {{\n",
              "        var display = window.getComputedStyle(gd).display;\n",
              "        if (!display || display === 'none') {{\n",
              "            console.log([gd, 'removed!']);\n",
              "            Plotly.purge(gd);\n",
              "            observer.disconnect();\n",
              "        }}\n",
              "}});\n",
              "\n",
              "// Listen for the removal of the full notebook cells\n",
              "var notebookContainer = gd.closest('#notebook-container');\n",
              "if (notebookContainer) {{\n",
              "    x.observe(notebookContainer, {childList: true});\n",
              "}}\n",
              "\n",
              "// Listen for the clearing of the current output cell\n",
              "var outputEl = gd.closest('.output');\n",
              "if (outputEl) {{\n",
              "    x.observe(outputEl, {childList: true});\n",
              "}}\n",
              "\n",
              "                        })\n",
              "                };\n",
              "                \n",
              "            </script>\n",
              "        </div>\n",
              "</body>\n",
              "</html>"
            ]
          },
          "metadata": {}
        }
      ]
    },
    {
      "cell_type": "code",
      "metadata": {
        "id": "PMUeg_ChvsXj"
      },
      "source": [
        ""
      ],
      "execution_count": 30,
      "outputs": []
    }
  ]
}